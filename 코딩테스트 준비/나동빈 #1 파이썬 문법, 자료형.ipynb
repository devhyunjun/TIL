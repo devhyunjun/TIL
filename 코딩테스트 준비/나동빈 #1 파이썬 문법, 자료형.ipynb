{
 "cells": [
  {
   "cell_type": "code",
   "execution_count": 9,
   "id": "835269ea",
   "metadata": {
    "scrolled": true
   },
   "outputs": [
    {
     "name": "stdout",
     "output_type": "stream",
     "text": [
      "{'홍길동': 97, '이순신': 97}\n",
      "{'홍길동': 97, '이순신': 98}\n",
      "['홍길동', '이순신']\n",
      "[97, 98]\n"
     ]
    },
    {
     "ename": "KeyError",
     "evalue": "'97'",
     "output_type": "error",
     "traceback": [
      "\u001b[1;31m---------------------------------------------------------------------------\u001b[0m",
      "\u001b[1;31mKeyError\u001b[0m                                  Traceback (most recent call last)",
      "Input \u001b[1;32mIn [9]\u001b[0m, in \u001b[0;36m<cell line: 19>\u001b[1;34m()\u001b[0m\n\u001b[0;32m     16\u001b[0m value_list \u001b[38;5;241m=\u001b[39m \u001b[38;5;28mlist\u001b[39m(b\u001b[38;5;241m.\u001b[39mvalues())\n\u001b[0;32m     17\u001b[0m \u001b[38;5;28mprint\u001b[39m(value_list)\n\u001b[1;32m---> 19\u001b[0m \u001b[43mb\u001b[49m\u001b[43m[\u001b[49m\u001b[38;5;124;43m'\u001b[39;49m\u001b[38;5;124;43m97\u001b[39;49m\u001b[38;5;124;43m'\u001b[39;49m\u001b[43m]\u001b[49m\n",
      "\u001b[1;31mKeyError\u001b[0m: '97'"
     ]
    }
   ],
   "source": [
    "a = dict()\n",
    "a['홍길동'] = 97\n",
    "a['이순신'] = 97\n",
    "\n",
    "print(a)\n",
    "b = {\n",
    "    '홍길동' : 97,\n",
    "    '이순신' : 98\n",
    "}\n",
    "\n",
    "print(b)\n",
    "\n",
    "key_list = list(b.keys())\n",
    "print(key_list)\n",
    "\n",
    "value_list = list(b.values())\n",
    "print(value_list)\n",
    "\n",
    "b['97']"
   ]
  },
  {
   "cell_type": "code",
   "execution_count": 10,
   "id": "bdfe0357",
   "metadata": {},
   "outputs": [
    {
     "name": "stdout",
     "output_type": "stream",
     "text": [
      "\n"
     ]
    }
   ],
   "source": [
    "import sys\n",
    "\n",
    "data = sys.stdin.readline().rstrip()\n",
    "print(data)"
   ]
  },
  {
   "cell_type": "code",
   "execution_count": 13,
   "id": "2599a9aa",
   "metadata": {},
   "outputs": [
    {
     "name": "stdout",
     "output_type": "stream",
     "text": [
      "1 2\n",
      "1 2"
     ]
    }
   ],
   "source": [
    "a=1\n",
    "b=2\n",
    "print(a, b)\n",
    "print(a,b, end='')"
   ]
  },
  {
   "cell_type": "code",
   "execution_count": 2,
   "id": "6320422d",
   "metadata": {},
   "outputs": [
    {
     "name": "stdout",
     "output_type": "stream",
     "text": [
      "1 번 학생은 합격입니다.\n",
      "5 번 학생은 합격입니다.\n"
     ]
    }
   ],
   "source": [
    "scores = [90, 85, 77, 65, 97]\n",
    "cheating_student_list = {2, 4}\n",
    "\n",
    "for i in range(5):\n",
    "    if i + 1 in cheating_student_list:\n",
    "        continue\n",
    "    if scores[i] >= 80:\n",
    "        print(i+1, \"번 학생은 합격입니다.\")"
   ]
  },
  {
   "cell_type": "code",
   "execution_count": 3,
   "id": "b609734b",
   "metadata": {},
   "outputs": [
    {
     "name": "stdout",
     "output_type": "stream",
     "text": [
      "10\n"
     ]
    }
   ],
   "source": [
    "a = 0\n",
    "\n",
    "def func():\n",
    "    global a\n",
    "    a += 1\n",
    "\n",
    "for i in range(10):\n",
    "    func()\n",
    "\n",
    "print(a)"
   ]
  },
  {
   "cell_type": "code",
   "execution_count": 6,
   "id": "df686aa8",
   "metadata": {},
   "outputs": [
    {
     "name": "stdout",
     "output_type": "stream",
     "text": [
      "10\n",
      "[7, 9, 11, 13, 15]\n"
     ]
    }
   ],
   "source": [
    "print((lambda a, b: a+b)(3,7))\n",
    "\n",
    "list1 = [1, 2, 3, 4, 5]\n",
    "list2 = [6, 7, 8, 9, 10]\n",
    "\n",
    "result = map(lambda a, b: a + b, list1, list2)\n",
    "print(list(result))"
   ]
  },
  {
   "cell_type": "code",
   "execution_count": 7,
   "id": "e0ec3b69",
   "metadata": {},
   "outputs": [
    {
     "name": "stdout",
     "output_type": "stream",
     "text": [
      "[('이순신', 75), ('아무개', 50), ('홍길동', 35)]\n"
     ]
    }
   ],
   "source": [
    "array = [('홍길동', 35), ('이순신', 75), ('아무개', 50)]\n",
    "result = sorted(array, key=lambda x: x[1], reverse=True)\n",
    "print(result)"
   ]
  },
  {
   "cell_type": "code",
   "execution_count": 8,
   "id": "90373a6c",
   "metadata": {},
   "outputs": [
    {
     "name": "stdout",
     "output_type": "stream",
     "text": [
      "[('A', 'B', 'C'), ('A', 'C', 'B'), ('B', 'A', 'C'), ('B', 'C', 'A'), ('C', 'A', 'B'), ('C', 'B', 'A')]\n"
     ]
    }
   ],
   "source": [
    "#순열과 조합\n",
    "from itertools import permutations\n",
    "\n",
    "data = ['A', 'B', 'C']\n",
    "\n",
    "result = list(permutations(data, 3))\n",
    "print(result)\n",
    "\n",
    "from itertools import"
   ]
  },
  {
   "cell_type": "code",
   "execution_count": null,
   "id": "12ecf107",
   "metadata": {},
   "outputs": [],
   "source": []
  }
 ],
 "metadata": {
  "kernelspec": {
   "display_name": "Python 3 (ipykernel)",
   "language": "python",
   "name": "python3"
  },
  "language_info": {
   "codemirror_mode": {
    "name": "ipython",
    "version": 3
   },
   "file_extension": ".py",
   "mimetype": "text/x-python",
   "name": "python",
   "nbconvert_exporter": "python",
   "pygments_lexer": "ipython3",
   "version": "3.9.12"
  }
 },
 "nbformat": 4,
 "nbformat_minor": 5
}
