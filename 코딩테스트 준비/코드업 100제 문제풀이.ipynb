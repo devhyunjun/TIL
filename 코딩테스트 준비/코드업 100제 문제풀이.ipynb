{
 "cells": [
  {
   "cell_type": "code",
   "execution_count": 24,
   "id": "0da0a9c7",
   "metadata": {},
   "outputs": [
    {
     "name": "stdout",
     "output_type": "stream",
     "text": [
      "0 0 0 0 0 0 0 0 0 0 0 0 0 0 0 0 0 0 0\n",
      "0 0 0 0 0 0 0 0 0 0 0 0 0 0 0 0 0 0 0\n",
      "0 0 0 0 0 0 0 0 0 0 0 0 0 0 0 0 0 0 0\n",
      "0 0 0 0 0 0 0 0 0 0 0 0 0 0 0 0 0 0 0\n",
      "0 0 0 0 0 0 0 0 0 0 0 0 0 0 0 0 0 0 0\n",
      "0 0 0 0 0 0 0 0 0 0 0 0 0 0 0 0 0 0 0\n",
      "0 0 0 0 0 0 0 0 0 0 0 0 0 0 0 0 0 0 0\n",
      "0 0 0 0 0 0 0 0 0 0 0 0 0 0 0 0 0 0 0\n",
      "0 0 0 0 0 0 0 0 0 0 0 0 0 0 0 0 0 0 0\n",
      "0 0 0 0 0 0 0 0 0 0 0 0 0 0 0 0 0 0 0\n",
      "0 0 0 0 0 0 0 0 0 0 0 0 0 0 0 0 0 0 0\n",
      "0 0 0 0 0 0 0 0 0 0 0 0 0 0 0 0 0 0 0\n",
      "0 0 0 0 0 0 0 0 0 0 0 0 0 0 0 0 0 0 0\n",
      "0 0 0 0 0 0 0 0 0 0 0 0 0 0 0 0 0 0 0\n",
      "0 0 0 0 0 0 0 0 0 0 0 0 0 0 0 0 0 0 0\n",
      "0 0 0 0 0 0 0 0 0 0 0 0 0 0 0 0 0 0 0\n",
      "0 0 0 0 0 0 0 0 0 0 0 0 0 0 0 0 0 0 0\n",
      "0 0 0 0 0 0 0 0 0 0 0 0 0 0 0 0 0 0 0\n",
      "0 0 0 0 0 0 0 0 0 0 0 0 0 0 0 0 0 0 0\n",
      "2\n",
      "10 10\n",
      "12 12\n",
      "0 0 0 0 0 0 0 0 0 0 1 0 1 0 0 0 0 0 0 \n",
      "0 0 0 0 0 0 0 0 0 0 1 0 1 0 0 0 0 0 0 \n",
      "0 0 0 0 0 0 0 0 0 0 1 0 1 0 0 0 0 0 0 \n",
      "0 0 0 0 0 0 0 0 0 0 1 0 1 0 0 0 0 0 0 \n",
      "0 0 0 0 0 0 0 0 0 0 1 0 1 0 0 0 0 0 0 \n",
      "0 0 0 0 0 0 0 0 0 0 1 0 1 0 0 0 0 0 0 \n",
      "0 0 0 0 0 0 0 0 0 0 1 0 1 0 0 0 0 0 0 \n",
      "0 0 0 0 0 0 0 0 0 0 1 0 1 0 0 0 0 0 0 \n",
      "0 0 0 0 0 0 0 0 0 0 1 0 1 0 0 0 0 0 0 \n",
      "0 0 0 0 0 0 0 0 0 0 1 0 1 0 0 0 0 0 0 \n",
      "1 1 1 1 1 1 1 1 1 1 0 1 0 1 1 1 1 1 1 \n",
      "0 0 0 0 0 0 0 0 0 0 1 0 1 0 0 0 0 0 0 \n",
      "1 1 1 1 1 1 1 1 1 1 0 1 0 1 1 1 1 1 1 \n",
      "0 0 0 0 0 0 0 0 0 0 1 0 1 0 0 0 0 0 0 \n",
      "0 0 0 0 0 0 0 0 0 0 1 0 1 0 0 0 0 0 0 \n",
      "0 0 0 0 0 0 0 0 0 0 1 0 1 0 0 0 0 0 0 \n",
      "0 0 0 0 0 0 0 0 0 0 1 0 1 0 0 0 0 0 0 \n",
      "0 0 0 0 0 0 0 0 0 0 1 0 1 0 0 0 0 0 0 \n",
      "0 0 0 0 0 0 0 0 0 0 1 0 1 0 0 0 0 0 0 \n"
     ]
    }
   ],
   "source": [
    "d=[]\n",
    "for i in range(20) :\n",
    "    d.append([])\n",
    "    for j in range(20) : \n",
    "        d[i].append(0)\n",
    "\n",
    "for i in range(19) :\n",
    "    a = input().split()\n",
    "    for j in range(19) :\n",
    "        d[i][j] = int(a[j])\n",
    "\n",
    "n = int(input())\n",
    "for i in range(n) :\n",
    "    x,y=input().split()\n",
    "    x=int(x)\n",
    "    y=int(y)\n",
    "    for j in range(0, 19) :\n",
    "        if d[j][y]==0 :\n",
    "            d[j][y]=1\n",
    "        else :\n",
    "            d[j][y]=0\n",
    "        \n",
    "        if d[x][j]==0 :\n",
    "            d[x][j]=1\n",
    "        else :\n",
    "            d[x][j]=0\n",
    "\n",
    "for i in range(1, 20) :\n",
    "    for j in range(1, 20) :\n",
    "        print(d[i][j], end=' ')\n",
    "    print()\n"
   ]
  },
  {
   "cell_type": "code",
   "execution_count": 23,
   "id": "1f67e2f2",
   "metadata": {},
   "outputs": [
    {
     "name": "stdout",
     "output_type": "stream",
     "text": [
      "[0, 1, 1, 1, 1, 1, 1, 1, 1, 1, 1, 1, 1, 1, 1, 1, 1, 1, 1, 1]\n"
     ]
    }
   ],
   "source": [
    "print(d[10])"
   ]
  },
  {
   "cell_type": "code",
   "execution_count": 22,
   "id": "4952de05",
   "metadata": {},
   "outputs": [
    {
     "name": "stdout",
     "output_type": "stream",
     "text": [
      "10\n",
      "10 4 2 3 6 6 7 9 8 5\n",
      "2\n",
      "[2, 2, 2, 2, 2, 2, 2, 2, 2, 2]\n"
     ]
    }
   ],
   "source": [
    "n = int(input())\n",
    "a = input().split()\n",
    "\n",
    "for i in range(n):\n",
    "    a[i] = int(a[i])\n",
    "    \n",
    "\n",
    "for i in range(n):\n",
    "    for j in range(n):\n",
    "        if a[i]>=a[j]:\n",
    "            a[i]=a[j]\n",
    "        else:\n",
    "            continue\n",
    "print(a[0])"
   ]
  },
  {
   "cell_type": "code",
   "execution_count": 10,
   "id": "c844f1f6",
   "metadata": {
    "scrolled": true
   },
   "outputs": [
    {
     "name": "stdout",
     "output_type": "stream",
     "text": [
      "10\n",
      "10 4 2 3 6 6 7 9 8 5\n",
      "5 8 9 7 6 6 3 2 4 10 "
     ]
    }
   ],
   "source": [
    "n = int(input())\n",
    "a = input().split()\n",
    "\n",
    "for i in range(n):\n",
    "    a[i] = int(a[i])\n",
    "\n",
    "for i in range(n-1, -1, -1):\n",
    "    print(a[i], end=' ')"
   ]
  },
  {
   "cell_type": "code",
   "execution_count": 9,
   "id": "adb87f13",
   "metadata": {
    "scrolled": true
   },
   "outputs": [
    {
     "name": "stdout",
     "output_type": "stream",
     "text": [
      "10\n",
      "10 4 2 3 6 6 7 9 8 5\n",
      "0 0 0 0 0 0 0 0 0 0 "
     ]
    }
   ],
   "source": [
    "n = int(input())\n",
    "a = input().split()\n",
    "\n",
    "for i in range(n):\n",
    "    a[i] = int(a[i])\n",
    "\n",
    "d=[]\n",
    "for i in range(24):\n",
    "    d.append(0)\n",
    "    \n"
   ]
  },
  {
   "cell_type": "code",
   "execution_count": null,
   "id": "54b58a22",
   "metadata": {},
   "outputs": [],
   "source": [
    "n = int(input(), 16)\n",
    "\n",
    "for i in range (1, 16):\n",
    "    print('%X'%n, '*%X'%i, '=%X'%(n*i), sep=\"\")\n"
   ]
  },
  {
   "cell_type": "code",
   "execution_count": null,
   "id": "2cec6125",
   "metadata": {},
   "outputs": [],
   "source": [
    "a = int(input())\n",
    "\n",
    "s=0\n",
    "k=0\n",
    "\n",
    "while a>s:\n",
    "    k+=1\n",
    "    s=s+k\n",
    "else:\n",
    "    print(k)\n",
    "    "
   ]
  },
  {
   "cell_type": "code",
   "execution_count": 39,
   "id": "3da881f2",
   "metadata": {},
   "outputs": [
    {
     "name": "stdout",
     "output_type": "stream",
     "text": [
      "21\n",
      "1 2 X 4 5 X 7 8 X 10 11 12 X 14 15 X 17 18 X 20 21 "
     ]
    }
   ],
   "source": [
    "n = int(input())\n",
    "for i in range (1, n+1):\n",
    "        if i%10==3:\n",
    "            print(\"X\", end=' ')\n",
    "        elif i%10==6:\n",
    "            print(\"X\", end=' ')\n",
    "        elif i%10==9:\n",
    "            print(\"X\", end=' ')\n",
    "        else:\n",
    "            print(i, end=' ')"
   ]
  },
  {
   "cell_type": "code",
   "execution_count": 44,
   "id": "04d36cfa",
   "metadata": {},
   "outputs": [
    {
     "name": "stdout",
     "output_type": "stream",
     "text": [
      "2 2 2\n",
      "0 0 0\n",
      "0 0 1\n",
      "0 1 0\n",
      "0 1 1\n",
      "1 0 0\n",
      "1 0 1\n",
      "1 1 0\n",
      "1 1 1\n",
      "8\n"
     ]
    }
   ],
   "source": [
    "r, g, b = input().split()\n",
    "r = int(r)\n",
    "g = int(g)\n",
    "b = int(b)\n",
    "t = 0\n",
    "\n",
    "for i in range(0, r):\n",
    "    for j in range(0, g):\n",
    "        for k in range(0, b):\n",
    "            print(i, j, k)\n",
    "            t += 1\n",
    "print(t)"
   ]
  },
  {
   "cell_type": "code",
   "execution_count": 57,
   "id": "6935acdf",
   "metadata": {},
   "outputs": [
    {
     "name": "stdout",
     "output_type": "stream",
     "text": [
      "1024 768 24\n",
      "2.25 MB\n"
     ]
    }
   ],
   "source": [
    "w, h, b = input().split()\n",
    "w = int(w)\n",
    "h = int(h)\n",
    "b = int(b)\n",
    "\n",
    "\n",
    "k = w*h*b/8/1024/1024\n",
    "print('%.2f'%k, \"MB\")\n"
   ]
  },
  {
   "cell_type": "code",
   "execution_count": 62,
   "id": "2889879e",
   "metadata": {},
   "outputs": [
    {
     "name": "stdout",
     "output_type": "stream",
     "text": [
      "57\n",
      "66\n"
     ]
    }
   ],
   "source": [
    "n = int(input())\n",
    "c=1\n",
    "s=0\n",
    "\n",
    "while n>=s:\n",
    "    s += c\n",
    "    c += 1\n",
    "    if s>=n :\n",
    "        break\n",
    "            \n",
    "print(s)\n"
   ]
  },
  {
   "cell_type": "code",
   "execution_count": 98,
   "id": "103d44a0",
   "metadata": {},
   "outputs": [
    {
     "name": "stdout",
     "output_type": "stream",
     "text": [
      "1 -2 1 8\n",
      "-85\n"
     ]
    }
   ],
   "source": [
    "a, m, d, n = input().split()\n",
    "a = int(a)\n",
    "m = int(m)\n",
    "d = int(d)\n",
    "n = int(n)\n",
    "k=0\n",
    "\n",
    "if n==1:\n",
    "    print(a)\n",
    "    \n",
    "else:\n",
    "    k = a*m+d\n",
    "    for i in range(1, n-1):\n",
    "        k = k*m+d\n",
    "    print(k)\n"
   ]
  },
  {
   "cell_type": "code",
   "execution_count": 99,
   "id": "6a6933a5",
   "metadata": {},
   "outputs": [
    {
     "name": "stdout",
     "output_type": "stream",
     "text": [
      "3 7 9\n",
      "63\n"
     ]
    }
   ],
   "source": [
    "a, b, c = input().split()\n",
    "a = int(a)\n",
    "b = int(b)\n",
    "c = int(c)\n",
    "\n",
    "d = 1\n",
    "while d%a!=0 or d%b!=0 or d%c!=0 :\n",
    "        d += 1\n",
    "print(d)"
   ]
  },
  {
   "cell_type": "code",
   "execution_count": null,
   "id": "221b7ff8",
   "metadata": {},
   "outputs": [],
   "source": []
  }
 ],
 "metadata": {
  "kernelspec": {
   "display_name": "Python 3 (ipykernel)",
   "language": "python",
   "name": "python3"
  },
  "language_info": {
   "codemirror_mode": {
    "name": "ipython",
    "version": 3
   },
   "file_extension": ".py",
   "mimetype": "text/x-python",
   "name": "python",
   "nbconvert_exporter": "python",
   "pygments_lexer": "ipython3",
   "version": "3.9.12"
  }
 },
 "nbformat": 4,
 "nbformat_minor": 5
}
