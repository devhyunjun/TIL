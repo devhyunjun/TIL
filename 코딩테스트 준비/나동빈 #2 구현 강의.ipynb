{
 "cells": [
  {
   "cell_type": "code",
   "execution_count": 1,
   "id": "9e35e1c2",
   "metadata": {},
   "outputs": [
    {
     "name": "stdout",
     "output_type": "stream",
     "text": [
      "2 3\n",
      "1 2\n",
      "2 1\n",
      "3 2\n"
     ]
    }
   ],
   "source": [
    "dx = [0, -1, 0, 1]\n",
    "dy = [1, 0, -1, 0]\n",
    "\n",
    "x, y = 2, 2\n",
    "\n",
    "for i in range(4):\n",
    "    nx = x + dx[i]\n",
    "    ny = y + dy[i]\n",
    "    print(nx, ny)"
   ]
  },
  {
   "cell_type": "code",
   "execution_count": 21,
   "id": "e4004141",
   "metadata": {
    "scrolled": false
   },
   "outputs": [
    {
     "name": "stdout",
     "output_type": "stream",
     "text": [
      "5\n",
      "R R R U D D\n",
      "['R', 'R', 'R', 'U', 'D', 'D']\n",
      "3 4\n"
     ]
    }
   ],
   "source": [
    "#상하좌우 내 코딩\n",
    "R = [0, 1]\n",
    "L = [0, -1]\n",
    "U = [-1, 0]\n",
    "D = [1, 0]\n",
    "\n",
    "n = int(input())\n",
    "\n",
    "d= []\n",
    "\n",
    "x, y = 1, 1\n",
    "\n",
    "d.append(input().split())\n",
    "\n",
    "d = d[0]\n",
    "         \n",
    "print(d)\n",
    "\n",
    "for i in d:\n",
    "    if i == 'R' and y <= n-1:\n",
    "        y += 1\n",
    "    elif i == 'L' and y >= 2:\n",
    "        y -= 1\n",
    "    elif i == 'U' and x >= 2:\n",
    "        x -= 1\n",
    "    elif i == 'D' and x <= n-1:\n",
    "        x += 1\n",
    "\n",
    "print(x, y)"
   ]
  },
  {
   "cell_type": "code",
   "execution_count": 27,
   "id": "47dd0eb6",
   "metadata": {},
   "outputs": [
    {
     "name": "stdout",
     "output_type": "stream",
     "text": [
      "5\n",
      "R R R U D D\n",
      "3 4\n"
     ]
    }
   ],
   "source": [
    "#상하좌우 나동빈 풀이\n",
    "n = int(input())\n",
    "x, y = 1, 1\n",
    "plans = input().split()\n",
    "\n",
    "dx = [0, 0, -1, 1]\n",
    "dy = [-1, 1, 0, 0]\n",
    "move_types = ['L', 'R', 'U', 'D']\n",
    "\n",
    "for plan in plans:\n",
    "    for i in range(len(move_types)):\n",
    "        if plan == move_types[i]:\n",
    "            nx = x + dx[i]\n",
    "            ny = y + dy[i]\n",
    "        \n",
    "    if nx < 1 or ny < 1 or nx > n or ny > n:\n",
    "        continue\n",
    "        \n",
    "    x, y = nx, ny\n",
    "        \n",
    "print(x, y)"
   ]
  },
  {
   "cell_type": "code",
   "execution_count": 4,
   "id": "37eb289e",
   "metadata": {},
   "outputs": [
    {
     "name": "stdout",
     "output_type": "stream",
     "text": [
      "5\n",
      "12345\n",
      "12345\n",
      "12345\n",
      "12345\n",
      "12345\n",
      "[[1, 2, 3, 4, 5], [1, 2, 3, 4, 5], [1, 2, 3, 4, 5], [1, 2, 3, 4, 5], [1, 2, 3, 4, 5]]\n"
     ]
    }
   ],
   "source": [
    "n = int(input())\n",
    "graph = []\n",
    "for i in range(n):\n",
    "    graph.append(list(map(int, input())))\n",
    "\n",
    "print(graph)"
   ]
  },
  {
   "cell_type": "code",
   "execution_count": 4,
   "id": "d95322db",
   "metadata": {},
   "outputs": [
    {
     "name": "stdout",
     "output_type": "stream",
     "text": [
      "5\n",
      "11475\n"
     ]
    }
   ],
   "source": [
    "N = int(input())\n",
    "\n",
    "count=0\n",
    "for k in range(N+1):\n",
    "    for i in range(60):\n",
    "        for j in range(60):\n",
    "            if k//10==3 or k%10==3 or i//10==3 or i%10==3 or j//10==3 or j%10==3:\n",
    "                count += 1\n",
    "\n",
    "print(count)"
   ]
  },
  {
   "cell_type": "code",
   "execution_count": 22,
   "id": "688e7960",
   "metadata": {
    "scrolled": true
   },
   "outputs": [
    {
     "name": "stdout",
     "output_type": "stream",
     "text": [
      "a1\n",
      "2\n"
     ]
    }
   ],
   "source": [
    "#나이트 문제 내풀이\n",
    "n= input()\n",
    "\n",
    "x = ord(n[0]) - 96\n",
    "y = int(n[1])\n",
    "\n",
    "dx = [-2, -2, 2, 2, 1, -1, 1, -1]\n",
    "dy = [1, -1, 1, -1, 2, 2 , -2, -2]\n",
    "\n",
    "count =0\n",
    "\n",
    "for i in range(8):\n",
    "    nx = x + dx[i]\n",
    "    ny = y + dy[i]\n",
    "    \n",
    "    if 1<=nx<=8 and 1<=ny<=8:\n",
    "        count += 1\n",
    "        \n",
    "print(count)"
   ]
  },
  {
   "cell_type": "code",
   "execution_count": 26,
   "id": "15a6227f",
   "metadata": {},
   "outputs": [
    {
     "name": "stdout",
     "output_type": "stream",
     "text": [
      "a1\n",
      "2\n"
     ]
    }
   ],
   "source": [
    "#나이트 문제 나동빈\n",
    "input_data = input()\n",
    "row = int(input_data[1])\n",
    "column = int(ord(input_data[0])) - int(ord('a')) + 1\n",
    "\n",
    "steps = [(-2, -1), (-1, -2), (1, -2), (2, -1), (2, 1), (1, 2), (-1, 2), (-2, 1)]\n",
    "\n",
    "result = 0\n",
    "for step in steps:\n",
    "    next_row = row + step[0]\n",
    "    next_colum = column + step[1]\n",
    "    if next_row >= 1 and next_row <= 8 and next_colum >= 1 and next_colum <=8:\n",
    "        result += 1\n",
    "\n",
    "print(result)\n"
   ]
  },
  {
   "cell_type": "code",
   "execution_count": 63,
   "id": "5bb16a80",
   "metadata": {},
   "outputs": [
    {
     "name": "stdout",
     "output_type": "stream",
     "text": [
      "A51\n",
      "03"
     ]
    }
   ],
   "source": [
    "#문자열 재정렬 내 풀이\n",
    "\n",
    "S = input()\n",
    "s = []\n",
    "n = []\n",
    "\n",
    "for i in range(len(S)):\n",
    "    if S[i].isdecimal() == True:\n",
    "        n.append(S[i])\n",
    "    else:\n",
    "        s.append(S[i])\n",
    "\n",
    "s.sort()\n",
    "\n",
    "n = map(int, n)\n",
    "num = sum(n)\n",
    "\n",
    "s.append(num)\n",
    "\n",
    "for i in s:\n",
    "    print(i, end='')"
   ]
  },
  {
   "cell_type": "code",
   "execution_count": 68,
   "id": "37f870c2",
   "metadata": {},
   "outputs": [
    {
     "name": "stdout",
     "output_type": "stream",
     "text": [
      "A51\n",
      "A6"
     ]
    }
   ],
   "source": [
    "#문자열 재정렬 내 풀이\n",
    "\n",
    "S = input()\n",
    "s = []\n",
    "n = []\n",
    "\n",
    "for i in S:\n",
    "    if i.isdecimal():\n",
    "        n.append(i)\n",
    "    else:\n",
    "        s.append(i)\n",
    "\n",
    "s.sort()\n",
    "\n",
    "n = map(int, n)\n",
    "num = sum(n)\n",
    "\n",
    "s.append(num)\n",
    "\n",
    "for i in s:\n",
    "    print(i, end='')"
   ]
  },
  {
   "cell_type": "code",
   "execution_count": 65,
   "id": "49866935",
   "metadata": {},
   "outputs": [
    {
     "name": "stdout",
     "output_type": "stream",
     "text": [
      "A51\n",
      "A6\n"
     ]
    }
   ],
   "source": [
    "#문자열 재정렬 나동빈\n",
    "data = input()\n",
    "result = []\n",
    "value = 0\n",
    "\n",
    "for x in data:\n",
    "    if x.isalpha():\n",
    "        result.append(x)\n",
    "    else:\n",
    "        value += int(x)\n",
    "        \n",
    "result.sort()\n",
    "\n",
    "if value != 0:\n",
    "    result.append(str(value))\n",
    "    \n",
    "print(''.join(result))"
   ]
  },
  {
   "cell_type": "code",
   "execution_count": null,
   "id": "240a957c",
   "metadata": {},
   "outputs": [],
   "source": []
  }
 ],
 "metadata": {
  "kernelspec": {
   "display_name": "Python 3 (ipykernel)",
   "language": "python",
   "name": "python3"
  },
  "language_info": {
   "codemirror_mode": {
    "name": "ipython",
    "version": 3
   },
   "file_extension": ".py",
   "mimetype": "text/x-python",
   "name": "python",
   "nbconvert_exporter": "python",
   "pygments_lexer": "ipython3",
   "version": "3.9.12"
  }
 },
 "nbformat": 4,
 "nbformat_minor": 5
}
