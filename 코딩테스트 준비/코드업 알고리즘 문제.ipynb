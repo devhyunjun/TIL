{
 "cells": [
  {
   "cell_type": "code",
   "execution_count": 81,
   "id": "a9f07478",
   "metadata": {},
   "outputs": [
    {
     "name": "stdout",
     "output_type": "stream",
     "text": [
      "7 34\n",
      "5\n"
     ]
    }
   ],
   "source": [
    "a, b = map(int, input().split())\n",
    "\n",
    "button =0\n",
    "value = abs(b-a)\n",
    "\n",
    "if value >= 10:\n",
    "    button += value//10\n",
    "    value -= value//10*10\n",
    "\n",
    "if value >= 8:\n",
    "    button += 1\n",
    "    value = abs(10-value)    \n",
    "    \n",
    "if value >= 5:\n",
    "    button += value//5\n",
    "    value -= value//5*5\n",
    "    \n",
    "if value >= 4:\n",
    "    button += 2\n",
    "    value = 0\n",
    "    \n",
    "button = button + value\n",
    "\n",
    "print(button)"
   ]
  },
  {
   "cell_type": "code",
   "execution_count": 77,
   "id": "2b9f6401",
   "metadata": {},
   "outputs": [
    {
     "name": "stdout",
     "output_type": "stream",
     "text": [
      "3\n",
      "12 2\n",
      "200\n",
      "50\n",
      "300\n",
      "100\n",
      "37\n"
     ]
    }
   ],
   "source": [
    "#CodeUp 3321 최고의 피자(그리디)\n",
    "import math\n",
    "N = int(input())\n",
    "\n",
    "Pd, Pt = map(int, input().split())\n",
    "\n",
    "Cd = int(input())\n",
    "Ct=[]\n",
    "for i in range(N):\n",
    "    Ct.append(int(input()))\n",
    "\n",
    "Ct.sort(reverse=True)    \n",
    "  \n",
    "cal = Cd\n",
    "price = Pd\n",
    "# 초항 비교를 위해서 비교값 설정 중요! 별도의 변수를 정의해서 시작하자.\n",
    "# 초항부터 반복문으로 계산 불가.. 기반은 변수가 될 수 없다.\n",
    "\n",
    "\n",
    "for i in Ct: \n",
    "    if (i + cal)/(price+Pt)> (cal/price):\n",
    "        cal += i\n",
    "        price += Pt   \n",
    "\n",
    "print(math.trunc(cal/price))  "
   ]
  },
  {
   "cell_type": "markdown",
   "id": "fb1b25f1",
   "metadata": {},
   "source": [
    "##### 거스름돈 문제\n",
    "n = int(input())\n",
    "\n",
    "df = [50000, 10000, 5000, 1000, 500, 100, 50, 10]\n",
    "result = 0\n",
    "\n",
    "for i in df:\n",
    "    if n/i >= 1:\n",
    "        result += n//i\n",
    "        n  = n % i\n",
    "    else:\n",
    "        continue\n",
    "\n",
    "print(result)\n"
   ]
  },
  {
   "cell_type": "code",
   "execution_count": 7,
   "id": "64d16b56",
   "metadata": {},
   "outputs": [
    {
     "name": "stdout",
     "output_type": "stream",
     "text": [
      "800\n",
      "700\n",
      "900\n",
      "198\n",
      "330\n",
      "987.8\n"
     ]
    }
   ],
   "source": [
    "p1 = int(input())\n",
    "p2 = int(input())\n",
    "p3 = int(input())\n",
    "s1 = int(input())\n",
    "s2 = int(input())\n",
    "p = [p1, p2, p3]\n",
    "s = [s1, s2]\n",
    "\n",
    "p.sort()\n",
    "s.sort()\n",
    "\n",
    "menu = 1.1*(p[0]+s[0])\n",
    "\n",
    "\n",
    "\n",
    "print(round(menu, 1))"
   ]
  },
  {
   "cell_type": "code",
   "execution_count": 63,
   "id": "21b9ec03",
   "metadata": {},
   "outputs": [
    {
     "name": "stdout",
     "output_type": "stream",
     "text": [
      "5\n",
      "1 2 2 3 3\n",
      "2\n"
     ]
    }
   ],
   "source": [
    "# 모험가 길드\n",
    "n = int(input())\n",
    "data = list(map(int, input().split()))\n",
    "data.sort()\n",
    "\n",
    "result = 0\n",
    "count = 0\n",
    "\n",
    "for i in data:\n",
    "    count +=1\n",
    "    if count >= i:\n",
    "        result +=1\n",
    "        count =0\n",
    "        \n",
    "print(result)"
   ]
  },
  {
   "cell_type": "code",
   "execution_count": 35,
   "id": "25411e51",
   "metadata": {},
   "outputs": [
    {
     "name": "stdout",
     "output_type": "stream",
     "text": [
      "02983\n",
      "432\n"
     ]
    }
   ],
   "source": [
    "data = input()\n",
    "result = int(data[0])\n",
    "\n",
    "for i in range(1, len(data)):\n",
    "    num = int(data[i])\n",
    "    if num <= 1 or result<=1: # 현재값도 0이면 안됨..\n",
    "        result+= num\n",
    "    else:\n",
    "        result *= num\n",
    "        \n",
    "print(result)\n"
   ]
  },
  {
   "cell_type": "code",
   "execution_count": 67,
   "id": "23c02eb0",
   "metadata": {},
   "outputs": [
    {
     "name": "stdout",
     "output_type": "stream",
     "text": [
      "[0, 1, 2, 3, 4, 5, 6, 7, 8, 9, 10, 11, 12, 13, 14, 15, 16, 17, 18, 19, 20, 21, 22, 23, 24, 25, 26, 27, 28, 29, 30, 31, 32, 33, 34, 35, 36, 37, 38, 39, 40, 41, 42, 43, 44, 45, 46, 47, 48, 49]\n"
     ]
    },
    {
     "ename": "NameError",
     "evalue": "name 'm' is not defined",
     "output_type": "error",
     "traceback": [
      "\u001b[1;31m---------------------------------------------------------------------------\u001b[0m",
      "\u001b[1;31mNameError\u001b[0m                                 Traceback (most recent call last)",
      "Input \u001b[1;32mIn [67]\u001b[0m, in \u001b[0;36m<cell line: 4>\u001b[1;34m()\u001b[0m\n\u001b[0;32m      1\u001b[0m a \u001b[38;5;241m=\u001b[39m [i \u001b[38;5;28;01mfor\u001b[39;00m i \u001b[38;5;129;01min\u001b[39;00m \u001b[38;5;28mrange\u001b[39m(\u001b[38;5;241m50\u001b[39m)]\n\u001b[0;32m      2\u001b[0m \u001b[38;5;28mprint\u001b[39m(a)\n\u001b[1;32m----> 4\u001b[0m array \u001b[38;5;241m=\u001b[39m [[\u001b[38;5;241m0\u001b[39m]\u001b[38;5;241m*\u001b[39mm \u001b[38;5;28;01mfor\u001b[39;00m _ \u001b[38;5;129;01min\u001b[39;00m \u001b[38;5;28mrange\u001b[39m(n)]\n\u001b[0;32m      6\u001b[0m a \u001b[38;5;241m=\u001b[39m [\u001b[38;5;241m1\u001b[39m, \u001b[38;5;241m2\u001b[39m, \u001b[38;5;241m3\u001b[39m, \u001b[38;5;241m4\u001b[39m, \u001b[38;5;241m5\u001b[39m, \u001b[38;5;241m5\u001b[39m, \u001b[38;5;241m5\u001b[39m]\n\u001b[0;32m      7\u001b[0m remove_set \u001b[38;5;241m=\u001b[39m {\u001b[38;5;241m3\u001b[39m, \u001b[38;5;241m5\u001b[39m}\n",
      "Input \u001b[1;32mIn [67]\u001b[0m, in \u001b[0;36m<listcomp>\u001b[1;34m(.0)\u001b[0m\n\u001b[0;32m      1\u001b[0m a \u001b[38;5;241m=\u001b[39m [i \u001b[38;5;28;01mfor\u001b[39;00m i \u001b[38;5;129;01min\u001b[39;00m \u001b[38;5;28mrange\u001b[39m(\u001b[38;5;241m50\u001b[39m)]\n\u001b[0;32m      2\u001b[0m \u001b[38;5;28mprint\u001b[39m(a)\n\u001b[1;32m----> 4\u001b[0m array \u001b[38;5;241m=\u001b[39m [[\u001b[38;5;241m0\u001b[39m]\u001b[38;5;241m*\u001b[39m\u001b[43mm\u001b[49m \u001b[38;5;28;01mfor\u001b[39;00m _ \u001b[38;5;129;01min\u001b[39;00m \u001b[38;5;28mrange\u001b[39m(n)]\n\u001b[0;32m      6\u001b[0m a \u001b[38;5;241m=\u001b[39m [\u001b[38;5;241m1\u001b[39m, \u001b[38;5;241m2\u001b[39m, \u001b[38;5;241m3\u001b[39m, \u001b[38;5;241m4\u001b[39m, \u001b[38;5;241m5\u001b[39m, \u001b[38;5;241m5\u001b[39m, \u001b[38;5;241m5\u001b[39m]\n\u001b[0;32m      7\u001b[0m remove_set \u001b[38;5;241m=\u001b[39m {\u001b[38;5;241m3\u001b[39m, \u001b[38;5;241m5\u001b[39m}\n",
      "\u001b[1;31mNameError\u001b[0m: name 'm' is not defined"
     ]
    }
   ],
   "source": [
    "a = [i for i in range(50)]\n",
    "print(a)\n",
    "\n",
    "array = [[0]*m for _ in range(n)]\n",
    "\n"
   ]
  },
  {
   "cell_type": "code",
   "execution_count": 68,
   "id": "a8c2a7f0",
   "metadata": {},
   "outputs": [
    {
     "name": "stdout",
     "output_type": "stream",
     "text": [
      "[1, 2, 4]\n"
     ]
    }
   ],
   "source": [
    "a = [1, 2, 3, 4, 5, 5, 5]\n",
    "remove_set = {3, 5}\n",
    "\n",
    "result = [i for i in a if i not in remove_set]\n",
    "print(result)"
   ]
  },
  {
   "cell_type": "code",
   "execution_count": 64,
   "id": "130d3d08",
   "metadata": {},
   "outputs": [
    {
     "name": "stdout",
     "output_type": "stream",
     "text": [
      "[0, 0, 0, 0, 0, 0, 0, 0, 0]\n"
     ]
    }
   ],
   "source": [
    "a = [1, 2, 3, 4, 5, 6, 7, 8, 9]\n",
    "n = 9\n",
    "a = [0]*n\n",
    "print(a)"
   ]
  },
  {
   "cell_type": "code",
   "execution_count": 19,
   "id": "68c56a93",
   "metadata": {},
   "outputs": [
    {
     "name": "stdout",
     "output_type": "stream",
     "text": [
      "5\n",
      "5\n",
      "4\n",
      "3\n",
      "1\n",
      "2\n",
      "1\n",
      "2\n",
      "3\n",
      "4\n",
      "5\n"
     ]
    }
   ],
   "source": [
    "N = int(input())\n",
    "M=[]\n",
    "\n",
    "for i in range(N):\n",
    "    M.append(int(input()))\n",
    "    \n",
    "for i in range(1, len(M)):\n",
    "    while (i>0) & (M[i]<M[i-1]):\n",
    "        M[i], M[i-1] = M[i-1], M[i]\n",
    "        \n",
    "        i-=1\n",
    "\n",
    "for n in M:\n",
    "    print(n)"
   ]
  },
  {
   "cell_type": "code",
   "execution_count": 20,
   "id": "f0d9f5b9",
   "metadata": {},
   "outputs": [
    {
     "name": "stdout",
     "output_type": "stream",
     "text": [
      "25 5\n",
      "2\n"
     ]
    }
   ],
   "source": [
    "N, K = map(int, input().split())\n",
    "\n",
    "t = 0\n",
    "\n",
    "while N>1:\n",
    "    if N%K==0:\n",
    "        N = N/K\n",
    "        t += 1\n",
    "    else:\n",
    "        N -= 1\n",
    "        t += 1\n",
    "print(t)"
   ]
  },
  {
   "cell_type": "code",
   "execution_count": null,
   "id": "9df53fbe",
   "metadata": {},
   "outputs": [],
   "source": [
    "n, k = map(int, input().split())\n",
    "\n",
    "result = 0\n",
    "\n",
    "while True:\n",
    "    target = (n//k)*k\n",
    "    result += (n - target)\n",
    "    n = target\n",
    "    \n",
    "    if n <k :\n",
    "         break\n",
    "            \n",
    "    result += 1\n",
    "    n //= k\n",
    "\n",
    "result += (n-1)\n",
    "print(result)"
   ]
  },
  {
   "cell_type": "code",
   "execution_count": null,
   "id": "e1004122",
   "metadata": {},
   "outputs": [],
   "source": [
    "for i in range(1, len(data)):\n",
    "    if int(data[i]) == 0:\n",
    "        result = result + int(data[i])\n",
    "    else:\n",
    "        result = result * int(data[i])\n",
    "        \n",
    "print(result)"
   ]
  },
  {
   "cell_type": "code",
   "execution_count": null,
   "id": "e103b868",
   "metadata": {},
   "outputs": [],
   "source": []
  }
 ],
 "metadata": {
  "kernelspec": {
   "display_name": "Python 3 (ipykernel)",
   "language": "python",
   "name": "python3"
  },
  "language_info": {
   "codemirror_mode": {
    "name": "ipython",
    "version": 3
   },
   "file_extension": ".py",
   "mimetype": "text/x-python",
   "name": "python",
   "nbconvert_exporter": "python",
   "pygments_lexer": "ipython3",
   "version": "3.9.12"
  }
 },
 "nbformat": 4,
 "nbformat_minor": 5
}
