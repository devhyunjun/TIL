{
 "cells": [
  {
   "cell_type": "code",
   "execution_count": 3,
   "metadata": {},
   "outputs": [
    {
     "name": "stderr",
     "output_type": "stream",
     "text": [
      "c:\\Users\\USER_20211027\\anaconda3\\lib\\site-packages\\pandas\\io\\sql.py:761: UserWarning: pandas only support SQLAlchemy connectable(engine/connection) ordatabase string URI or sqlite3 DBAPI2 connectionother DBAPI2 objects are not tested, please consider using SQLAlchemy\n",
      "  warnings.warn(\n"
     ]
    }
   ],
   "source": [
    "# MySQL 에서 df 가져오는 코드 \n",
    "import pymysql\n",
    "import pandas as pd\n",
    "import matplotlib as mpl\n",
    "import matplotlib.font_manager as fm\n",
    "pd.set_option('display.max_columns', None)\n",
    "\n",
    "# 폰트 설정 \n",
    "# font_name = fm.FontProperties(fname=\"/Library/Fonts/AppleGothic.ttf\").get_name()\n",
    "font_name = fm.FontProperties(fname='C:/Windows/Fonts/malgun.ttf' ).get_name()\n",
    "mpl.rc('font', family=font_name)\n",
    "\n",
    "# 데이터베이스에 연결 \n",
    "cnx = pymysql.connect(user=')\n",
    "\n",
    "query = 'SELECT * FROM zigbang_project.zb_table;'\n",
    "\n",
    "df = pd.read_sql(query, cnx)\n",
    "\n",
    "# Close the database connection\n",
    "cnx.close()"
   ]
  },
  {
   "cell_type": "code",
   "execution_count": 9,
   "metadata": {},
   "outputs": [],
   "source": [
    "# 전월세 이자율 7% 기준을 통합\n",
    "df['deposit+rent']= df['deposit']*0.07/12 + df['rent']"
   ]
  },
  {
   "cell_type": "code",
   "execution_count": 15,
   "metadata": {},
   "outputs": [
    {
     "data": {
      "text/plain": [
       "128      84.166667\n",
       "200      64.166667\n",
       "220      39.166667\n",
       "236      89.166667\n",
       "245      54.166667\n",
       "           ...    \n",
       "34582    84.166667\n",
       "34595    99.166667\n",
       "34605    74.166667\n",
       "34644    29.166667\n",
       "34651    29.166667\n",
       "Name: deposit+rent, Length: 2587, dtype: float64"
      ]
     },
     "execution_count": 15,
     "metadata": {},
     "output_type": "execute_result"
    }
   ],
   "source": [
    "df['deposit+rent'][df['deposit']==5000]"
   ]
  },
  {
   "cell_type": "code",
   "execution_count": 29,
   "metadata": {},
   "outputs": [
    {
     "data": {
      "text/plain": [
       "id                                  36598666\n",
       "service_type                              원룸\n",
       "address1                      서울시 영등포구 양평동1가\n",
       "address2                                 136\n",
       "_floor                                     7\n",
       "                                   ...      \n",
       "ppltn_tot_transfer_in_cnt              79309\n",
       "ppltn_tot_transfer_out_cnt             68526\n",
       "ppltn_Net_migration_cnt                10783\n",
       "safety_idx                                16\n",
       "deposit+rent                       84.166667\n",
       "Name: 128, Length: 154, dtype: object"
      ]
     },
     "execution_count": 29,
     "metadata": {},
     "output_type": "execute_result"
    }
   ],
   "source": [
    "# df.loc[34651,['deposit','rent','deposit+rent']]\n",
    "df.loc[128,:]"
   ]
  },
  {
   "cell_type": "code",
   "execution_count": 35,
   "metadata": {},
   "outputs": [],
   "source": [
    "a =df.columns[0:24].tolist"
   ]
  },
  {
   "cell_type": "code",
   "execution_count": 43,
   "metadata": {},
   "outputs": [],
   "source": [
    "# 관리비 포함 옵션 갯수\n",
    "df['manage_cost_inc']\n",
    "df['manage_cost_inc_num'] = df['manage_cost_inc'].str.split(',').apply(len)"
   ]
  },
  {
   "cell_type": "code",
   "execution_count": 46,
   "metadata": {},
   "outputs": [],
   "source": [
    "df['near_subways']\n",
    "df['near_subways_num'] = df['near_subways'].str.split(',').apply(len)"
   ]
  },
  {
   "cell_type": "code",
   "execution_count": 47,
   "metadata": {},
   "outputs": [
    {
     "data": {
      "text/plain": [
       "0        3\n",
       "1        2\n",
       "2        2\n",
       "3        1\n",
       "4        2\n",
       "        ..\n",
       "34677    1\n",
       "34678    1\n",
       "34679    2\n",
       "34680    1\n",
       "34681    1\n",
       "Name: near_subways_num, Length: 34682, dtype: int64"
      ]
     },
     "execution_count": 47,
     "metadata": {},
     "output_type": "execute_result"
    }
   ],
   "source": [
    "# df['near_subways_num']"
   ]
  },
  {
   "cell_type": "code",
   "execution_count": 49,
   "metadata": {},
   "outputs": [],
   "source": [
    "df['options_num'] = df['options'].str.split(',').apply(len)"
   ]
  },
  {
   "cell_type": "code",
   "execution_count": 58,
   "metadata": {},
   "outputs": [
    {
     "data": {
      "text/plain": [
       "array(['동향', '남향', '서향', ..., '동향', '남서향', '남향'], dtype=object)"
      ]
     },
     "execution_count": 58,
     "metadata": {},
     "output_type": "execute_result"
    }
   ],
   "source": [
    "# 방향 점수화 해서 넣는거 어떰?\n",
    "df['room_direction_text'].values"
   ]
  },
  {
   "cell_type": "code",
   "execution_count": 76,
   "metadata": {},
   "outputs": [],
   "source": [
    "df_selected = df[['_floor', 'size', 'manage_cost', 'manage_cost_inc_num', 'near_subways_num', 'options_num','deposit+rent', 'parking', 'elevator']]"
   ]
  },
  {
   "cell_type": "code",
   "execution_count": 72,
   "metadata": {},
   "outputs": [
    {
     "data": {
      "text/plain": [
       "0        1\n",
       "1        0\n",
       "2        1\n",
       "3        1\n",
       "4        0\n",
       "        ..\n",
       "34677    1\n",
       "34678    1\n",
       "34679    1\n",
       "34680    1\n",
       "34681    1\n",
       "Name: parking, Length: 34682, dtype: int64"
      ]
     },
     "execution_count": 72,
     "metadata": {},
     "output_type": "execute_result"
    }
   ],
   "source": [
    "df['parking']"
   ]
  },
  {
   "cell_type": "code",
   "execution_count": 78,
   "metadata": {},
   "outputs": [
    {
     "name": "stdout",
     "output_type": "stream",
     "text": [
      "                            OLS Regression Results                            \n",
      "==============================================================================\n",
      "Dep. Variable:           deposit+rent   R-squared:                       0.466\n",
      "Model:                            OLS   Adj. R-squared:                  0.465\n",
      "Method:                 Least Squares   F-statistic:                     3775.\n",
      "Date:                Sun, 14 May 2023   Prob (F-statistic):               0.00\n",
      "Time:                        21:27:03   Log-Likelihood:            -1.7057e+05\n",
      "No. Observations:               34682   AIC:                         3.411e+05\n",
      "Df Residuals:                   34673   BIC:                         3.412e+05\n",
      "Df Model:                           8                                         \n",
      "Covariance Type:            nonrobust                                         \n",
      "=======================================================================================\n",
      "                          coef    std err          t      P>|t|      [0.025      0.975]\n",
      "---------------------------------------------------------------------------------------\n",
      "const                  -1.7504      0.975     -1.796      0.073      -3.661       0.160\n",
      "_floor                  0.7312      0.033     21.829      0.000       0.666       0.797\n",
      "size                    3.9840      0.048     82.319      0.000       3.889       4.079\n",
      "manage_cost             0.8684      0.030     28.491      0.000       0.809       0.928\n",
      "manage_cost_inc_num    -7.8692      0.211    -37.279      0.000      -8.283      -7.455\n",
      "near_subways_num       11.2736      0.139     81.300      0.000      11.002      11.545\n",
      "options_num            -1.0674      0.078    -13.761      0.000      -1.219      -0.915\n",
      "parking                 9.3064      0.446     20.860      0.000       8.432      10.181\n",
      "elevator               14.4232      0.444     32.521      0.000      13.554      15.293\n",
      "==============================================================================\n",
      "Omnibus:                    50497.990   Durbin-Watson:                   1.675\n",
      "Prob(Omnibus):                  0.000   Jarque-Bera (JB):        167072747.961\n",
      "Skew:                           7.947   Prob(JB):                         0.00\n",
      "Kurtosis:                     342.650   Cond. No.                         90.9\n",
      "==============================================================================\n",
      "\n",
      "Notes:\n",
      "[1] Standard Errors assume that the covariance matrix of the errors is correctly specified.\n"
     ]
    }
   ],
   "source": [
    "# y = 'rent', x 변수 81개 \n",
    "# 회귀분석 \n",
    "import statsmodels.api as sm\n",
    "\n",
    "X = df_selected.drop('deposit+rent', axis=1)\n",
    "y = df_selected['deposit+rent']\n",
    "\n",
    "X1 = sm.add_constant(X)\n",
    "\n",
    "# 회귀 모델 생성 \n",
    "model = sm.OLS(y, X1)\n",
    "\n",
    "results = model.fit()\n",
    "print(results.summary())"
   ]
  },
  {
   "cell_type": "code",
   "execution_count": 79,
   "metadata": {},
   "outputs": [
    {
     "data": {
      "text/plain": [
       "(34682, 9)"
      ]
     },
     "execution_count": 79,
     "metadata": {},
     "output_type": "execute_result"
    }
   ],
   "source": [
    "df_selected.shape"
   ]
  }
 ],
 "metadata": {
  "kernelspec": {
   "display_name": "base",
   "language": "python",
   "name": "python3"
  },
  "language_info": {
   "codemirror_mode": {
    "name": "ipython",
    "version": 3
   },
   "file_extension": ".py",
   "mimetype": "text/x-python",
   "name": "python",
   "nbconvert_exporter": "python",
   "pygments_lexer": "ipython3",
   "version": "3.9.12"
  },
  "orig_nbformat": 4
 },
 "nbformat": 4,
 "nbformat_minor": 2
}
