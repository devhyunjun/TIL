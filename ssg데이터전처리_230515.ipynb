{
  "cells": [
    {
      "cell_type": "markdown",
      "metadata": {
        "id": "view-in-github",
        "colab_type": "text"
      },
      "source": [
        "<a href=\"https://colab.research.google.com/github/devhyunjun/TIL/blob/master/ssg%EB%8D%B0%EC%9D%B4%ED%84%B0%EC%A0%84%EC%B2%98%EB%A6%AC_230515.ipynb\" target=\"_parent\"><img src=\"https://colab.research.google.com/assets/colab-badge.svg\" alt=\"Open In Colab\"/></a>"
      ]
    },
    {
      "cell_type": "code",
      "execution_count": null,
      "metadata": {
        "id": "uMLP13iWtlP_"
      },
      "outputs": [],
      "source": [
        "import pandas as pd\n",
        "df = pd.read_csv('C:/Users/USER_20211027/Downloads/local_sgg_final_0512.csv', encoding='euc-kr')"
      ]
    },
    {
      "cell_type": "code",
      "execution_count": null,
      "metadata": {
        "id": "wn7CdbBAtlQB"
      },
      "outputs": [],
      "source": [
        "# 시군구 인구수 구하기 -> 시군구인구/업체수 * 업체수 \n",
        "df['ssg_ppltn'] = df['convenience_postoffice_corp_cnt']*df['convenience_postoffice_corp_vs_ppltn_rate']\n",
        "\n",
        "# 소수점 round r\n",
        "df['ssg_ppltn'] = round(df['ssg_ppltn'])\n",
        "df['ssg_ppltn'] = df['ssg_ppltn'].astype(int)"
      ]
    },
    {
      "cell_type": "code",
      "execution_count": null,
      "metadata": {
        "id": "j08D3WRKtlQB"
      },
      "outputs": [],
      "source": [
        "# 편의시설 총 수/인구 -> 인구 10만면 당 편의시설 수 (우체국, 행정기관 등 5개)\n",
        "df['convenience_per_ppltn'] =100000 * (df['convenience_postoffice_corp_cnt'] + df['convenience_administrative_corp_cnt']\n",
        "                                           + df['convenience_police_corp_cnt'] + df['convenience_firestation_corp_cnt']\n",
        "                                           + df['convenience_bank_corp_cnt']) /df['ssg_ppltn'] \n",
        "\n",
        "# 쇼핑시설 총 수/인구 -> 인구 10만면 당 쇼핑시설 수 (편의점, 슈퍼마켓, 백화점 3개)\n",
        "df['shopping_per_ppltn'] = 100000 * (df['shopping_convenience_store_corp_cnt'] + df['shopping_supermarket_corp_cnt']\n",
        "                                           + df['shopping_departmentorbigmart_corp_cnt']) /df['ssg_ppltn'] \n",
        "\n",
        "# 잡화점 총 수/인구 -> 인구 10만면 당 잡화점 수\n",
        "df['grocery_per_ppltn'] = 100000 * (df['grocery_식료품_corp_cnt']) /df['ssg_ppltn'] \n",
        "\n",
        "# 음식점 총 수/인구 -> 인구 10만면 당 음식점 수(한식, 중식, 양식 등 등 11개)\n",
        "df['restaurant_per_ppltn'] =100000 * (df['restaurant_korean_corp_cnt'] + df['restaurant_chinese_corp_cnt']\n",
        "                                           + df['restaurant_japan_corp_cnt'] + df['restaurant_bunsik_corp_cnt']\n",
        "                                           + df['restaurant_western_corp_cnt'] + df['restaurant_bakery_corp_cnt'] \n",
        "                                           + df['restaurant_fastfood_corp_cnt'] + df['restaurant_chicken_corp_cnt'] \n",
        "                                           + df['restaurant_beershop_corp_cnt'] + df['restaurant_cafe_corp_cnt']\n",
        "                                           + df['restaurant_etccountry_corp_cnt'] ) /df['ssg_ppltn'] \n",
        "\n",
        "# 의료시설 총 수/인구 -> 인구 10만면 당 의료시설 수(종합병원, 기타, 약국, 한의원 4개)\n",
        "df['medical_per_ppltn'] =100000 * (df['medical_hospital_corp_cnt'] + df['medical_etcmed_corp_cnt']\n",
        "                                           + df['medical_pharmacy_corp_cnt'] + df['medical_eastern_corp_cnt']) /df['ssg_ppltn'] \n",
        "\n",
        "# 문화시설 총 수/인구 -> 인구 10만면 당 문화시설 수(서점, 영화관, 도서관 3개)\n",
        "df['culture_per_ppltne'] =100000 * (df['culture_bookshop_corp_cnt'] + df['culture_theater_corp_cnt']\n",
        "                                           + df['culture_library_corp_cnt'])/df['ssg_ppltn'] \n",
        "\n",
        "# 체육시설 총 수/인구 -> 인구 10만면 당 체육시설 수 1개\n",
        "df['gym_per_ppltn'] =100000 * (df['gym_gymfacility_corp_cnt'] )/df['ssg_ppltn'] \n",
        "\n",
        "# 썻던 시설업체수, 인구/업체수 컬럼 drop\n",
        "df.drop(['convenience_postoffice_corp_cnt', 'convenience_postoffice_corp_vs_ppltn_rate', 'convenience_administrative_corp_cnt', 'convenience_administrative_corp_vs_ppltn_rate', 'convenience_police_corp_cnt', 'convenience_police_corp_vs_ppltn_rate', 'convenience_firestation_corp_cnt', 'convenience_firestation_corp_vs_ppltn_rate', 'convenience_bank_corp_cnt', 'convenience_bank_corp_vs_ppltn_rate', 'shopping_convenience_store_corp_cnt', 'shopping_convenience_store_corp_vs_ppltn_rate', 'shopping_supermarket_corp_cnt', 'shopping_supermarket_corp_vs_ppltn_rate', 'shopping_departmentorbigmart_corp_cnt', 'shopping_departmentorbigmart_corp_vs_ppltn_rate', 'grocery_식료품_corp_cnt', 'grocery_식료품_corp_vs_ppltn_rate', 'restaurant_korean_corp_cnt', 'restaurant_korean_corp_vs_ppltn_rate', 'restaurant_chinese_corp_cnt', 'restaurant_chinese_corp_vs_ppltn_rate', 'restaurant_japan_corp_cnt', 'restaurant_japan_corp_vs_ppltn_rate', 'restaurant_bunsik_corp_cnt', 'restaurant_bunsik_corp_vs_ppltn_rate', 'restaurant_western_corp_cnt', 'restaurant_western_corp_vs_ppltn_rate', 'restaurant_bakery_corp_cnt', 'restaurant_bakery_corp_vs_ppltn_rate', 'restaurant_fastfood_corp_cnt', 'restaurant_fastfood_corp_vs_ppltn_rate', 'restaurant_chicken_corp_cnt', 'restaurant_chicken_corp_vs_ppltn_rate', 'restaurant_beershop_corp_cnt', 'restaurant_beershop_corp_vs_ppltn_rate', 'restaurant_cafe_corp_cnt', 'restaurant_cafe_corp_vs_ppltn_rate', 'restaurant_etccountry_corp_cnt', 'restaurant_etccountry_corp_vs_ppltn_rate', 'medical_hospital_corp_cnt', 'medical_hospital_corp_vs_ppltn_rate', 'medical_etcmed_corp_cnt', 'medical_etcmed_corp_vs_ppltn_rate', 'medical_pharmacy_corp_cnt', 'medical_pharmacy_corp_vs_ppltn_rate', 'medical_eastern_corp_cnt', 'medical_eastern_corp_vs_ppltn_rate', 'culture_bookshop_corp_cnt', 'culture_bookshop_corp_vs_ppltn_rate', 'culture_theater_corp_cnt', 'culture_theater_corp_vs_ppltn_rate', 'culture_library_corp_cnt', 'culture_library_corp_vs_ppltn_rate', 'gym_gymfacility_corp_cnt', 'gym_gymfacility_corp_vs_ppltn_rate'], axis=1, inplace=True)"
      ]
    },
    {
      "cell_type": "code",
      "execution_count": null,
      "metadata": {
        "id": "iJ72EIXltlQC",
        "outputId": "8cc3856a-3f57-4910-a84a-7ceb7fa5749a"
      },
      "outputs": [
        {
          "data": {
            "text/plain": [
              "0     31.36\n",
              "1     24.95\n",
              "2     23.67\n",
              "3     23.69\n",
              "4     17.66\n",
              "      ...  \n",
              "72    28.48\n",
              "73    41.56\n",
              "74    26.68\n",
              "75    43.06\n",
              "76    51.20\n",
              "Name: terminal(min), Length: 77, dtype: float64"
            ]
          },
          "execution_count": 52,
          "metadata": {},
          "output_type": "execute_result"
        }
      ],
      "source": [
        "df['terminal(min)']"
      ]
    },
    {
      "cell_type": "code",
      "execution_count": null,
      "metadata": {
        "id": "7saAsIT6tlQD"
      },
      "outputs": [],
      "source": [
        "# 도시지역면적_시도_시군구_2020.csv 이용\n",
        "area= pd.read_csv('C:/Users/USER_20211027/Downloads/도시지역면적_시도_시군구_2020.csv',\n",
        "           encoding='euc-kr')\n",
        "df = pd.merge(df, area, left_on=['시도','시군구'], right_on=['시도','시군구'], how='left')\n",
        "df['green_per_area'] = df['total_green_area(㎡)']/df['시군구총면적']\n",
        "df['park_per_area'] = df['park_area(㎡)']/df['시군구총면적']\n",
        "df = df.drop(['시군구총면적','행정코드','park_area(㎡)','total_green_area(㎡)', 'greenArea_per_person'],axis=1)"
      ]
    },
    {
      "cell_type": "code",
      "execution_count": null,
      "metadata": {
        "id": "kxP4NyTZtlQE"
      },
      "outputs": [],
      "source": [
        "df = df.rename(columns={'시군구코드': '\tsgg_cd',\n",
        "                        '시도': 'sido_nm',\n",
        "                        '시군구': 'sgg_nm',\n",
        "                        'terminal(min)': 'time_terminal',\n",
        "                        'railway(min)': 'time_railway',\n",
        "                        'airport(min)': 'time_airport',\n",
        "                        'publicHospital(min)': 'time_publicHospital',\n",
        "                        'hospital(min)': 'time_hospital',\n",
        "                        'generalHospital(min)': 'time_generalHospital',\n",
        "                        'superMarket(min)': 'time_superMarket',\n",
        "                        'market(min)': 'time_market'\n",
        "                        })"
      ]
    },
    {
      "cell_type": "code",
      "execution_count": null,
      "metadata": {
        "id": "MmR2PjpvtlQE"
      },
      "outputs": [],
      "source": [
        "df.to_csv('ssg_table_230515.csv', encoding='euc-kr', index = False)"
      ]
    },
    {
      "cell_type": "markdown",
      "metadata": {
        "id": "DoUTMA3ztlQE"
      },
      "source": []
    }
  ],
  "metadata": {
    "kernelspec": {
      "display_name": "base",
      "language": "python",
      "name": "python3"
    },
    "language_info": {
      "codemirror_mode": {
        "name": "ipython",
        "version": 3
      },
      "file_extension": ".py",
      "mimetype": "text/x-python",
      "name": "python",
      "nbconvert_exporter": "python",
      "pygments_lexer": "ipython3",
      "version": "3.9.12"
    },
    "orig_nbformat": 4,
    "colab": {
      "provenance": [],
      "include_colab_link": true
    }
  },
  "nbformat": 4,
  "nbformat_minor": 0
}