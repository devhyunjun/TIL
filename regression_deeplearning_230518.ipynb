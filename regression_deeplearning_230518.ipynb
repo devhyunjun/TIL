{
  "cells": [
    {
      "cell_type": "markdown",
      "metadata": {
        "id": "view-in-github",
        "colab_type": "text"
      },
      "source": [
        "<a href=\"https://colab.research.google.com/github/devhyunjun/TIL/blob/master/regression_deeplearning_230518.ipynb\" target=\"_parent\"><img src=\"https://colab.research.google.com/assets/colab-badge.svg\" alt=\"Open In Colab\"/></a>"
      ]
    },
    {
      "cell_type": "code",
      "source": [
        "!pip install pymysql"
      ],
      "metadata": {
        "colab": {
          "base_uri": "https://localhost:8080/"
        },
        "id": "0a190nr40QsV",
        "outputId": "fce45c64-32a2-4dbb-9de6-ca947b6be84f"
      },
      "execution_count": null,
      "outputs": [
        {
          "output_type": "stream",
          "name": "stdout",
          "text": [
            "Looking in indexes: https://pypi.org/simple, https://us-python.pkg.dev/colab-wheels/public/simple/\n",
            "Requirement already satisfied: pymysql in /usr/local/lib/python3.10/dist-packages (1.0.3)\n"
          ]
        }
      ]
    },
    {
      "cell_type": "code",
      "execution_count": null,
      "metadata": {
        "colab": {
          "base_uri": "https://localhost:8080/"
        },
        "id": "HnN7V9DYaESB",
        "outputId": "aef8a9e6-2320-4ccf-ffa0-35ce5f56c388"
      },
      "outputs": [
        {
          "output_type": "stream",
          "name": "stderr",
          "text": [
            "<ipython-input-2-a846c6db1aaf>:7: UserWarning: pandas only supports SQLAlchemy connectable (engine/connection) or database string URI or sqlite3 DBAPI2 connection. Other DBAPI2 objects are not tested. Please consider using SQLAlchemy.\n",
            "  df = pd.read_sql(\"SELECT * FROM zb_final;\", db, index_col='id')\n"
          ]
        }
      ],
      "source": [
        "import pymysql\n",
        "import pandas as pd\n",
        "import numpy as np\n",
        "db= pymysql.connect(\n",
        "    host=\"ec2-15-152-249-56.ap-northeast-3.compute.amazonaws.com\", user=\"mt-1\", password=\"1111\", db=\"zigbang_project\", charset=\"utf8\")\n",
        "# cursor = conn.cursor()\n",
        "df = pd.read_sql(\"SELECT * FROM zb_final;\", db, index_col='id')\n",
        "\n",
        "# result = cursor.fetchall()\n",
        "# for record in result:\n",
        "#     print(record)\n",
        "db.close()"
      ]
    },
    {
      "cell_type": "code",
      "source": [
        "df.columns"
      ],
      "metadata": {
        "colab": {
          "base_uri": "https://localhost:8080/"
        },
        "id": "TQd_F4Be0LCU",
        "outputId": "bc86d67d-b065-4bc7-98c0-1c06124ea1b7"
      },
      "execution_count": null,
      "outputs": [
        {
          "output_type": "execute_result",
          "data": {
            "text/plain": [
              "Index(['service_type', 'address1', 'address2', '_floor', 'size_m2',\n",
              "       'sales_type', 'rent', 'deposit', 'manage_cost', 'manage_cost_inc',\n",
              "       'manage_cost_count', 'elevator', 'room_direction_text', 'images',\n",
              "       'parking', 'near_subways', 'near_subways_count', 'options',\n",
              "       'options_count', 'description', 'title', 'add1', 'add2', 'add3',\n",
              "       'supermarket_dist', 'convenience_store_dist', 'school_dist',\n",
              "       'subway_dist', 'cultural_venue_dist', 'public_institution_dist',\n",
              "       'hospital_dist', 'x_w84', 'y_w84', 'sgg_cd', 'emd_cd_2022',\n",
              "       'emd_cd_2020', 'sido_nm', 'sgg_nm', 'emd_nm', 'building_total',\n",
              "       'building_dandok_p', 'building_apt_p', 'building_yeonlip_p',\n",
              "       'building_dasedae_p', 'building_nonresidential_p', 'building_others_p',\n",
              "       'ppltn_total', 'gender_ratio', 'ppltn_foreign_domestic_ratio',\n",
              "       'ppltn_upper_65_p', 'aging', 'aged', 'post_aged', 'ppltn_dnsty',\n",
              "       'corp_to_pop', 'ppltn_adult_p', 'hhd_member_avg', 'hhd_total',\n",
              "       'hhd_collective_p', 'hhd_private_p', 'hhd_family_p', 'hhd_alone_p',\n",
              "       'tenure_total', 'tenure_self', 'tenure_jeonse', 'tenure_free',\n",
              "       'tenure_monthly', 'app_dasedae', 'app_dandok', 'app_nonresidential',\n",
              "       'app_apt', 'app_yeonlip', 'app_officetel', 'park_per_area',\n",
              "       'green_per_area', 'dust_level', 'ssg_ppltn', 'convenience_per_ppltn',\n",
              "       'shopping_per_ppltn', 'grocery_per_ppltn', 'restaurant_per_ppltn',\n",
              "       'medical_per_ppltn', 'culture_per_ppltn', 'gym_per_ppltn',\n",
              "       'ppltn_net_migration_rate', 'safety_idx'],\n",
              "      dtype='object')"
            ]
          },
          "metadata": {},
          "execution_count": 3
        }
      ]
    },
    {
      "cell_type": "markdown",
      "metadata": {
        "id": "foR23fKOaESJ"
      },
      "source": [
        "## feature engineering "
      ]
    },
    {
      "cell_type": "code",
      "execution_count": null,
      "metadata": {
        "id": "IX6RBKI4aESE"
      },
      "outputs": [],
      "source": [
        "# # 결측치\n",
        "# df=df.dropna(axis=0)"
      ]
    },
    {
      "cell_type": "code",
      "execution_count": null,
      "metadata": {
        "id": "LSjt3BaRaESE",
        "colab": {
          "base_uri": "https://localhost:8080/",
          "height": 372
        },
        "outputId": "66de50cb-9dfc-4b55-b6f0-7bd907dbe4cc"
      },
      "outputs": [
        {
          "output_type": "execute_result",
          "data": {
            "text/plain": [
              "         service_type      address1 address2  _floor  size_m2 sales_type  \\\n",
              "id                                                                         \n",
              "36293764           원룸  경기도 동두천시 생연동   225-16       3    24.79         월세   \n",
              "36576214           원룸  경기도 동두천시 생연동   678-90       5    16.53         월세   \n",
              "36533474           원룸  경기도 동두천시 생연동   678-56       6    43.87         월세   \n",
              "\n",
              "          rent  deposit  manage_cost  manage_cost_inc  ...  \\\n",
              "id                                                     ...   \n",
              "36293764    28      300          7.0  가스, 수도, 인터넷, TV  ...   \n",
              "36576214    30      300          5.0          인터넷, TV  ...   \n",
              "36533474    50      500          5.0          인터넷, TV  ...   \n",
              "\n",
              "          convenience_per_ppltn  shopping_per_ppltn grocery_per_ppltn  \\\n",
              "id                                                                      \n",
              "36293764                 57.833             142.358           330.316   \n",
              "36576214                 57.833             142.358           330.316   \n",
              "36533474                 57.833             142.358           330.316   \n",
              "\n",
              "         restaurant_per_ppltn  medical_per_ppltn culture_per_ppltn  \\\n",
              "id                                                                   \n",
              "36293764             1593.745             316.97             25.58   \n",
              "36576214             1593.745             316.97             25.58   \n",
              "36533474             1593.745             316.97             25.58   \n",
              "\n",
              "          gym_per_ppltn ppltn_net_migration_rate  safety_idx deposit+rent  \n",
              "id                                                                         \n",
              "36293764         93.423                   -0.043        24.0    29.750000  \n",
              "36576214         93.423                   -0.043        24.0    31.750000  \n",
              "36533474         93.423                   -0.043        24.0    52.916667  \n",
              "\n",
              "[3 rows x 87 columns]"
            ],
            "text/html": [
              "\n",
              "  <div id=\"df-9802eaa8-01ce-41cf-9862-2aa54f2fb7e0\">\n",
              "    <div class=\"colab-df-container\">\n",
              "      <div>\n",
              "<style scoped>\n",
              "    .dataframe tbody tr th:only-of-type {\n",
              "        vertical-align: middle;\n",
              "    }\n",
              "\n",
              "    .dataframe tbody tr th {\n",
              "        vertical-align: top;\n",
              "    }\n",
              "\n",
              "    .dataframe thead th {\n",
              "        text-align: right;\n",
              "    }\n",
              "</style>\n",
              "<table border=\"1\" class=\"dataframe\">\n",
              "  <thead>\n",
              "    <tr style=\"text-align: right;\">\n",
              "      <th></th>\n",
              "      <th>service_type</th>\n",
              "      <th>address1</th>\n",
              "      <th>address2</th>\n",
              "      <th>_floor</th>\n",
              "      <th>size_m2</th>\n",
              "      <th>sales_type</th>\n",
              "      <th>rent</th>\n",
              "      <th>deposit</th>\n",
              "      <th>manage_cost</th>\n",
              "      <th>manage_cost_inc</th>\n",
              "      <th>...</th>\n",
              "      <th>convenience_per_ppltn</th>\n",
              "      <th>shopping_per_ppltn</th>\n",
              "      <th>grocery_per_ppltn</th>\n",
              "      <th>restaurant_per_ppltn</th>\n",
              "      <th>medical_per_ppltn</th>\n",
              "      <th>culture_per_ppltn</th>\n",
              "      <th>gym_per_ppltn</th>\n",
              "      <th>ppltn_net_migration_rate</th>\n",
              "      <th>safety_idx</th>\n",
              "      <th>deposit+rent</th>\n",
              "    </tr>\n",
              "    <tr>\n",
              "      <th>id</th>\n",
              "      <th></th>\n",
              "      <th></th>\n",
              "      <th></th>\n",
              "      <th></th>\n",
              "      <th></th>\n",
              "      <th></th>\n",
              "      <th></th>\n",
              "      <th></th>\n",
              "      <th></th>\n",
              "      <th></th>\n",
              "      <th></th>\n",
              "      <th></th>\n",
              "      <th></th>\n",
              "      <th></th>\n",
              "      <th></th>\n",
              "      <th></th>\n",
              "      <th></th>\n",
              "      <th></th>\n",
              "      <th></th>\n",
              "      <th></th>\n",
              "      <th></th>\n",
              "    </tr>\n",
              "  </thead>\n",
              "  <tbody>\n",
              "    <tr>\n",
              "      <th>36293764</th>\n",
              "      <td>원룸</td>\n",
              "      <td>경기도 동두천시 생연동</td>\n",
              "      <td>225-16</td>\n",
              "      <td>3</td>\n",
              "      <td>24.79</td>\n",
              "      <td>월세</td>\n",
              "      <td>28</td>\n",
              "      <td>300</td>\n",
              "      <td>7.0</td>\n",
              "      <td>가스, 수도, 인터넷, TV</td>\n",
              "      <td>...</td>\n",
              "      <td>57.833</td>\n",
              "      <td>142.358</td>\n",
              "      <td>330.316</td>\n",
              "      <td>1593.745</td>\n",
              "      <td>316.97</td>\n",
              "      <td>25.58</td>\n",
              "      <td>93.423</td>\n",
              "      <td>-0.043</td>\n",
              "      <td>24.0</td>\n",
              "      <td>29.750000</td>\n",
              "    </tr>\n",
              "    <tr>\n",
              "      <th>36576214</th>\n",
              "      <td>원룸</td>\n",
              "      <td>경기도 동두천시 생연동</td>\n",
              "      <td>678-90</td>\n",
              "      <td>5</td>\n",
              "      <td>16.53</td>\n",
              "      <td>월세</td>\n",
              "      <td>30</td>\n",
              "      <td>300</td>\n",
              "      <td>5.0</td>\n",
              "      <td>인터넷, TV</td>\n",
              "      <td>...</td>\n",
              "      <td>57.833</td>\n",
              "      <td>142.358</td>\n",
              "      <td>330.316</td>\n",
              "      <td>1593.745</td>\n",
              "      <td>316.97</td>\n",
              "      <td>25.58</td>\n",
              "      <td>93.423</td>\n",
              "      <td>-0.043</td>\n",
              "      <td>24.0</td>\n",
              "      <td>31.750000</td>\n",
              "    </tr>\n",
              "    <tr>\n",
              "      <th>36533474</th>\n",
              "      <td>원룸</td>\n",
              "      <td>경기도 동두천시 생연동</td>\n",
              "      <td>678-56</td>\n",
              "      <td>6</td>\n",
              "      <td>43.87</td>\n",
              "      <td>월세</td>\n",
              "      <td>50</td>\n",
              "      <td>500</td>\n",
              "      <td>5.0</td>\n",
              "      <td>인터넷, TV</td>\n",
              "      <td>...</td>\n",
              "      <td>57.833</td>\n",
              "      <td>142.358</td>\n",
              "      <td>330.316</td>\n",
              "      <td>1593.745</td>\n",
              "      <td>316.97</td>\n",
              "      <td>25.58</td>\n",
              "      <td>93.423</td>\n",
              "      <td>-0.043</td>\n",
              "      <td>24.0</td>\n",
              "      <td>52.916667</td>\n",
              "    </tr>\n",
              "  </tbody>\n",
              "</table>\n",
              "<p>3 rows × 87 columns</p>\n",
              "</div>\n",
              "      <button class=\"colab-df-convert\" onclick=\"convertToInteractive('df-9802eaa8-01ce-41cf-9862-2aa54f2fb7e0')\"\n",
              "              title=\"Convert this dataframe to an interactive table.\"\n",
              "              style=\"display:none;\">\n",
              "        \n",
              "  <svg xmlns=\"http://www.w3.org/2000/svg\" height=\"24px\"viewBox=\"0 0 24 24\"\n",
              "       width=\"24px\">\n",
              "    <path d=\"M0 0h24v24H0V0z\" fill=\"none\"/>\n",
              "    <path d=\"M18.56 5.44l.94 2.06.94-2.06 2.06-.94-2.06-.94-.94-2.06-.94 2.06-2.06.94zm-11 1L8.5 8.5l.94-2.06 2.06-.94-2.06-.94L8.5 2.5l-.94 2.06-2.06.94zm10 10l.94 2.06.94-2.06 2.06-.94-2.06-.94-.94-2.06-.94 2.06-2.06.94z\"/><path d=\"M17.41 7.96l-1.37-1.37c-.4-.4-.92-.59-1.43-.59-.52 0-1.04.2-1.43.59L10.3 9.45l-7.72 7.72c-.78.78-.78 2.05 0 2.83L4 21.41c.39.39.9.59 1.41.59.51 0 1.02-.2 1.41-.59l7.78-7.78 2.81-2.81c.8-.78.8-2.07 0-2.86zM5.41 20L4 18.59l7.72-7.72 1.47 1.35L5.41 20z\"/>\n",
              "  </svg>\n",
              "      </button>\n",
              "      \n",
              "  <style>\n",
              "    .colab-df-container {\n",
              "      display:flex;\n",
              "      flex-wrap:wrap;\n",
              "      gap: 12px;\n",
              "    }\n",
              "\n",
              "    .colab-df-convert {\n",
              "      background-color: #E8F0FE;\n",
              "      border: none;\n",
              "      border-radius: 50%;\n",
              "      cursor: pointer;\n",
              "      display: none;\n",
              "      fill: #1967D2;\n",
              "      height: 32px;\n",
              "      padding: 0 0 0 0;\n",
              "      width: 32px;\n",
              "    }\n",
              "\n",
              "    .colab-df-convert:hover {\n",
              "      background-color: #E2EBFA;\n",
              "      box-shadow: 0px 1px 2px rgba(60, 64, 67, 0.3), 0px 1px 3px 1px rgba(60, 64, 67, 0.15);\n",
              "      fill: #174EA6;\n",
              "    }\n",
              "\n",
              "    [theme=dark] .colab-df-convert {\n",
              "      background-color: #3B4455;\n",
              "      fill: #D2E3FC;\n",
              "    }\n",
              "\n",
              "    [theme=dark] .colab-df-convert:hover {\n",
              "      background-color: #434B5C;\n",
              "      box-shadow: 0px 1px 3px 1px rgba(0, 0, 0, 0.15);\n",
              "      filter: drop-shadow(0px 1px 2px rgba(0, 0, 0, 0.3));\n",
              "      fill: #FFFFFF;\n",
              "    }\n",
              "  </style>\n",
              "\n",
              "      <script>\n",
              "        const buttonEl =\n",
              "          document.querySelector('#df-9802eaa8-01ce-41cf-9862-2aa54f2fb7e0 button.colab-df-convert');\n",
              "        buttonEl.style.display =\n",
              "          google.colab.kernel.accessAllowed ? 'block' : 'none';\n",
              "\n",
              "        async function convertToInteractive(key) {\n",
              "          const element = document.querySelector('#df-9802eaa8-01ce-41cf-9862-2aa54f2fb7e0');\n",
              "          const dataTable =\n",
              "            await google.colab.kernel.invokeFunction('convertToInteractive',\n",
              "                                                     [key], {});\n",
              "          if (!dataTable) return;\n",
              "\n",
              "          const docLinkHtml = 'Like what you see? Visit the ' +\n",
              "            '<a target=\"_blank\" href=https://colab.research.google.com/notebooks/data_table.ipynb>data table notebook</a>'\n",
              "            + ' to learn more about interactive tables.';\n",
              "          element.innerHTML = '';\n",
              "          dataTable['output_type'] = 'display_data';\n",
              "          await google.colab.output.renderOutput(dataTable, element);\n",
              "          const docLink = document.createElement('div');\n",
              "          docLink.innerHTML = docLinkHtml;\n",
              "          element.appendChild(docLink);\n",
              "        }\n",
              "      </script>\n",
              "    </div>\n",
              "  </div>\n",
              "  "
            ]
          },
          "metadata": {},
          "execution_count": 5
        }
      ],
      "source": [
        "df['deposit+rent'] = df['deposit']*0.07/12 + df['rent']\n",
        "df.head(3)"
      ]
    },
    {
      "cell_type": "code",
      "execution_count": null,
      "metadata": {
        "id": "LkG8sRFjaESE"
      },
      "outputs": [],
      "source": [
        "# 방향 점수 구하기 \n",
        "def get_room_direction_score(row):\n",
        "    if row['room_direction_text'] == '남향':\n",
        "        return 3\n",
        "    elif row['room_direction_text'] in ['남동향', '남서향']:\n",
        "        return 2\n",
        "    elif row['room_direction_text'] in ['동향', '서향']:\n",
        "        return 1\n",
        "    else:\n",
        "        return 0\n",
        "\n",
        "# apply the function to each row of the DataFrame to create a new column named 'room_direction_score'\n",
        "df['room_direction_score'] = df.apply(get_room_direction_score, axis=1)"
      ]
    },
    {
      "cell_type": "code",
      "execution_count": null,
      "metadata": {
        "id": "AeG8UpnEaESE"
      },
      "outputs": [],
      "source": [
        "# 옵션 갯수, 지하철 수 숫자로 변환\n",
        "df['manage_cost_inc_num'] = df['manage_cost_inc'].str.split(',').apply(len)\n",
        "df['near_subways_num'] = df['near_subways'].str.split(',').apply(len)\n",
        "df['options_num'] = df['options'].str.split(',').apply(len)"
      ]
    },
    {
      "cell_type": "code",
      "execution_count": null,
      "metadata": {
        "id": "y1iUm60CaESF"
      },
      "outputs": [],
      "source": [
        "# 매물 변수 drop\n",
        "df.drop('manage_cost_inc', axis=1, inplace=True)\n",
        "df.drop('near_subways', axis=1, inplace=True)\n",
        "df.drop('options', axis=1, inplace=True)"
      ]
    },
    {
      "cell_type": "code",
      "execution_count": null,
      "metadata": {
        "id": "1KpJgybNaESF"
      },
      "outputs": [],
      "source": [
        "import matplotlib\n",
        "import matplotlib.pyplot as plt\n",
        "plt.rcParams[\"font.family\"] = \"NanumGothic\"\n",
        "import seaborn as sns\n",
        "from datetime import datetime"
      ]
    },
    {
      "cell_type": "code",
      "execution_count": null,
      "metadata": {
        "id": "QgEy8P0IaESF"
      },
      "outputs": [],
      "source": [
        "# 읍면동 주거유형 갯수에서 비율로\n",
        "df['tenure_self_ratio'] = df['tenure_self'] / df['tenure_total']\n",
        "df['tenure_jeonse_ratio'] = df['tenure_jeonse'] / df['tenure_total']\n",
        "df['tenure_free_ratio'] = df['tenure_free'] / df['tenure_total']\n",
        "df['tenure_monthly_ratio'] = df['tenure_monthly'] / df['tenure_total']\n",
        "\n",
        "# 주거유형 갯수 drop\n",
        "df.drop(['tenure_self', 'tenure_jeonse', 'tenure_free', 'tenure_monthly'], axis=1, inplace=True)"
      ]
    },
    {
      "cell_type": "code",
      "execution_count": null,
      "metadata": {
        "id": "ENRFIub1zJ8X",
        "colab": {
          "base_uri": "https://localhost:8080/"
        },
        "outputId": "e7bd97e8-39f8-4be9-a5d4-e77c4b1715d4"
      },
      "outputs": [
        {
          "output_type": "execute_result",
          "data": {
            "text/plain": [
              "Index(['service_type', 'address1', 'address2', '_floor', 'size_m2',\n",
              "       'sales_type', 'rent', 'deposit', 'manage_cost', 'manage_cost_count',\n",
              "       'elevator', 'room_direction_text', 'images', 'parking',\n",
              "       'near_subways_count', 'options_count', 'description', 'title', 'add1',\n",
              "       'add2', 'add3', 'supermarket_dist', 'convenience_store_dist',\n",
              "       'school_dist', 'subway_dist', 'cultural_venue_dist',\n",
              "       'public_institution_dist', 'hospital_dist', 'x_w84', 'y_w84', 'sgg_cd',\n",
              "       'emd_cd_2022', 'emd_cd_2020', 'sido_nm', 'sgg_nm', 'emd_nm',\n",
              "       'building_total', 'building_dandok_p', 'building_apt_p',\n",
              "       'building_yeonlip_p', 'building_dasedae_p', 'building_nonresidential_p',\n",
              "       'building_others_p', 'ppltn_total', 'gender_ratio',\n",
              "       'ppltn_foreign_domestic_ratio', 'ppltn_upper_65_p', 'aging', 'aged',\n",
              "       'post_aged', 'ppltn_dnsty', 'corp_to_pop', 'ppltn_adult_p',\n",
              "       'hhd_member_avg', 'hhd_total', 'hhd_collective_p', 'hhd_private_p',\n",
              "       'hhd_family_p', 'hhd_alone_p', 'tenure_total', 'app_dasedae',\n",
              "       'app_dandok', 'app_nonresidential', 'app_apt', 'app_yeonlip',\n",
              "       'app_officetel', 'park_per_area', 'green_per_area', 'dust_level',\n",
              "       'ssg_ppltn', 'convenience_per_ppltn', 'shopping_per_ppltn',\n",
              "       'grocery_per_ppltn', 'restaurant_per_ppltn', 'medical_per_ppltn',\n",
              "       'culture_per_ppltn', 'gym_per_ppltn', 'ppltn_net_migration_rate',\n",
              "       'safety_idx', 'deposit+rent', 'room_direction_score',\n",
              "       'manage_cost_inc_num', 'near_subways_num', 'options_num',\n",
              "       'tenure_self_ratio', 'tenure_jeonse_ratio', 'tenure_free_ratio',\n",
              "       'tenure_monthly_ratio'],\n",
              "      dtype='object')"
            ]
          },
          "metadata": {},
          "execution_count": 11
        }
      ],
      "source": [
        "df.columns"
      ]
    },
    {
      "cell_type": "code",
      "execution_count": null,
      "metadata": {
        "id": "UJKPts3ZzJ8X"
      },
      "outputs": [],
      "source": [
        "def get_floor_score(row):\n",
        "    if row['_floor'] == 1:\n",
        "        return 0\n",
        "    elif row['_floor']==2:\n",
        "        return 1\n",
        "    else:\n",
        "        return 2\n",
        "df['room_floor_score'] = df.apply(get_floor_score, axis=1)"
      ]
    },
    {
      "cell_type": "code",
      "execution_count": null,
      "metadata": {
        "id": "_hE2gVoEzJ8X"
      },
      "outputs": [],
      "source": [
        "# 문자열, 코드 등 회귀변수 안쓰는 변수 drop\n",
        "drop_columns = ['address1', 'address2', '_floor' , 'room_direction_text', 'images', '_floor', 'room_direction_text',\n",
        "        'description', 'title', 'add1', 'add2', 'add3', 'sgg_cd',\n",
        "        'emd_cd_2022',\n",
        "        'emd_cd_2020',\n",
        "        'sido_nm',\n",
        "        'sgg_nm',\n",
        "        'emd_nm', \n",
        "        'building_total',\n",
        "        'hhd_total']\n",
        "\n",
        "# 카테고리(원핫?) : sales_type\n",
        "\n",
        "# 시군구 컬럼들 'tenure_total', 'app_dasedae','ssg_ppltn',\n",
        "#        'app_dandok', 'app_nonresidential', 'app_apt', 'app_yeonlip',\n",
        "#        'app_officetel', 'park_per_area', 'green_per_area', 'dust_level',\n",
        "#        'ssg_ppltn', 'convenience_per_ppltn', 'shopping_per_ppltn',\n",
        "#        'grocery_per_ppltn', 'restaurant_per_ppltn', 'medical_per_ppltn',\n",
        "#        'culture_per_ppltn', 'gym_per_ppltn', 'ppltn_net_migration_rate',\n",
        "#        'safety_idx',\n",
        "\n",
        "# 읍면동 총인구 'ppltn_total'"
      ]
    },
    {
      "cell_type": "code",
      "execution_count": null,
      "metadata": {
        "id": "Tfcs074RzJ8Y"
      },
      "outputs": [],
      "source": [
        "# 안쓰는 변수 drop 된 df 정의\n",
        "df =  df.drop(drop_columns, axis=1, inplace=False)"
      ]
    },
    {
      "cell_type": "code",
      "execution_count": null,
      "metadata": {
        "id": "hWWSGNeJaESF",
        "colab": {
          "base_uri": "https://localhost:8080/"
        },
        "outputId": "29e8317c-d205-45e3-f0e2-60c7a82668d8"
      },
      "outputs": [
        {
          "output_type": "stream",
          "name": "stdout",
          "text": [
            "69\n"
          ]
        }
      ],
      "source": [
        "num_col = df.select_dtypes(include=['int64', 'float64']).columns.tolist()\n",
        "print(len(num_col))"
      ]
    },
    {
      "cell_type": "code",
      "execution_count": null,
      "metadata": {
        "id": "M1WRZg_nzJ8Z"
      },
      "outputs": [],
      "source": [
        "# 관리비 100 이상 말이 안됨 -> 원세랑 비교\n",
        "df[df['manage_cost']>100]\n",
        "df=df.drop(df[df['manage_cost']>100].index)\n",
        "\n",
        "\n",
        "df[df['rent']>1000]\n",
        "df=df.drop(df[df['rent']>1000].index)\n",
        "\n",
        "df[df['size_m2']>150]\n",
        "df=df.drop(df[df['size_m2']>150].index)\n",
        "# print(df['size'].quantile(q=0.999))\n",
        "\n",
        "df[(df['service_type']=='원룸')&(df['size_m2']>120)] # 120 -> 40평\n",
        "df=df.drop(df[(df['service_type']=='원룸')&(df['size_m2']>120)].index)\n",
        "# df[(df['service_type']=='원룸')&(df['size']>40)]\n",
        "\n",
        "\n",
        "df[(df['service_type']=='원룸')&(df['size_m2']>99)]\n",
        "df=df.drop(df[(df['service_type']=='원룸')&(df['size_m2']>99)].index)\n",
        "# df[(df['service_type']=='원룸')&(df['size']>30)]\n",
        "\n",
        "df[df['manage_cost']>50]\n",
        "df=df.drop(df[(df['service_type']=='원룸')&(df['manage_cost']>50)].index)\n",
        "# df[(df['service_type']=='원룸')&(df['manage_cost']>50)]\n",
        "# df[df['size']>50]\n"
      ]
    },
    {
      "cell_type": "code",
      "execution_count": null,
      "metadata": {
        "id": "AdjnawjwzJ8Z"
      },
      "outputs": [],
      "source": [
        "# df['green_per_area'].quantile(q=0.999))\n",
        "# df[(df['green_per_area']>13.111)]"
      ]
    },
    {
      "cell_type": "code",
      "execution_count": null,
      "metadata": {
        "id": "4SneQRvcaESJ"
      },
      "outputs": [],
      "source": [
        "# # 이상치\n",
        "# # boxplot으로 이상치 확인\n",
        "# fig, axes = plt.subplots(len(num_col),1, figsize = (8, 85))\n",
        "# row=0\n",
        "# for i in num_col:\n",
        "#     sns.boxplot(data = df, x = i, ax = axes[row])\n",
        "#     row+=1\n",
        "# plt.tight_layout()\n",
        "# plt.show()"
      ]
    },
    {
      "cell_type": "markdown",
      "source": [
        "# 상관계수 파악"
      ],
      "metadata": {
        "id": "Ac4GzT6reY74"
      }
    },
    {
      "cell_type": "code",
      "source": [
        "# find correlation with pandas \".corr()\"\n",
        "cor = df.corr() # 상관계수\n",
        "\n",
        "# # visualize with Seaborn heat map, color map = Blues\n",
        "# sns.heatmap(cor, annot = False, cmap = plt.cm.Reds)\n",
        "# plt.show()\n",
        "\n",
        "\n",
        "# get correlation values with target variable\n",
        "cor_target = abs(cor['deposit+rent'])\n",
        "print(cor_target)\n",
        "\n",
        "\n",
        "# choose features above threshold 0.6\n",
        "selected_cols = cor_target[cor_target > 0.6]"
      ],
      "metadata": {
        "id": "hKysxCrpeYm6",
        "colab": {
          "base_uri": "https://localhost:8080/"
        },
        "outputId": "4771f906-b0b2-4568-ab6d-ead925dbbf42"
      },
      "execution_count": null,
      "outputs": [
        {
          "output_type": "stream",
          "name": "stderr",
          "text": [
            "<ipython-input-19-60ad321e1163>:2: FutureWarning: The default value of numeric_only in DataFrame.corr is deprecated. In a future version, it will default to False. Select only valid columns or specify the value of numeric_only to silence this warning.\n",
            "  cor = df.corr() # 상관계수\n"
          ]
        },
        {
          "output_type": "stream",
          "name": "stdout",
          "text": [
            "size_m2                 0.491278\n",
            "rent                    0.966909\n",
            "deposit                 0.253098\n",
            "manage_cost             0.254389\n",
            "manage_cost_count       0.366267\n",
            "                          ...   \n",
            "tenure_self_ratio       0.369795\n",
            "tenure_jeonse_ratio     0.416835\n",
            "tenure_free_ratio       0.109087\n",
            "tenure_monthly_ratio    0.209883\n",
            "room_floor_score        0.161766\n",
            "Name: deposit+rent, Length: 69, dtype: float64\n"
          ]
        }
      ]
    },
    {
      "cell_type": "code",
      "source": [
        "selected_cols"
      ],
      "metadata": {
        "colab": {
          "base_uri": "https://localhost:8080/"
        },
        "id": "ufY48vMwe0qA",
        "outputId": "aacfbff1-7cf9-48a5-fb3c-01010ae49267"
      },
      "execution_count": null,
      "outputs": [
        {
          "output_type": "execute_result",
          "data": {
            "text/plain": [
              "rent            0.966909\n",
              "deposit+rent    1.000000\n",
              "Name: deposit+rent, dtype: float64"
            ]
          },
          "metadata": {},
          "execution_count": 20
        }
      ]
    },
    {
      "cell_type": "code",
      "source": [
        "# rent 변수제거\n",
        "df.drop(['rent'], axis=1, inplace=True)"
      ],
      "metadata": {
        "id": "mW6BSZD7fCEb"
      },
      "execution_count": null,
      "outputs": []
    },
    {
      "cell_type": "code",
      "source": [
        "df['deposit']"
      ],
      "metadata": {
        "colab": {
          "base_uri": "https://localhost:8080/"
        },
        "id": "OXgrEqws1XXv",
        "outputId": "63fec078-511f-4f3c-8003-fd28d6236b27"
      },
      "execution_count": null,
      "outputs": [
        {
          "output_type": "execute_result",
          "data": {
            "text/plain": [
              "id\n",
              "36293764     300\n",
              "36576214     300\n",
              "36533474     500\n",
              "36485939    3000\n",
              "36485528     500\n",
              "            ... \n",
              "36557272    1000\n",
              "36492163    2000\n",
              "36504430     500\n",
              "36544670    1000\n",
              "36386612    3000\n",
              "Name: deposit, Length: 34208, dtype: int64"
            ]
          },
          "metadata": {},
          "execution_count": 22
        }
      ]
    },
    {
      "cell_type": "markdown",
      "source": [
        "# 다중공선성 제거 - 연속형 변수에 한함"
      ],
      "metadata": {
        "id": "YD3vyY9EfPQp"
      }
    },
    {
      "cell_type": "code",
      "source": [
        "df_vif = df.drop(['service_type', 'sales_type', 'manage_cost_count', 'elevator',\n",
        "'parking', 'near_subways_count', 'options_count', 'manage_cost_inc_num',\n",
        "'near_subways_num', 'options_num', 'room_floor_score'], axis=1)"
      ],
      "metadata": {
        "id": "GcS_CkvFf7Wl"
      },
      "execution_count": null,
      "outputs": []
    },
    {
      "cell_type": "code",
      "source": [
        "df.info()"
      ],
      "metadata": {
        "id": "Ip5_4MAOh45O",
        "colab": {
          "base_uri": "https://localhost:8080/"
        },
        "outputId": "37fc8ac2-9042-4f99-d5dd-8f146a64c3fe"
      },
      "execution_count": null,
      "outputs": [
        {
          "output_type": "stream",
          "name": "stdout",
          "text": [
            "<class 'pandas.core.frame.DataFrame'>\n",
            "Int64Index: 34208 entries, 36293764 to 36386612\n",
            "Data columns (total 70 columns):\n",
            " #   Column                        Non-Null Count  Dtype  \n",
            "---  ------                        --------------  -----  \n",
            " 0   service_type                  34208 non-null  object \n",
            " 1   size_m2                       34208 non-null  float64\n",
            " 2   sales_type                    34208 non-null  object \n",
            " 3   deposit                       34208 non-null  int64  \n",
            " 4   manage_cost                   34208 non-null  float64\n",
            " 5   manage_cost_count             34208 non-null  int64  \n",
            " 6   elevator                      34208 non-null  int64  \n",
            " 7   parking                       34208 non-null  int64  \n",
            " 8   near_subways_count            34208 non-null  int64  \n",
            " 9   options_count                 34208 non-null  int64  \n",
            " 10  supermarket_dist              34208 non-null  float64\n",
            " 11  convenience_store_dist        34208 non-null  float64\n",
            " 12  school_dist                   34208 non-null  float64\n",
            " 13  subway_dist                   34208 non-null  float64\n",
            " 14  cultural_venue_dist           34208 non-null  float64\n",
            " 15  public_institution_dist       34208 non-null  float64\n",
            " 16  hospital_dist                 34208 non-null  float64\n",
            " 17  x_w84                         34208 non-null  float64\n",
            " 18  y_w84                         34208 non-null  float64\n",
            " 19  building_dandok_p             34208 non-null  float64\n",
            " 20  building_apt_p                34208 non-null  float64\n",
            " 21  building_yeonlip_p            34208 non-null  float64\n",
            " 22  building_dasedae_p            34208 non-null  float64\n",
            " 23  building_nonresidential_p     34208 non-null  float64\n",
            " 24  building_others_p             34208 non-null  float64\n",
            " 25  ppltn_total                   34208 non-null  float64\n",
            " 26  gender_ratio                  34208 non-null  float64\n",
            " 27  ppltn_foreign_domestic_ratio  34208 non-null  float64\n",
            " 28  ppltn_upper_65_p              34208 non-null  float64\n",
            " 29  aging                         34208 non-null  int64  \n",
            " 30  aged                          34208 non-null  int64  \n",
            " 31  post_aged                     34208 non-null  int64  \n",
            " 32  ppltn_dnsty                   34208 non-null  float64\n",
            " 33  corp_to_pop                   34208 non-null  float64\n",
            " 34  ppltn_adult_p                 34208 non-null  float64\n",
            " 35  hhd_member_avg                34208 non-null  float64\n",
            " 36  hhd_collective_p              34208 non-null  float64\n",
            " 37  hhd_private_p                 34208 non-null  float64\n",
            " 38  hhd_family_p                  34208 non-null  float64\n",
            " 39  hhd_alone_p                   34208 non-null  float64\n",
            " 40  tenure_total                  34208 non-null  float64\n",
            " 41  app_dasedae                   34208 non-null  float64\n",
            " 42  app_dandok                    34208 non-null  float64\n",
            " 43  app_nonresidential            34208 non-null  float64\n",
            " 44  app_apt                       34208 non-null  float64\n",
            " 45  app_yeonlip                   34208 non-null  float64\n",
            " 46  app_officetel                 34208 non-null  float64\n",
            " 47  park_per_area                 34208 non-null  float64\n",
            " 48  green_per_area                34208 non-null  float64\n",
            " 49  dust_level                    34208 non-null  float64\n",
            " 50  ssg_ppltn                     34208 non-null  float64\n",
            " 51  convenience_per_ppltn         34208 non-null  float64\n",
            " 52  shopping_per_ppltn            34208 non-null  float64\n",
            " 53  grocery_per_ppltn             34208 non-null  float64\n",
            " 54  restaurant_per_ppltn          34208 non-null  float64\n",
            " 55  medical_per_ppltn             34208 non-null  float64\n",
            " 56  culture_per_ppltn             34208 non-null  float64\n",
            " 57  gym_per_ppltn                 34208 non-null  float64\n",
            " 58  ppltn_net_migration_rate      34208 non-null  float64\n",
            " 59  safety_idx                    34208 non-null  float64\n",
            " 60  deposit+rent                  34208 non-null  float64\n",
            " 61  room_direction_score          34208 non-null  int64  \n",
            " 62  manage_cost_inc_num           34208 non-null  int64  \n",
            " 63  near_subways_num              34208 non-null  int64  \n",
            " 64  options_num                   34208 non-null  int64  \n",
            " 65  tenure_self_ratio             34208 non-null  float64\n",
            " 66  tenure_jeonse_ratio           34208 non-null  float64\n",
            " 67  tenure_free_ratio             34208 non-null  float64\n",
            " 68  tenure_monthly_ratio          34208 non-null  float64\n",
            " 69  room_floor_score              34208 non-null  int64  \n",
            "dtypes: float64(54), int64(14), object(2)\n",
            "memory usage: 18.5+ MB\n"
          ]
        }
      ]
    },
    {
      "cell_type": "code",
      "source": [
        "from statsmodels.stats.outliers_influence import variance_inflation_factor\n",
        "\n",
        "vif = pd.DataFrame()\n",
        "vif[\"VIF Factor\"] = [variance_inflation_factor(\n",
        "    df_vif.values, i) for i in range(df_vif.shape[1])]\n",
        "vif[\"features\"] = df_vif.columns\n",
        "vif"
      ],
      "metadata": {
        "id": "Wvm9B5rDfNyk",
        "colab": {
          "base_uri": "https://localhost:8080/",
          "height": 1000
        },
        "outputId": "402e40a5-88cb-48e3-845e-89ab04277e41"
      },
      "execution_count": null,
      "outputs": [
        {
          "output_type": "execute_result",
          "data": {
            "text/plain": [
              "      VIF Factor                      features\n",
              "0   1.712809e+00                       size_m2\n",
              "1   1.238863e+00                       deposit\n",
              "2   1.420123e+00                   manage_cost\n",
              "3   1.700315e+00              supermarket_dist\n",
              "4   1.448618e+00        convenience_store_dist\n",
              "5   1.243084e+00                   school_dist\n",
              "6   2.220879e+00                   subway_dist\n",
              "7   2.295994e+00           cultural_venue_dist\n",
              "8   1.472406e+00       public_institution_dist\n",
              "9   1.479731e+00                 hospital_dist\n",
              "10  3.582189e+00                         x_w84\n",
              "11  6.038292e+00                         y_w84\n",
              "12  3.620086e+04             building_dandok_p\n",
              "13  2.427182e+05                building_apt_p\n",
              "14  4.915266e+03            building_yeonlip_p\n",
              "15  1.416694e+05            building_dasedae_p\n",
              "16  3.902512e+02     building_nonresidential_p\n",
              "17  2.114767e+00             building_others_p\n",
              "18  1.866209e+00                   ppltn_total\n",
              "19  3.894149e+00                  gender_ratio\n",
              "20  1.519955e+01  ppltn_foreign_domestic_ratio\n",
              "21  7.792037e+00              ppltn_upper_65_p\n",
              "22  5.464512e+00                         aging\n",
              "23  9.644817e+00                          aged\n",
              "24  3.862502e+00                     post_aged\n",
              "25  2.533926e+00                   ppltn_dnsty\n",
              "26  2.583450e+00                   corp_to_pop\n",
              "27  1.842201e+01                 ppltn_adult_p\n",
              "28  1.101056e+02                hhd_member_avg\n",
              "29  1.664028e+00              hhd_collective_p\n",
              "30  2.207802e+01                 hhd_private_p\n",
              "31  8.017499e+01                  hhd_family_p\n",
              "32  6.836623e+01                   hhd_alone_p\n",
              "33  1.649019e+02                  tenure_total\n",
              "34  6.000823e+00                   app_dasedae\n",
              "35  2.473060e+01                    app_dandok\n",
              "36  1.207351e+01            app_nonresidential\n",
              "37  5.075525e+00                       app_apt\n",
              "38  7.551255e+00                   app_yeonlip\n",
              "39  3.114651e+00                 app_officetel\n",
              "40  5.236562e+00                 park_per_area\n",
              "41  2.174693e+00                green_per_area\n",
              "42  2.244646e+00                    dust_level\n",
              "43  1.602007e+02                     ssg_ppltn\n",
              "44  2.712471e+01         convenience_per_ppltn\n",
              "45  3.231249e+01            shopping_per_ppltn\n",
              "46  5.224981e+00             grocery_per_ppltn\n",
              "47  4.552159e+01          restaurant_per_ppltn\n",
              "48  1.951374e+01             medical_per_ppltn\n",
              "49  8.334105e+00             culture_per_ppltn\n",
              "50  2.656894e+01                 gym_per_ppltn\n",
              "51  4.573465e+00      ppltn_net_migration_rate\n",
              "52  3.852875e+00                    safety_idx\n",
              "53  2.553889e+00                  deposit+rent\n",
              "54  1.033947e+00          room_direction_score\n",
              "55  1.522394e+06             tenure_self_ratio\n",
              "56  2.907771e+05           tenure_jeonse_ratio\n",
              "57  5.733928e+03             tenure_free_ratio\n",
              "58  4.589917e+05          tenure_monthly_ratio"
            ],
            "text/html": [
              "\n",
              "  <div id=\"df-fe8c4abc-8d46-4f18-860e-c5f0c26b6ed6\">\n",
              "    <div class=\"colab-df-container\">\n",
              "      <div>\n",
              "<style scoped>\n",
              "    .dataframe tbody tr th:only-of-type {\n",
              "        vertical-align: middle;\n",
              "    }\n",
              "\n",
              "    .dataframe tbody tr th {\n",
              "        vertical-align: top;\n",
              "    }\n",
              "\n",
              "    .dataframe thead th {\n",
              "        text-align: right;\n",
              "    }\n",
              "</style>\n",
              "<table border=\"1\" class=\"dataframe\">\n",
              "  <thead>\n",
              "    <tr style=\"text-align: right;\">\n",
              "      <th></th>\n",
              "      <th>VIF Factor</th>\n",
              "      <th>features</th>\n",
              "    </tr>\n",
              "  </thead>\n",
              "  <tbody>\n",
              "    <tr>\n",
              "      <th>0</th>\n",
              "      <td>1.712809e+00</td>\n",
              "      <td>size_m2</td>\n",
              "    </tr>\n",
              "    <tr>\n",
              "      <th>1</th>\n",
              "      <td>1.238863e+00</td>\n",
              "      <td>deposit</td>\n",
              "    </tr>\n",
              "    <tr>\n",
              "      <th>2</th>\n",
              "      <td>1.420123e+00</td>\n",
              "      <td>manage_cost</td>\n",
              "    </tr>\n",
              "    <tr>\n",
              "      <th>3</th>\n",
              "      <td>1.700315e+00</td>\n",
              "      <td>supermarket_dist</td>\n",
              "    </tr>\n",
              "    <tr>\n",
              "      <th>4</th>\n",
              "      <td>1.448618e+00</td>\n",
              "      <td>convenience_store_dist</td>\n",
              "    </tr>\n",
              "    <tr>\n",
              "      <th>5</th>\n",
              "      <td>1.243084e+00</td>\n",
              "      <td>school_dist</td>\n",
              "    </tr>\n",
              "    <tr>\n",
              "      <th>6</th>\n",
              "      <td>2.220879e+00</td>\n",
              "      <td>subway_dist</td>\n",
              "    </tr>\n",
              "    <tr>\n",
              "      <th>7</th>\n",
              "      <td>2.295994e+00</td>\n",
              "      <td>cultural_venue_dist</td>\n",
              "    </tr>\n",
              "    <tr>\n",
              "      <th>8</th>\n",
              "      <td>1.472406e+00</td>\n",
              "      <td>public_institution_dist</td>\n",
              "    </tr>\n",
              "    <tr>\n",
              "      <th>9</th>\n",
              "      <td>1.479731e+00</td>\n",
              "      <td>hospital_dist</td>\n",
              "    </tr>\n",
              "    <tr>\n",
              "      <th>10</th>\n",
              "      <td>3.582189e+00</td>\n",
              "      <td>x_w84</td>\n",
              "    </tr>\n",
              "    <tr>\n",
              "      <th>11</th>\n",
              "      <td>6.038292e+00</td>\n",
              "      <td>y_w84</td>\n",
              "    </tr>\n",
              "    <tr>\n",
              "      <th>12</th>\n",
              "      <td>3.620086e+04</td>\n",
              "      <td>building_dandok_p</td>\n",
              "    </tr>\n",
              "    <tr>\n",
              "      <th>13</th>\n",
              "      <td>2.427182e+05</td>\n",
              "      <td>building_apt_p</td>\n",
              "    </tr>\n",
              "    <tr>\n",
              "      <th>14</th>\n",
              "      <td>4.915266e+03</td>\n",
              "      <td>building_yeonlip_p</td>\n",
              "    </tr>\n",
              "    <tr>\n",
              "      <th>15</th>\n",
              "      <td>1.416694e+05</td>\n",
              "      <td>building_dasedae_p</td>\n",
              "    </tr>\n",
              "    <tr>\n",
              "      <th>16</th>\n",
              "      <td>3.902512e+02</td>\n",
              "      <td>building_nonresidential_p</td>\n",
              "    </tr>\n",
              "    <tr>\n",
              "      <th>17</th>\n",
              "      <td>2.114767e+00</td>\n",
              "      <td>building_others_p</td>\n",
              "    </tr>\n",
              "    <tr>\n",
              "      <th>18</th>\n",
              "      <td>1.866209e+00</td>\n",
              "      <td>ppltn_total</td>\n",
              "    </tr>\n",
              "    <tr>\n",
              "      <th>19</th>\n",
              "      <td>3.894149e+00</td>\n",
              "      <td>gender_ratio</td>\n",
              "    </tr>\n",
              "    <tr>\n",
              "      <th>20</th>\n",
              "      <td>1.519955e+01</td>\n",
              "      <td>ppltn_foreign_domestic_ratio</td>\n",
              "    </tr>\n",
              "    <tr>\n",
              "      <th>21</th>\n",
              "      <td>7.792037e+00</td>\n",
              "      <td>ppltn_upper_65_p</td>\n",
              "    </tr>\n",
              "    <tr>\n",
              "      <th>22</th>\n",
              "      <td>5.464512e+00</td>\n",
              "      <td>aging</td>\n",
              "    </tr>\n",
              "    <tr>\n",
              "      <th>23</th>\n",
              "      <td>9.644817e+00</td>\n",
              "      <td>aged</td>\n",
              "    </tr>\n",
              "    <tr>\n",
              "      <th>24</th>\n",
              "      <td>3.862502e+00</td>\n",
              "      <td>post_aged</td>\n",
              "    </tr>\n",
              "    <tr>\n",
              "      <th>25</th>\n",
              "      <td>2.533926e+00</td>\n",
              "      <td>ppltn_dnsty</td>\n",
              "    </tr>\n",
              "    <tr>\n",
              "      <th>26</th>\n",
              "      <td>2.583450e+00</td>\n",
              "      <td>corp_to_pop</td>\n",
              "    </tr>\n",
              "    <tr>\n",
              "      <th>27</th>\n",
              "      <td>1.842201e+01</td>\n",
              "      <td>ppltn_adult_p</td>\n",
              "    </tr>\n",
              "    <tr>\n",
              "      <th>28</th>\n",
              "      <td>1.101056e+02</td>\n",
              "      <td>hhd_member_avg</td>\n",
              "    </tr>\n",
              "    <tr>\n",
              "      <th>29</th>\n",
              "      <td>1.664028e+00</td>\n",
              "      <td>hhd_collective_p</td>\n",
              "    </tr>\n",
              "    <tr>\n",
              "      <th>30</th>\n",
              "      <td>2.207802e+01</td>\n",
              "      <td>hhd_private_p</td>\n",
              "    </tr>\n",
              "    <tr>\n",
              "      <th>31</th>\n",
              "      <td>8.017499e+01</td>\n",
              "      <td>hhd_family_p</td>\n",
              "    </tr>\n",
              "    <tr>\n",
              "      <th>32</th>\n",
              "      <td>6.836623e+01</td>\n",
              "      <td>hhd_alone_p</td>\n",
              "    </tr>\n",
              "    <tr>\n",
              "      <th>33</th>\n",
              "      <td>1.649019e+02</td>\n",
              "      <td>tenure_total</td>\n",
              "    </tr>\n",
              "    <tr>\n",
              "      <th>34</th>\n",
              "      <td>6.000823e+00</td>\n",
              "      <td>app_dasedae</td>\n",
              "    </tr>\n",
              "    <tr>\n",
              "      <th>35</th>\n",
              "      <td>2.473060e+01</td>\n",
              "      <td>app_dandok</td>\n",
              "    </tr>\n",
              "    <tr>\n",
              "      <th>36</th>\n",
              "      <td>1.207351e+01</td>\n",
              "      <td>app_nonresidential</td>\n",
              "    </tr>\n",
              "    <tr>\n",
              "      <th>37</th>\n",
              "      <td>5.075525e+00</td>\n",
              "      <td>app_apt</td>\n",
              "    </tr>\n",
              "    <tr>\n",
              "      <th>38</th>\n",
              "      <td>7.551255e+00</td>\n",
              "      <td>app_yeonlip</td>\n",
              "    </tr>\n",
              "    <tr>\n",
              "      <th>39</th>\n",
              "      <td>3.114651e+00</td>\n",
              "      <td>app_officetel</td>\n",
              "    </tr>\n",
              "    <tr>\n",
              "      <th>40</th>\n",
              "      <td>5.236562e+00</td>\n",
              "      <td>park_per_area</td>\n",
              "    </tr>\n",
              "    <tr>\n",
              "      <th>41</th>\n",
              "      <td>2.174693e+00</td>\n",
              "      <td>green_per_area</td>\n",
              "    </tr>\n",
              "    <tr>\n",
              "      <th>42</th>\n",
              "      <td>2.244646e+00</td>\n",
              "      <td>dust_level</td>\n",
              "    </tr>\n",
              "    <tr>\n",
              "      <th>43</th>\n",
              "      <td>1.602007e+02</td>\n",
              "      <td>ssg_ppltn</td>\n",
              "    </tr>\n",
              "    <tr>\n",
              "      <th>44</th>\n",
              "      <td>2.712471e+01</td>\n",
              "      <td>convenience_per_ppltn</td>\n",
              "    </tr>\n",
              "    <tr>\n",
              "      <th>45</th>\n",
              "      <td>3.231249e+01</td>\n",
              "      <td>shopping_per_ppltn</td>\n",
              "    </tr>\n",
              "    <tr>\n",
              "      <th>46</th>\n",
              "      <td>5.224981e+00</td>\n",
              "      <td>grocery_per_ppltn</td>\n",
              "    </tr>\n",
              "    <tr>\n",
              "      <th>47</th>\n",
              "      <td>4.552159e+01</td>\n",
              "      <td>restaurant_per_ppltn</td>\n",
              "    </tr>\n",
              "    <tr>\n",
              "      <th>48</th>\n",
              "      <td>1.951374e+01</td>\n",
              "      <td>medical_per_ppltn</td>\n",
              "    </tr>\n",
              "    <tr>\n",
              "      <th>49</th>\n",
              "      <td>8.334105e+00</td>\n",
              "      <td>culture_per_ppltn</td>\n",
              "    </tr>\n",
              "    <tr>\n",
              "      <th>50</th>\n",
              "      <td>2.656894e+01</td>\n",
              "      <td>gym_per_ppltn</td>\n",
              "    </tr>\n",
              "    <tr>\n",
              "      <th>51</th>\n",
              "      <td>4.573465e+00</td>\n",
              "      <td>ppltn_net_migration_rate</td>\n",
              "    </tr>\n",
              "    <tr>\n",
              "      <th>52</th>\n",
              "      <td>3.852875e+00</td>\n",
              "      <td>safety_idx</td>\n",
              "    </tr>\n",
              "    <tr>\n",
              "      <th>53</th>\n",
              "      <td>2.553889e+00</td>\n",
              "      <td>deposit+rent</td>\n",
              "    </tr>\n",
              "    <tr>\n",
              "      <th>54</th>\n",
              "      <td>1.033947e+00</td>\n",
              "      <td>room_direction_score</td>\n",
              "    </tr>\n",
              "    <tr>\n",
              "      <th>55</th>\n",
              "      <td>1.522394e+06</td>\n",
              "      <td>tenure_self_ratio</td>\n",
              "    </tr>\n",
              "    <tr>\n",
              "      <th>56</th>\n",
              "      <td>2.907771e+05</td>\n",
              "      <td>tenure_jeonse_ratio</td>\n",
              "    </tr>\n",
              "    <tr>\n",
              "      <th>57</th>\n",
              "      <td>5.733928e+03</td>\n",
              "      <td>tenure_free_ratio</td>\n",
              "    </tr>\n",
              "    <tr>\n",
              "      <th>58</th>\n",
              "      <td>4.589917e+05</td>\n",
              "      <td>tenure_monthly_ratio</td>\n",
              "    </tr>\n",
              "  </tbody>\n",
              "</table>\n",
              "</div>\n",
              "      <button class=\"colab-df-convert\" onclick=\"convertToInteractive('df-fe8c4abc-8d46-4f18-860e-c5f0c26b6ed6')\"\n",
              "              title=\"Convert this dataframe to an interactive table.\"\n",
              "              style=\"display:none;\">\n",
              "        \n",
              "  <svg xmlns=\"http://www.w3.org/2000/svg\" height=\"24px\"viewBox=\"0 0 24 24\"\n",
              "       width=\"24px\">\n",
              "    <path d=\"M0 0h24v24H0V0z\" fill=\"none\"/>\n",
              "    <path d=\"M18.56 5.44l.94 2.06.94-2.06 2.06-.94-2.06-.94-.94-2.06-.94 2.06-2.06.94zm-11 1L8.5 8.5l.94-2.06 2.06-.94-2.06-.94L8.5 2.5l-.94 2.06-2.06.94zm10 10l.94 2.06.94-2.06 2.06-.94-2.06-.94-.94-2.06-.94 2.06-2.06.94z\"/><path d=\"M17.41 7.96l-1.37-1.37c-.4-.4-.92-.59-1.43-.59-.52 0-1.04.2-1.43.59L10.3 9.45l-7.72 7.72c-.78.78-.78 2.05 0 2.83L4 21.41c.39.39.9.59 1.41.59.51 0 1.02-.2 1.41-.59l7.78-7.78 2.81-2.81c.8-.78.8-2.07 0-2.86zM5.41 20L4 18.59l7.72-7.72 1.47 1.35L5.41 20z\"/>\n",
              "  </svg>\n",
              "      </button>\n",
              "      \n",
              "  <style>\n",
              "    .colab-df-container {\n",
              "      display:flex;\n",
              "      flex-wrap:wrap;\n",
              "      gap: 12px;\n",
              "    }\n",
              "\n",
              "    .colab-df-convert {\n",
              "      background-color: #E8F0FE;\n",
              "      border: none;\n",
              "      border-radius: 50%;\n",
              "      cursor: pointer;\n",
              "      display: none;\n",
              "      fill: #1967D2;\n",
              "      height: 32px;\n",
              "      padding: 0 0 0 0;\n",
              "      width: 32px;\n",
              "    }\n",
              "\n",
              "    .colab-df-convert:hover {\n",
              "      background-color: #E2EBFA;\n",
              "      box-shadow: 0px 1px 2px rgba(60, 64, 67, 0.3), 0px 1px 3px 1px rgba(60, 64, 67, 0.15);\n",
              "      fill: #174EA6;\n",
              "    }\n",
              "\n",
              "    [theme=dark] .colab-df-convert {\n",
              "      background-color: #3B4455;\n",
              "      fill: #D2E3FC;\n",
              "    }\n",
              "\n",
              "    [theme=dark] .colab-df-convert:hover {\n",
              "      background-color: #434B5C;\n",
              "      box-shadow: 0px 1px 3px 1px rgba(0, 0, 0, 0.15);\n",
              "      filter: drop-shadow(0px 1px 2px rgba(0, 0, 0, 0.3));\n",
              "      fill: #FFFFFF;\n",
              "    }\n",
              "  </style>\n",
              "\n",
              "      <script>\n",
              "        const buttonEl =\n",
              "          document.querySelector('#df-fe8c4abc-8d46-4f18-860e-c5f0c26b6ed6 button.colab-df-convert');\n",
              "        buttonEl.style.display =\n",
              "          google.colab.kernel.accessAllowed ? 'block' : 'none';\n",
              "\n",
              "        async function convertToInteractive(key) {\n",
              "          const element = document.querySelector('#df-fe8c4abc-8d46-4f18-860e-c5f0c26b6ed6');\n",
              "          const dataTable =\n",
              "            await google.colab.kernel.invokeFunction('convertToInteractive',\n",
              "                                                     [key], {});\n",
              "          if (!dataTable) return;\n",
              "\n",
              "          const docLinkHtml = 'Like what you see? Visit the ' +\n",
              "            '<a target=\"_blank\" href=https://colab.research.google.com/notebooks/data_table.ipynb>data table notebook</a>'\n",
              "            + ' to learn more about interactive tables.';\n",
              "          element.innerHTML = '';\n",
              "          dataTable['output_type'] = 'display_data';\n",
              "          await google.colab.output.renderOutput(dataTable, element);\n",
              "          const docLink = document.createElement('div');\n",
              "          docLink.innerHTML = docLinkHtml;\n",
              "          element.appendChild(docLink);\n",
              "        }\n",
              "      </script>\n",
              "    </div>\n",
              "  </div>\n",
              "  "
            ]
          },
          "metadata": {},
          "execution_count": 25
        }
      ]
    },
    {
      "cell_type": "code",
      "source": [
        "high_vif_features = vif.loc[vif['VIF Factor'] > 5, 'features'].tolist()"
      ],
      "metadata": {
        "id": "ZBkihdjxjFQ7"
      },
      "execution_count": null,
      "outputs": []
    },
    {
      "cell_type": "code",
      "source": [
        "# 다중공선성 높은 피쳐 총 70개 중 34개 \n",
        "len(high_vif_features)"
      ],
      "metadata": {
        "colab": {
          "base_uri": "https://localhost:8080/"
        },
        "id": "YfCQmi8ZoiWf",
        "outputId": "03015f6d-4b9f-4569-feb7-8998ef3d03ec"
      },
      "execution_count": null,
      "outputs": [
        {
          "output_type": "execute_result",
          "data": {
            "text/plain": [
              "34"
            ]
          },
          "metadata": {},
          "execution_count": 27
        }
      ]
    },
    {
      "cell_type": "markdown",
      "source": [
        "# 아까 제외한 카테고리컬 데이터랑 합해서 Feature 구성"
      ],
      "metadata": {
        "id": "pei-4OrjnrG8"
      }
    },
    {
      "cell_type": "code",
      "source": [
        "df_minus_highvif = df.drop(high_vif_features, axis=1)\n"
      ],
      "metadata": {
        "id": "ZnjOhHT0j6j0"
      },
      "execution_count": null,
      "outputs": []
    },
    {
      "cell_type": "code",
      "source": [
        "df_processed=pd.get_dummies(df_minus_highvif)"
      ],
      "metadata": {
        "id": "eoNCIFFDqN8U"
      },
      "execution_count": null,
      "outputs": []
    },
    {
      "cell_type": "markdown",
      "source": [
        "# 전처리 종료 데이터"
      ],
      "metadata": {
        "id": "a36QpPGY1GWC"
      }
    },
    {
      "cell_type": "code",
      "source": [
        "df_processed.info()"
      ],
      "metadata": {
        "colab": {
          "base_uri": "https://localhost:8080/"
        },
        "id": "G5Qlx-9D2CYq",
        "outputId": "7b008c80-82d5-4ad3-c0df-b1e21248cfe1"
      },
      "execution_count": null,
      "outputs": [
        {
          "output_type": "stream",
          "name": "stdout",
          "text": [
            "<class 'pandas.core.frame.DataFrame'>\n",
            "Int64Index: 34208 entries, 36293764 to 36386612\n",
            "Data columns (total 39 columns):\n",
            " #   Column                    Non-Null Count  Dtype  \n",
            "---  ------                    --------------  -----  \n",
            " 0   size_m2                   34208 non-null  float64\n",
            " 1   deposit                   34208 non-null  int64  \n",
            " 2   manage_cost               34208 non-null  float64\n",
            " 3   manage_cost_count         34208 non-null  int64  \n",
            " 4   elevator                  34208 non-null  int64  \n",
            " 5   parking                   34208 non-null  int64  \n",
            " 6   near_subways_count        34208 non-null  int64  \n",
            " 7   options_count             34208 non-null  int64  \n",
            " 8   supermarket_dist          34208 non-null  float64\n",
            " 9   convenience_store_dist    34208 non-null  float64\n",
            " 10  school_dist               34208 non-null  float64\n",
            " 11  subway_dist               34208 non-null  float64\n",
            " 12  cultural_venue_dist       34208 non-null  float64\n",
            " 13  public_institution_dist   34208 non-null  float64\n",
            " 14  hospital_dist             34208 non-null  float64\n",
            " 15  x_w84                     34208 non-null  float64\n",
            " 16  building_others_p         34208 non-null  float64\n",
            " 17  ppltn_total               34208 non-null  float64\n",
            " 18  gender_ratio              34208 non-null  float64\n",
            " 19  post_aged                 34208 non-null  int64  \n",
            " 20  ppltn_dnsty               34208 non-null  float64\n",
            " 21  corp_to_pop               34208 non-null  float64\n",
            " 22  hhd_collective_p          34208 non-null  float64\n",
            " 23  app_officetel             34208 non-null  float64\n",
            " 24  green_per_area            34208 non-null  float64\n",
            " 25  dust_level                34208 non-null  float64\n",
            " 26  ppltn_net_migration_rate  34208 non-null  float64\n",
            " 27  safety_idx                34208 non-null  float64\n",
            " 28  deposit+rent              34208 non-null  float64\n",
            " 29  room_direction_score      34208 non-null  int64  \n",
            " 30  manage_cost_inc_num       34208 non-null  int64  \n",
            " 31  near_subways_num          34208 non-null  int64  \n",
            " 32  options_num               34208 non-null  int64  \n",
            " 33  room_floor_score          34208 non-null  int64  \n",
            " 34  service_type_빌라           34208 non-null  uint8  \n",
            " 35  service_type_오피스텔         34208 non-null  uint8  \n",
            " 36  service_type_원룸           34208 non-null  uint8  \n",
            " 37  sales_type_월세             34208 non-null  uint8  \n",
            " 38  sales_type_전세             34208 non-null  uint8  \n",
            "dtypes: float64(22), int64(12), uint8(5)\n",
            "memory usage: 9.3 MB\n"
          ]
        }
      ]
    },
    {
      "cell_type": "markdown",
      "source": [
        "총 컬럼 70\n",
        "<br>카테고리 제외 : 59개, 카테고리컬 11개\n",
        "<br>상관성 높은거 :  34개\n",
        "<br> 상관성 뺴고나면 25개\n",
        "<br> 총 36개\n",
        "\n",
        "-> 더미화 후 최종 39개\n",
        "\n"
      ],
      "metadata": {
        "id": "ubqbjKV7pBap"
      }
    },
    {
      "cell_type": "markdown",
      "source": [
        "# Data scaling"
      ],
      "metadata": {
        "id": "E4fdzFiIl8hk"
      }
    },
    {
      "cell_type": "code",
      "source": [
        "import pathlib\n",
        "import matplotlib.pyplot as plt\n",
        "import pandas as pd\n",
        "import seaborn as sns\n",
        "import tensorflow as tf\n",
        "from tensorflow import keras\n",
        "from tensorflow.keras import layers\n",
        "from torchvision.transforms import ToTensor # 이미지 증강(Augmentation). ToTensor -> Torch Tensor로 만들어 주는 작업\n",
        "from torch.utils.data import DataLoader # 모델에 데이터를 공급하는 역할"
      ],
      "metadata": {
        "id": "5YyKxGOj35Gt"
      },
      "execution_count": null,
      "outputs": []
    },
    {
      "cell_type": "code",
      "source": [
        "# df_processed = df_minus_highvif.drop(['deposit+rent'], axis=1)"
      ],
      "metadata": {
        "id": "F5yGlGb-l7pL"
      },
      "execution_count": null,
      "outputs": []
    },
    {
      "cell_type": "code",
      "source": [
        "# 구체적인 장치 정보 확인하기\n",
        "from tensorflow.python.client import device_lib\n",
        "\n",
        "device_lib.list_local_devices()"
      ],
      "metadata": {
        "colab": {
          "base_uri": "https://localhost:8080/"
        },
        "id": "zP6kaAPTBBR0",
        "outputId": "0ad2b6a8-ea03-46ce-90fd-0f971436a9b6"
      },
      "execution_count": null,
      "outputs": [
        {
          "output_type": "execute_result",
          "data": {
            "text/plain": [
              "[name: \"/device:CPU:0\"\n",
              " device_type: \"CPU\"\n",
              " memory_limit: 268435456\n",
              " locality {\n",
              " }\n",
              " incarnation: 689478951443694996\n",
              " xla_global_id: -1,\n",
              " name: \"/device:GPU:0\"\n",
              " device_type: \"GPU\"\n",
              " memory_limit: 14343274496\n",
              " locality {\n",
              "   bus_id: 1\n",
              "   links {\n",
              "   }\n",
              " }\n",
              " incarnation: 5269439948835378510\n",
              " physical_device_desc: \"device: 0, name: Tesla T4, pci bus id: 0000:00:04.0, compute capability: 7.5\"\n",
              " xla_global_id: 416903419]"
            ]
          },
          "metadata": {},
          "execution_count": 33
        }
      ]
    },
    {
      "cell_type": "code",
      "source": [
        "df_processed.info()"
      ],
      "metadata": {
        "colab": {
          "base_uri": "https://localhost:8080/"
        },
        "id": "l_hrqtoiCWeK",
        "outputId": "ae596cd5-d6f3-482b-cd56-b5efa286c9c3"
      },
      "execution_count": null,
      "outputs": [
        {
          "output_type": "stream",
          "name": "stdout",
          "text": [
            "<class 'pandas.core.frame.DataFrame'>\n",
            "Int64Index: 34208 entries, 36293764 to 36386612\n",
            "Data columns (total 39 columns):\n",
            " #   Column                    Non-Null Count  Dtype  \n",
            "---  ------                    --------------  -----  \n",
            " 0   size_m2                   34208 non-null  float64\n",
            " 1   deposit                   34208 non-null  int64  \n",
            " 2   manage_cost               34208 non-null  float64\n",
            " 3   manage_cost_count         34208 non-null  int64  \n",
            " 4   elevator                  34208 non-null  int64  \n",
            " 5   parking                   34208 non-null  int64  \n",
            " 6   near_subways_count        34208 non-null  int64  \n",
            " 7   options_count             34208 non-null  int64  \n",
            " 8   supermarket_dist          34208 non-null  float64\n",
            " 9   convenience_store_dist    34208 non-null  float64\n",
            " 10  school_dist               34208 non-null  float64\n",
            " 11  subway_dist               34208 non-null  float64\n",
            " 12  cultural_venue_dist       34208 non-null  float64\n",
            " 13  public_institution_dist   34208 non-null  float64\n",
            " 14  hospital_dist             34208 non-null  float64\n",
            " 15  x_w84                     34208 non-null  float64\n",
            " 16  building_others_p         34208 non-null  float64\n",
            " 17  ppltn_total               34208 non-null  float64\n",
            " 18  gender_ratio              34208 non-null  float64\n",
            " 19  post_aged                 34208 non-null  int64  \n",
            " 20  ppltn_dnsty               34208 non-null  float64\n",
            " 21  corp_to_pop               34208 non-null  float64\n",
            " 22  hhd_collective_p          34208 non-null  float64\n",
            " 23  app_officetel             34208 non-null  float64\n",
            " 24  green_per_area            34208 non-null  float64\n",
            " 25  dust_level                34208 non-null  float64\n",
            " 26  ppltn_net_migration_rate  34208 non-null  float64\n",
            " 27  safety_idx                34208 non-null  float64\n",
            " 28  deposit+rent              34208 non-null  float64\n",
            " 29  room_direction_score      34208 non-null  int64  \n",
            " 30  manage_cost_inc_num       34208 non-null  int64  \n",
            " 31  near_subways_num          34208 non-null  int64  \n",
            " 32  options_num               34208 non-null  int64  \n",
            " 33  room_floor_score          34208 non-null  int64  \n",
            " 34  service_type_빌라           34208 non-null  uint8  \n",
            " 35  service_type_오피스텔         34208 non-null  uint8  \n",
            " 36  service_type_원룸           34208 non-null  uint8  \n",
            " 37  sales_type_월세             34208 non-null  uint8  \n",
            " 38  sales_type_전세             34208 non-null  uint8  \n",
            "dtypes: float64(22), int64(12), uint8(5)\n",
            "memory usage: 9.3 MB\n"
          ]
        }
      ]
    },
    {
      "cell_type": "code",
      "source": [
        "from sklearn.preprocessing import StandardScaler\n",
        "X = df_processed.drop(['deposit+rent'], axis=1)\n",
        "y = df_processed['deposit+rent']\n",
        "std = StandardScaler()\n",
        "std.fit(X)\n",
        "X = std.transform(X)"
      ],
      "metadata": {
        "id": "oOvazrPxl5G9"
      },
      "execution_count": null,
      "outputs": []
    },
    {
      "cell_type": "code",
      "source": [
        "from sklearn.model_selection import train_test_split\n",
        "\n",
        "X_train, X_test, y_train, y_test = train_test_split(X, y, test_size=0.25, random_state=42)"
      ],
      "metadata": {
        "id": "Q_tHunZVCirR"
      },
      "execution_count": null,
      "outputs": []
    },
    {
      "cell_type": "code",
      "source": [
        "def build_model():\n",
        "  model = keras.Sequential([\n",
        "      layers.Dense(64, activation=\"relu\"),\n",
        "      layers.Dense(64, activation=\"relu\"),\n",
        "      layers.Dense(1)\n",
        "  ])\n",
        "  model.compile(optimizer=\"Adam\", loss=\"mse\", metrics=[\"mae\"])\n",
        "  return model"
      ],
      "metadata": {
        "id": "k7j87gA77q40"
      },
      "execution_count": null,
      "outputs": []
    },
    {
      "cell_type": "code",
      "source": [
        "# from keras.callbacks import EarlyStopping\n",
        "\n",
        "# # 조기 종료를 위한 EarlyStopping 콜백 정의\n",
        "# # early_stopping = EarlyStopping(patience=1000, monitor='mae', mode='min')\n",
        "# callbacks=[early_stopping]"
      ],
      "metadata": {
        "id": "D3fGPohwH5sU",
        "colab": {
          "base_uri": "https://localhost:8080/",
          "height": 207
        },
        "outputId": "43559dff-2e8c-42b4-a0ce-5e69e0ea5714"
      },
      "execution_count": null,
      "outputs": [
        {
          "output_type": "error",
          "ename": "NameError",
          "evalue": "ignored",
          "traceback": [
            "\u001b[0;31m---------------------------------------------------------------------------\u001b[0m",
            "\u001b[0;31mNameError\u001b[0m                                 Traceback (most recent call last)",
            "\u001b[0;32m<ipython-input-38-dd40ec130154>\u001b[0m in \u001b[0;36m<cell line: 5>\u001b[0;34m()\u001b[0m\n\u001b[1;32m      3\u001b[0m \u001b[0;31m# 조기 종료를 위한 EarlyStopping 콜백 정의\u001b[0m\u001b[0;34m\u001b[0m\u001b[0;34m\u001b[0m\u001b[0m\n\u001b[1;32m      4\u001b[0m \u001b[0;31m# early_stopping = EarlyStopping(patience=1000, monitor='mae', mode='min')\u001b[0m\u001b[0;34m\u001b[0m\u001b[0;34m\u001b[0m\u001b[0m\n\u001b[0;32m----> 5\u001b[0;31m \u001b[0mcallbacks\u001b[0m\u001b[0;34m=\u001b[0m\u001b[0;34m[\u001b[0m\u001b[0mearly_stopping\u001b[0m\u001b[0;34m]\u001b[0m\u001b[0;34m\u001b[0m\u001b[0;34m\u001b[0m\u001b[0m\n\u001b[0m",
            "\u001b[0;31mNameError\u001b[0m: name 'early_stopping' is not defined"
          ]
        }
      ]
    },
    {
      "cell_type": "code",
      "source": [
        "k=4\n",
        "num_val_samples = len(X_train) // k\n",
        "num_epochs = 50\n",
        "all_scores = []\n",
        "# for i in range(k):\n",
        "#     print(f\"#{i}번째 폴드 처리중\")\n",
        "#     val_data = X_train[i * num_val_samples: (i+1) * num_val_samples]\n",
        "#     val_targets = y_train[i * num_val_samples: (i+1) * num_val_samples]\n",
        "#     partial_train_data = np.concatenate(\n",
        "#     [\n",
        "#         X_train[:i * num_val_samples],\n",
        "#         X_train[(i+1) * num_val_samples:]\n",
        "#          ], axis=0)    \n",
        "#     partial_train_targets = np.concatenate(\n",
        "#     [\n",
        "#         y_train[:i * num_val_samples],\n",
        "#         y_train[(i+1) * num_val_samples:]],\n",
        "#         axis=0)    \n",
        "#     model = build_model()\n",
        "#     model.fit(partial_train_data, partial_train_targets,\n",
        "#              epochs=num_epochs, batch_size=256, verbose=0)\n",
        "#     # , callbacks=[early_stopping]\n",
        "#     val_mse , val_mae = model.evaluate(val_data, val_targets, verbose=0)\n",
        "#     all_scores.append(val_mae)"
      ],
      "metadata": {
        "id": "_nztd_U1ES5Z"
      },
      "execution_count": null,
      "outputs": []
    },
    {
      "cell_type": "code",
      "source": [
        "# np.mean(all_scores)"
      ],
      "metadata": {
        "id": "lGWi8pG-L4uw"
      },
      "execution_count": null,
      "outputs": []
    },
    {
      "cell_type": "code",
      "source": [
        "# all_scores"
      ],
      "metadata": {
        "id": "Q78lymaFL-zD"
      },
      "execution_count": null,
      "outputs": []
    },
    {
      "cell_type": "code",
      "source": [
        "# epochs 500 번으로 검증\n",
        "num_epochs = 100\n",
        "all_mae_histories =[]\n",
        "for i in range(k):\n",
        "  print(f\"#{i}번째 폴드 처리중\")\n",
        "  val_data = X_train[i * num_val_samples: (i+1) * num_val_samples]\n",
        "  val_targets = y_train[i * num_val_samples: (i+1) * num_val_samples]\n",
        "  partial_train_data = np.concatenate(\n",
        "    [X_train[:i * num_val_samples],\n",
        "        X_train[(i+1) * num_val_samples:]],\n",
        "        axis=0)\n",
        "      \n",
        "  partial_train_targets = np.concatenate(\n",
        "    [y_train[:i * num_val_samples],\n",
        "      y_train[(i+1) * num_val_samples:]],\n",
        "    axis=0)    \n",
        "  model = build_model()\n",
        "  history = model.fit(partial_train_data, partial_train_targets,\n",
        "            validation_data =(val_data, val_targets),\n",
        "            epochs=num_epochs, batch_size=256, verbose=0)\n",
        "  # , callbacks=[early_stopping]\n",
        "\n",
        "  mae_history = history.history['val_mae']\n",
        "  all_mae_histories.append(mae_history)\n"
      ],
      "metadata": {
        "id": "tsVmIKV2EfCB",
        "colab": {
          "base_uri": "https://localhost:8080/"
        },
        "outputId": "f79fb1f2-fc1d-4cab-88ba-279a3b5beb94"
      },
      "execution_count": null,
      "outputs": [
        {
          "output_type": "stream",
          "name": "stdout",
          "text": [
            "#0번째 폴드 처리중\n",
            "#1번째 폴드 처리중\n",
            "#2번째 폴드 처리중\n",
            "#3번째 폴드 처리중\n"
          ]
        }
      ]
    },
    {
      "cell_type": "code",
      "source": [
        "average_mae_history = [\n",
        "    np.mean([x[i] for x in all_mae_histories]) for i in range(num_epochs)]"
      ],
      "metadata": {
        "id": "DxfZgO9pFNNS"
      },
      "execution_count": null,
      "outputs": []
    },
    {
      "cell_type": "code",
      "source": [
        "plt.plot(range(1, len(average_mae_history) + 1), average_mae_history)\n",
        "plt.xlabel(\"Epochs\")\n",
        "plt.ylabel(\"Validation MAE\")\n",
        "plt.show()"
      ],
      "metadata": {
        "id": "7PdJ1zUQGjsC",
        "colab": {
          "base_uri": "https://localhost:8080/",
          "height": 1000
        },
        "outputId": "97a3636a-7c0e-40ed-ddfa-6899b32a4c1c"
      },
      "execution_count": null,
      "outputs": [
        {
          "output_type": "stream",
          "name": "stderr",
          "text": [
            "WARNING:matplotlib.font_manager:findfont: Font family 'NanumGothic' not found.\n",
            "WARNING:matplotlib.font_manager:findfont: Font family 'NanumGothic' not found.\n",
            "WARNING:matplotlib.font_manager:findfont: Font family 'NanumGothic' not found.\n",
            "WARNING:matplotlib.font_manager:findfont: Font family 'NanumGothic' not found.\n",
            "WARNING:matplotlib.font_manager:findfont: Font family 'NanumGothic' not found.\n",
            "WARNING:matplotlib.font_manager:findfont: Font family 'NanumGothic' not found.\n",
            "WARNING:matplotlib.font_manager:findfont: Font family 'NanumGothic' not found.\n",
            "WARNING:matplotlib.font_manager:findfont: Font family 'NanumGothic' not found.\n",
            "WARNING:matplotlib.font_manager:findfont: Font family 'NanumGothic' not found.\n",
            "WARNING:matplotlib.font_manager:findfont: Font family 'NanumGothic' not found.\n",
            "WARNING:matplotlib.font_manager:findfont: Font family 'NanumGothic' not found.\n",
            "WARNING:matplotlib.font_manager:findfont: Font family 'NanumGothic' not found.\n",
            "WARNING:matplotlib.font_manager:findfont: Font family 'NanumGothic' not found.\n",
            "WARNING:matplotlib.font_manager:findfont: Font family 'NanumGothic' not found.\n",
            "WARNING:matplotlib.font_manager:findfont: Font family 'NanumGothic' not found.\n",
            "WARNING:matplotlib.font_manager:findfont: Font family 'NanumGothic' not found.\n",
            "WARNING:matplotlib.font_manager:findfont: Font family 'NanumGothic' not found.\n",
            "WARNING:matplotlib.font_manager:findfont: Font family 'NanumGothic' not found.\n",
            "WARNING:matplotlib.font_manager:findfont: Font family 'NanumGothic' not found.\n",
            "WARNING:matplotlib.font_manager:findfont: Font family 'NanumGothic' not found.\n",
            "WARNING:matplotlib.font_manager:findfont: Font family 'NanumGothic' not found.\n",
            "WARNING:matplotlib.font_manager:findfont: Font family 'NanumGothic' not found.\n",
            "WARNING:matplotlib.font_manager:findfont: Font family 'NanumGothic' not found.\n",
            "WARNING:matplotlib.font_manager:findfont: Font family 'NanumGothic' not found.\n",
            "WARNING:matplotlib.font_manager:findfont: Font family 'NanumGothic' not found.\n",
            "WARNING:matplotlib.font_manager:findfont: Font family 'NanumGothic' not found.\n",
            "WARNING:matplotlib.font_manager:findfont: Font family 'NanumGothic' not found.\n",
            "WARNING:matplotlib.font_manager:findfont: Font family 'NanumGothic' not found.\n",
            "WARNING:matplotlib.font_manager:findfont: Font family 'NanumGothic' not found.\n",
            "WARNING:matplotlib.font_manager:findfont: Font family 'NanumGothic' not found.\n",
            "WARNING:matplotlib.font_manager:findfont: Font family 'NanumGothic' not found.\n",
            "WARNING:matplotlib.font_manager:findfont: Font family 'NanumGothic' not found.\n",
            "WARNING:matplotlib.font_manager:findfont: Font family 'NanumGothic' not found.\n",
            "WARNING:matplotlib.font_manager:findfont: Font family 'NanumGothic' not found.\n",
            "WARNING:matplotlib.font_manager:findfont: Font family 'NanumGothic' not found.\n",
            "WARNING:matplotlib.font_manager:findfont: Font family 'NanumGothic' not found.\n",
            "WARNING:matplotlib.font_manager:findfont: Font family 'NanumGothic' not found.\n",
            "WARNING:matplotlib.font_manager:findfont: Font family 'NanumGothic' not found.\n",
            "WARNING:matplotlib.font_manager:findfont: Font family 'NanumGothic' not found.\n",
            "WARNING:matplotlib.font_manager:findfont: Font family 'NanumGothic' not found.\n",
            "WARNING:matplotlib.font_manager:findfont: Font family 'NanumGothic' not found.\n",
            "WARNING:matplotlib.font_manager:findfont: Font family 'NanumGothic' not found.\n",
            "WARNING:matplotlib.font_manager:findfont: Font family 'NanumGothic' not found.\n"
          ]
        },
        {
          "output_type": "display_data",
          "data": {
            "text/plain": [
              "<Figure size 640x480 with 1 Axes>"
            ],
            "image/png": "[encoded data removed]"
          },
          "metadata": {}
        }
      ]
    },
    {
      "cell_type": "code",
      "source": [
        "truncated_mae_history = average_mae_history[10:]\n",
        "plt.plot(range(1, len(truncated_mae_history)+1), truncated_mae_history)\n",
        "plt.xlabel(\"Epochs\")\n",
        "plt.ylabel(\"Validation MAE\")\n",
        "plt.show()"
      ],
      "metadata": {
        "id": "DvsP3yhJGx8q",
        "colab": {
          "base_uri": "https://localhost:8080/",
          "height": 1000
        },
        "outputId": "35ca14fd-75d2-4030-be67-b2e9d278abc6"
      },
      "execution_count": null,
      "outputs": [
        {
          "output_type": "stream",
          "name": "stderr",
          "text": [
            "WARNING:matplotlib.font_manager:findfont: Font family 'NanumGothic' not found.\n",
            "WARNING:matplotlib.font_manager:findfont: Font family 'NanumGothic' not found.\n",
            "WARNING:matplotlib.font_manager:findfont: Font family 'NanumGothic' not found.\n",
            "WARNING:matplotlib.font_manager:findfont: Font family 'NanumGothic' not found.\n",
            "WARNING:matplotlib.font_manager:findfont: Font family 'NanumGothic' not found.\n",
            "WARNING:matplotlib.font_manager:findfont: Font family 'NanumGothic' not found.\n",
            "WARNING:matplotlib.font_manager:findfont: Font family 'NanumGothic' not found.\n",
            "WARNING:matplotlib.font_manager:findfont: Font family 'NanumGothic' not found.\n",
            "WARNING:matplotlib.font_manager:findfont: Font family 'NanumGothic' not found.\n",
            "WARNING:matplotlib.font_manager:findfont: Font family 'NanumGothic' not found.\n",
            "WARNING:matplotlib.font_manager:findfont: Font family 'NanumGothic' not found.\n",
            "WARNING:matplotlib.font_manager:findfont: Font family 'NanumGothic' not found.\n",
            "WARNING:matplotlib.font_manager:findfont: Font family 'NanumGothic' not found.\n",
            "WARNING:matplotlib.font_manager:findfont: Font family 'NanumGothic' not found.\n",
            "WARNING:matplotlib.font_manager:findfont: Font family 'NanumGothic' not found.\n",
            "WARNING:matplotlib.font_manager:findfont: Font family 'NanumGothic' not found.\n",
            "WARNING:matplotlib.font_manager:findfont: Font family 'NanumGothic' not found.\n",
            "WARNING:matplotlib.font_manager:findfont: Font family 'NanumGothic' not found.\n",
            "WARNING:matplotlib.font_manager:findfont: Font family 'NanumGothic' not found.\n",
            "WARNING:matplotlib.font_manager:findfont: Font family 'NanumGothic' not found.\n",
            "WARNING:matplotlib.font_manager:findfont: Font family 'NanumGothic' not found.\n",
            "WARNING:matplotlib.font_manager:findfont: Font family 'NanumGothic' not found.\n",
            "WARNING:matplotlib.font_manager:findfont: Font family 'NanumGothic' not found.\n",
            "WARNING:matplotlib.font_manager:findfont: Font family 'NanumGothic' not found.\n",
            "WARNING:matplotlib.font_manager:findfont: Font family 'NanumGothic' not found.\n",
            "WARNING:matplotlib.font_manager:findfont: Font family 'NanumGothic' not found.\n",
            "WARNING:matplotlib.font_manager:findfont: Font family 'NanumGothic' not found.\n",
            "WARNING:matplotlib.font_manager:findfont: Font family 'NanumGothic' not found.\n",
            "WARNING:matplotlib.font_manager:findfont: Font family 'NanumGothic' not found.\n",
            "WARNING:matplotlib.font_manager:findfont: Font family 'NanumGothic' not found.\n",
            "WARNING:matplotlib.font_manager:findfont: Font family 'NanumGothic' not found.\n",
            "WARNING:matplotlib.font_manager:findfont: Font family 'NanumGothic' not found.\n",
            "WARNING:matplotlib.font_manager:findfont: Font family 'NanumGothic' not found.\n",
            "WARNING:matplotlib.font_manager:findfont: Font family 'NanumGothic' not found.\n",
            "WARNING:matplotlib.font_manager:findfont: Font family 'NanumGothic' not found.\n",
            "WARNING:matplotlib.font_manager:findfont: Font family 'NanumGothic' not found.\n",
            "WARNING:matplotlib.font_manager:findfont: Font family 'NanumGothic' not found.\n",
            "WARNING:matplotlib.font_manager:findfont: Font family 'NanumGothic' not found.\n",
            "WARNING:matplotlib.font_manager:findfont: Font family 'NanumGothic' not found.\n",
            "WARNING:matplotlib.font_manager:findfont: Font family 'NanumGothic' not found.\n",
            "WARNING:matplotlib.font_manager:findfont: Font family 'NanumGothic' not found.\n"
          ]
        },
        {
          "output_type": "display_data",
          "data": {
            "text/plain": [
              "<Figure size 640x480 with 1 Axes>"
            ],
            "image/png": "[encoded data removed]"
          },
          "metadata": {}
        }
      ]
    },
    {
      "cell_type": "code",
      "source": [
        "model = build_model()\n",
        "model.fit(X_train, y_train,\n",
        "          epochs=130, batch_size = 256, verbose=0)\n",
        "test_mse_score, test_mae_score = model.evaluate(X_test, y_test)"
      ],
      "metadata": {
        "id": "LHf89hqGHBKW",
        "colab": {
          "base_uri": "https://localhost:8080/"
        },
        "outputId": "e59594ac-c6a4-4cc7-ce2c-1e6c58555533"
      },
      "execution_count": null,
      "outputs": [
        {
          "output_type": "stream",
          "name": "stdout",
          "text": [
            "268/268 [==============================] - 1s 2ms/step - loss: 317.5362 - mae: 11.0097\n"
          ]
        }
      ]
    },
    {
      "cell_type": "code",
      "source": [
        "predictions = model.predict(X_test)\n",
        "predictions[0]"
      ],
      "metadata": {
        "id": "vQwpecErHXiR",
        "colab": {
          "base_uri": "https://localhost:8080/"
        },
        "outputId": "bd4ff5df-bbbd-4998-8331-9fac801052e7"
      },
      "execution_count": null,
      "outputs": [
        {
          "output_type": "stream",
          "name": "stdout",
          "text": [
            "268/268 [==============================] - 0s 1ms/step\n"
          ]
        },
        {
          "output_type": "execute_result",
          "data": {
            "text/plain": [
              "array([89.7765], dtype=float32)"
            ]
          },
          "metadata": {},
          "execution_count": 50
        }
      ]
    },
    {
      "cell_type": "code",
      "execution_count": null,
      "metadata": {
        "id": "aXQqtTrfaESL"
      },
      "outputs": [],
      "source": [
        "# # sales_type, service_type dummy 변환 bool 형식\n",
        "# df_final=pd.get_dummies(df)"
      ]
    },
    {
      "cell_type": "code",
      "execution_count": null,
      "metadata": {
        "colab": {
          "base_uri": "https://localhost:8080/"
        },
        "id": "YlSaYARAzJ8b",
        "outputId": "a24ad881-1392-446f-9231-492cd5eea1d7"
      },
      "outputs": [
        {
          "output_type": "execute_result",
          "data": {
            "text/plain": [
              "id\n",
              "36293764     29.750000\n",
              "36576214     31.750000\n",
              "36533474     52.916667\n",
              "36485939    127.500000\n",
              "36485528     42.916667\n",
              "               ...    \n",
              "36557272     60.833333\n",
              "36492163     71.666667\n",
              "36504430     42.916667\n",
              "36544670     55.833333\n",
              "36386612     67.500000\n",
              "Name: deposit+rent, Length: 34208, dtype: float64"
            ]
          },
          "metadata": {},
          "execution_count": 22
        }
      ],
      "source": [
        "train['deposit+rent']"
      ]
    },
    {
      "cell_type": "code",
      "execution_count": null,
      "metadata": {
        "id": "kxyNRD-4aESL"
      },
      "outputs": [],
      "source": [
        "Y = train['deposit+rent']\n",
        "X = train.drop(['deposit+rent'], axis=1)"
      ]
    },
    {
      "cell_type": "code",
      "execution_count": null,
      "metadata": {
        "id": "etkr7NgAaESV",
        "outputId": "acc73d2e-91f5-4921-bc61-ac0996de457d"
      },
      "outputs": [
        {
          "data": {
            "text/html": [
              "<style>#sk-container-id-1 {color: black;background-color: white;}#sk-container-id-1 pre{padding: 0;}#sk-container-id-1 div.sk-toggleable {background-color: white;}#sk-container-id-1 label.sk-toggleable__label {cursor: pointer;display: block;width: 100%;margin-bottom: 0;padding: 0.3em;box-sizing: border-box;text-align: center;}#sk-container-id-1 label.sk-toggleable__label-arrow:before {content: \"▸\";float: left;margin-right: 0.25em;color: #696969;}#sk-container-id-1 label.sk-toggleable__label-arrow:hover:before {color: black;}#sk-container-id-1 div.sk-estimator:hover label.sk-toggleable__label-arrow:before {color: black;}#sk-container-id-1 div.sk-toggleable__content {max-height: 0;max-width: 0;overflow: hidden;text-align: left;background-color: #f0f8ff;}#sk-container-id-1 div.sk-toggleable__content pre {margin: 0.2em;color: black;border-radius: 0.25em;background-color: #f0f8ff;}#sk-container-id-1 input.sk-toggleable__control:checked~div.sk-toggleable__content {max-height: 200px;max-width: 100%;overflow: auto;}#sk-container-id-1 input.sk-toggleable__control:checked~label.sk-toggleable__label-arrow:before {content: \"▾\";}#sk-container-id-1 div.sk-estimator input.sk-toggleable__control:checked~label.sk-toggleable__label {background-color: #d4ebff;}#sk-container-id-1 div.sk-label input.sk-toggleable__control:checked~label.sk-toggleable__label {background-color: #d4ebff;}#sk-container-id-1 input.sk-hidden--visually {border: 0;clip: rect(1px 1px 1px 1px);clip: rect(1px, 1px, 1px, 1px);height: 1px;margin: -1px;overflow: hidden;padding: 0;position: absolute;width: 1px;}#sk-container-id-1 div.sk-estimator {font-family: monospace;background-color: #f0f8ff;border: 1px dotted black;border-radius: 0.25em;box-sizing: border-box;margin-bottom: 0.5em;}#sk-container-id-1 div.sk-estimator:hover {background-color: #d4ebff;}#sk-container-id-1 div.sk-parallel-item::after {content: \"\";width: 100%;border-bottom: 1px solid gray;flex-grow: 1;}#sk-container-id-1 div.sk-label:hover label.sk-toggleable__label {background-color: #d4ebff;}#sk-container-id-1 div.sk-serial::before {content: \"\";position: absolute;border-left: 1px solid gray;box-sizing: border-box;top: 0;bottom: 0;left: 50%;z-index: 0;}#sk-container-id-1 div.sk-serial {display: flex;flex-direction: column;align-items: center;background-color: white;padding-right: 0.2em;padding-left: 0.2em;position: relative;}#sk-container-id-1 div.sk-item {position: relative;z-index: 1;}#sk-container-id-1 div.sk-parallel {display: flex;align-items: stretch;justify-content: center;background-color: white;position: relative;}#sk-container-id-1 div.sk-item::before, #sk-container-id-1 div.sk-parallel-item::before {content: \"\";position: absolute;border-left: 1px solid gray;box-sizing: border-box;top: 0;bottom: 0;left: 50%;z-index: -1;}#sk-container-id-1 div.sk-parallel-item {display: flex;flex-direction: column;z-index: 1;position: relative;background-color: white;}#sk-container-id-1 div.sk-parallel-item:first-child::after {align-self: flex-end;width: 50%;}#sk-container-id-1 div.sk-parallel-item:last-child::after {align-self: flex-start;width: 50%;}#sk-container-id-1 div.sk-parallel-item:only-child::after {width: 0;}#sk-container-id-1 div.sk-dashed-wrapped {border: 1px dashed gray;margin: 0 0.4em 0.5em 0.4em;box-sizing: border-box;padding-bottom: 0.4em;background-color: white;}#sk-container-id-1 div.sk-label label {font-family: monospace;font-weight: bold;display: inline-block;line-height: 1.2em;}#sk-container-id-1 div.sk-label-container {text-align: center;}#sk-container-id-1 div.sk-container {/* jupyter's `normalize.less` sets `[hidden] { display: none; }` but bootstrap.min.css set `[hidden] { display: none !important; }` so we also need the `!important` here to be able to override the default hidden behavior on the sphinx rendered scikit-learn.org. See: https://github.com/scikit-learn/scikit-learn/issues/21755 */display: inline-block !important;position: relative;}#sk-container-id-1 div.sk-text-repr-fallback {display: none;}</style><div id=\"sk-container-id-1\" class=\"sk-top-container\"><div class=\"sk-text-repr-fallback\"><pre>LinearRegression()</pre><b>In a Jupyter environment, please rerun this cell to show the HTML representation or trust the notebook. <br />On GitHub, the HTML representation is unable to render, please try loading this page with nbviewer.org.</b></div><div class=\"sk-container\" hidden><div class=\"sk-item\"><div class=\"sk-estimator sk-toggleable\"><input class=\"sk-toggleable__control sk-hidden--visually\" id=\"sk-estimator-id-1\" type=\"checkbox\" checked><label for=\"sk-estimator-id-1\" class=\"sk-toggleable__label sk-toggleable__label-arrow\">LinearRegression</label><div class=\"sk-toggleable__content\"><pre>LinearRegression()</pre></div></div></div></div></div>"
            ],
            "text/plain": [
              "LinearRegression()"
            ]
          },
          "execution_count": 134,
          "metadata": {},
          "output_type": "execute_result"
        }
      ],
      "source": [
        "from sklearn.linear_model import LinearRegression\n",
        "\n",
        "lr = LinearRegression()\n",
        "lr.fit(data, target)"
      ]
    },
    {
      "cell_type": "code",
      "execution_count": null,
      "metadata": {
        "id": "oHfYrgXLzJ8i",
        "outputId": "8b95c2b8-b3d2-40ca-fcdd-da1d19112a53"
      },
      "outputs": [
        {
          "name": "stdout",
          "output_type": "stream",
          "text": [
            "0.6940771933873804\n",
            "0.6813614402152186\n"
          ]
        }
      ],
      "source": [
        "print(lr.score(data, target))\n",
        "print(lr.score(eval_data, eval_target))"
      ]
    },
    {
      "cell_type": "markdown",
      "source": [
        "#MINST 데이터 세트 & 데이터 로더 구성"
      ],
      "metadata": {
        "id": "h17pUyMU4qxo"
      }
    },
    {
      "cell_type": "code",
      "source": [
        "train_data = datasets.MNIST(\n",
        "    root='data', # 데이터를 저장할 root 디렉토리\n",
        "    train=True, #훈련용 데이터 설정\n",
        "    download=True, #다운로드\n",
        "    transform=ToTensor() # transform : 이미지 증강 기법지정 여기서는 단순하게 Torch TEnsfor로 변환   \n",
        ")\n",
        "\n",
        "test_data = datasets.MNIST(\n",
        "    root='data', # 데이터를 저장할 root 디렉토리\n",
        "    train=False, #훈련용 데이터 설정\n",
        "    download=True, #다운로드\n",
        "    transform=ToTensor() # transform : 이미지 증강 기법지정 여기서는 단순하게 Torch TEnsfor로 변환\n",
        ")"
      ],
      "metadata": {
        "id": "fhyKbHh64fQK",
        "colab": {
          "base_uri": "https://localhost:8080/"
        },
        "outputId": "83423243-edfa-4a23-aaa5-f72dac5de890"
      },
      "execution_count": null,
      "outputs": [
        {
          "output_type": "stream",
          "name": "stdout",
          "text": [
            "Downloading http://yann.lecun.com/exdb/mnist/train-images-idx3-ubyte.gz\n",
            "Downloading http://yann.lecun.com/exdb/mnist/train-images-idx3-ubyte.gz to data/MNIST/raw/train-images-idx3-ubyte.gz\n"
          ]
        },
        {
          "output_type": "stream",
          "name": "stderr",
          "text": [
            "100%|██████████| 9912422/9912422 [00:00<00:00, 263768453.92it/s]"
          ]
        },
        {
          "output_type": "stream",
          "name": "stdout",
          "text": [
            "Extracting data/MNIST/raw/train-images-idx3-ubyte.gz to data/MNIST/raw\n"
          ]
        },
        {
          "output_type": "stream",
          "name": "stderr",
          "text": [
            "\n"
          ]
        },
        {
          "output_type": "stream",
          "name": "stdout",
          "text": [
            "\n",
            "Downloading http://yann.lecun.com/exdb/mnist/train-labels-idx1-ubyte.gz\n",
            "Downloading http://yann.lecun.com/exdb/mnist/train-labels-idx1-ubyte.gz to data/MNIST/raw/train-labels-idx1-ubyte.gz\n"
          ]
        },
        {
          "output_type": "stream",
          "name": "stderr",
          "text": [
            "100%|██████████| 28881/28881 [00:00<00:00, 115147997.93it/s]\n"
          ]
        },
        {
          "output_type": "stream",
          "name": "stdout",
          "text": [
            "Extracting data/MNIST/raw/train-labels-idx1-ubyte.gz to data/MNIST/raw\n",
            "\n",
            "Downloading http://yann.lecun.com/exdb/mnist/t10k-images-idx3-ubyte.gz\n",
            "Downloading http://yann.lecun.com/exdb/mnist/t10k-images-idx3-ubyte.gz to data/MNIST/raw/t10k-images-idx3-ubyte.gz\n"
          ]
        },
        {
          "output_type": "stream",
          "name": "stderr",
          "text": [
            "100%|██████████| 1648877/1648877 [00:00<00:00, 120567831.74it/s]\n"
          ]
        },
        {
          "output_type": "stream",
          "name": "stdout",
          "text": [
            "Extracting data/MNIST/raw/t10k-images-idx3-ubyte.gz to data/MNIST/raw\n",
            "\n",
            "Downloading http://yann.lecun.com/exdb/mnist/t10k-labels-idx1-ubyte.gz\n",
            "Downloading http://yann.lecun.com/exdb/mnist/t10k-labels-idx1-ubyte.gz to data/MNIST/raw/t10k-labels-idx1-ubyte.gz\n"
          ]
        },
        {
          "output_type": "stream",
          "name": "stderr",
          "text": [
            "100%|██████████| 4542/4542 [00:00<00:00, 20888737.68it/s]"
          ]
        },
        {
          "output_type": "stream",
          "name": "stdout",
          "text": [
            "Extracting data/MNIST/raw/t10k-labels-idx1-ubyte.gz to data/MNIST/raw\n",
            "\n"
          ]
        },
        {
          "output_type": "stream",
          "name": "stderr",
          "text": [
            "\n"
          ]
        }
      ]
    },
    {
      "cell_type": "code",
      "source": [
        "import torch\n",
        "import matplotlib.pyplot as plt\n",
        "\n",
        "figure = plt.figure(figsize=(8, 8))\n",
        "cols, rows = 3, 3\n",
        "\n",
        "for i in range(1, cols * rows + 1):\n",
        "  sample_idx = torch.randint(len(train_data), size=(1, )).item()\n",
        "  feature, label = train_data[sample_idx]\n",
        "  figure.add_subplot(rows, cols, i)\n",
        "  plt.title(label)\n",
        "  plt.imshow(feature.squeeze(), cmap='gray')\n",
        "\n",
        "plt.show()"
      ],
      "metadata": {
        "id": "wuSYi97t6JzX"
      },
      "execution_count": null,
      "outputs": []
    },
    {
      "cell_type": "markdown",
      "source": [
        "# PyTorch Modeling\n",
        "- 파이토치는 대부분 서브 클래싱을 활용한 모델링을 수행합니다.\n",
        "  - torch.nn.Module 클래스를 상속받아 만든다.\n",
        "- 필수적으로 오버라이딩할 메소드는 __init__, 순전파를 담당하는 forward\n"
      ],
      "metadata": {
        "id": "e8baF0006kfa"
      }
    },
    {
      "cell_type": "code",
      "source": [
        "from torch import nn #딥러닝에 필요한 레이어 패키지\n",
        "\n",
        "class NeuralNetwork(nn.Module):\n",
        "\n",
        "  # 사용할 레이어 또는 블록을 정의하는 공간\n",
        "  def __init__(self):\n",
        "    super(NeuralNetwork, self).__init__()\n",
        "\n",
        "    self.flatten = nn.Flatten()\n",
        "\n",
        "    # 여러 레이어가 하나의 단위로 묶이는 블록을 만들기 위해서 sequential을 쓴다.\n",
        "    self.linear_relu_stack = nn.Sequential(\n",
        "        ## nn.Linear : Fully Connected 구조. Keras의 dense와 같다.\n",
        "        nn.Linear(in_features=28*28, out_features=128),\n",
        "        nn.ReLU(),\n",
        "        nn.Dropout(0.2), # 과대적합 방지, 훈련시 마다 랜덤하게 20%의 가중치를 0으로 설정하여 사용하지 않는다.\n",
        "        \n",
        "        nn.Linear(128,10) # 출력층.softmax를 지정하지 않는다!\n",
        "    )\n",
        "\n",
        "  def forward(self, x):\n",
        "    x = self.flatten(x)\n",
        "    y = self.linear_relu_stack(x)\n",
        "\n",
        "    return y"
      ],
      "metadata": {
        "id": "Kxb_Uipn6P_V"
      },
      "execution_count": null,
      "outputs": []
    },
    {
      "cell_type": "markdown",
      "source": [
        "# 모델 생성\n",
        "파이토치를 활용해 모델 객체를 만들고 나서 어떤 장치 환경에서 훈련하고 추론을 할지 결정해줘야한다."
      ],
      "metadata": {
        "id": "lApclchXAyMf"
      }
    },
    {
      "cell_type": "code",
      "source": [
        "import torch\n",
        "\n",
        "device = 'cuda' if torch.cuda.is_available() else 'cpu'\n",
        "device  "
      ],
      "metadata": {
        "colab": {
          "base_uri": "https://localhost:8080/",
          "height": 35
        },
        "id": "s_fIzNM9A6Sc",
        "outputId": "3e38ee14-1c9e-4ce4-9bef-1dd1ea0599c1"
      },
      "execution_count": null,
      "outputs": [
        {
          "output_type": "execute_result",
          "data": {
            "text/plain": [
              "'cuda'"
            ],
            "application/vnd.google.colaboratory.intrinsic+json": {
              "type": "string"
            }
          },
          "metadata": {},
          "execution_count": 15
        }
      ]
    },
    {
      "cell_type": "markdown",
      "source": [
        "cuda 가 출력되면 GPU 사용이 가능한 상태"
      ],
      "metadata": {
        "id": "9gvyOeOtBpeI"
      }
    },
    {
      "cell_type": "code",
      "source": [
        "model = NeuralNetwork().to(device) # CPU에서 만들어진 모델을 GPU로 옮긴다.\n",
        "print(model)"
      ],
      "metadata": {
        "colab": {
          "base_uri": "https://localhost:8080/"
        },
        "id": "Yee3bQDEBRkg",
        "outputId": "1efe9ca6-db89-4e1b-c5b6-745a4bc68a76"
      },
      "execution_count": null,
      "outputs": [
        {
          "output_type": "stream",
          "name": "stdout",
          "text": [
            "NeuralNetwork(\n",
            "  (flatten): Flatten(start_dim=1, end_dim=-1)\n",
            "  (linear_relu_stack): Sequential(\n",
            "    (0): Linear(in_features=784, out_features=128, bias=True)\n",
            "    (1): ReLU()\n",
            "    (2): Dropout(p=0.2, inplace=False)\n",
            "    (3): Linear(in_features=128, out_features=10, bias=True)\n",
            "  )\n",
            ")\n"
          ]
        }
      ]
    },
    {
      "cell_type": "code",
      "source": [
        "# 또는 cuda()메소드를 활요할 수 있다.\n",
        "model2 = NeuralNetwork().cuda()\n",
        "print(model2)"
      ],
      "metadata": {
        "colab": {
          "base_uri": "https://localhost:8080/"
        },
        "id": "e0kQ351YCMbL",
        "outputId": "31a40285-6752-453f-9e5e-15745cda6a6e"
      },
      "execution_count": null,
      "outputs": [
        {
          "output_type": "stream",
          "name": "stdout",
          "text": [
            "NeuralNetwork(\n",
            "  (flatten): Flatten(start_dim=1, end_dim=-1)\n",
            "  (linear_relu_stack): Sequential(\n",
            "    (0): Linear(in_features=784, out_features=128, bias=True)\n",
            "    (1): ReLU()\n",
            "    (2): Dropout(p=0.2, inplace=False)\n",
            "    (3): Linear(in_features=128, out_features=10, bias=True)\n",
            "  )\n",
            ")\n"
          ]
        }
      ]
    },
    {
      "cell_type": "markdown",
      "source": [
        "# CNN 모델 구성"
      ],
      "metadata": {
        "id": "QFSPsXR6CPcM"
      }
    },
    {
      "cell_type": "markdown",
      "source": [
        "## Output Feature Map Size\n",
        "- $i$ : 입력 feature의 개수\n",
        "- $o$ : 출력 feature의 수 hight,width\n",
        "- $k$ : kernel size\n",
        "- $p$ : padding size\n",
        "- $s$ : stride size\n",
        "\n",
        "$$\n",
        "o = \\bigg(\\frac{i+2p-k}{s}\\bigg)+1\n",
        "$$\n",
        "\n",
        "실수 형태로 크기가 나오면 반드시 정수형태로 바꿔줍니다.\n",
        "\n",
        "### 예시\n",
        "- $i$ : 입력 feature의 개수 → 7\n",
        "- $o$ : 출력 feature의 수 \n",
        "- $k$ : kernel size → 3\n",
        "- $p$ : padding size → 0\n",
        "- $s$ : stride size → 1\n",
        "\n",
        "$$\n",
        "o=\\bigg(\\frac{7+2\\times 0-3}{1}\\bigg)+1=5\n",
        "$$"
      ],
      "metadata": {
        "id": "QaS5JSgQE1HU"
      }
    },
    {
      "cell_type": "markdown",
      "source": [
        "# PyTorch  (C , H, W)"
      ],
      "metadata": {
        "id": "Zt98JGGgHONE"
      }
    },
    {
      "cell_type": "code",
      "source": [
        "class CustomConvNet(nn.Module):\n",
        "  \n",
        "  def __init__(self):\n",
        "    super(CustomConvNet, self).__init__()\n",
        "    \n",
        "    # Feature Extraction\n",
        "    self.conv_block1 = nn.Sequential(\n",
        "      nn.Conv2d(in_channels=1, out_channels=64, kernel_size=3, stride=1, padding=1),\n",
        "      nn.ReLU(),\n",
        "      nn.Conv2d(in_channels=64, out_channels=64, kernel_size=3, stride=1, padding=1),\n",
        "      nn.ReLU()\n",
        "    )\n",
        "\n",
        "    self.maxpool1 = nn.MaxPool2d(kernel_size=2, stride=2) # 입력 특성 맵의 세로 가로 크기가 절반이 된다. -> 14 x 14\n",
        "\n",
        "    self.conv_block2 = nn.Sequential(\n",
        "      nn.Conv2d(in_channels=64, out_channels=32, kernel_size=3, stride=1, padding=1),\n",
        "      nn.ReLU(),\n",
        "      nn.Conv2d(in_channels=32, out_channels=32, kernel_size=3, stride=1, padding=1),\n",
        "      nn.ReLU()\n",
        "    )\n",
        "\n",
        "    self.maxpool2 = nn.MaxPool2d(kernel_size=2, stride=2) # 7 x 7\n",
        "\n",
        "    # FCL 구현\n",
        "    self.classifier = nn.Sequential(\n",
        "        nn.Linear(32*7*7, 512), nn.ReLU(),\n",
        "        nn.Linear(512, 256), nn.ReLU(),\n",
        "        nn.Linear(256, 10)\n",
        "    )\n",
        "\n",
        "  def forward(self, x):\n",
        "\n",
        "    # Feature Extraction\n",
        "    x = self.conv_block1(x)\n",
        "    x = self.maxpool1(x)\n",
        "\n",
        "    x = self.conv_block2(x)\n",
        "    x = self.maxpool2(x)\n",
        "\n",
        "    # FCL\n",
        "    x = nn.Flatten()(x)\n",
        "    y = self.classifier(x)\n",
        "\n",
        "    return y"
      ],
      "metadata": {
        "id": "VDR4qn6oE9E8"
      },
      "execution_count": null,
      "outputs": []
    },
    {
      "cell_type": "code",
      "source": [
        "cnn_model = CustomConvNet().to(device)\n",
        "print(cnn_model)"
      ],
      "metadata": {
        "colab": {
          "base_uri": "https://localhost:8080/"
        },
        "id": "Udug1sX9Km5i",
        "outputId": "c0e300a3-0b1f-43cb-a26f-8e4ec735c169"
      },
      "execution_count": null,
      "outputs": [
        {
          "output_type": "stream",
          "name": "stdout",
          "text": [
            "CustomConvNet(\n",
            "  (conv_block1): Sequential(\n",
            "    (0): Conv2d(1, 64, kernel_size=(3, 3), stride=(1, 1), padding=(1, 1))\n",
            "    (1): ReLU()\n",
            "    (2): Conv2d(64, 64, kernel_size=(3, 3), stride=(1, 1), padding=(1, 1))\n",
            "    (3): ReLU()\n",
            "  )\n",
            "  (maxpool1): MaxPool2d(kernel_size=2, stride=2, padding=0, dilation=1, ceil_mode=False)\n",
            "  (conv_block2): Sequential(\n",
            "    (0): Conv2d(64, 32, kernel_size=(3, 3), stride=(1, 1), padding=(1, 1))\n",
            "    (1): ReLU()\n",
            "    (2): Conv2d(32, 32, kernel_size=(3, 3), stride=(1, 1), padding=(1, 1))\n",
            "    (3): ReLU()\n",
            "  )\n",
            "  (maxpool2): MaxPool2d(kernel_size=2, stride=2, padding=0, dilation=1, ceil_mode=False)\n",
            "  (classifier): Sequential(\n",
            "    (0): Linear(in_features=1568, out_features=512, bias=True)\n",
            "    (1): ReLU()\n",
            "    (2): Linear(in_features=512, out_features=256, bias=True)\n",
            "    (3): ReLU()\n",
            "    (4): Linear(in_features=256, out_features=10, bias=True)\n",
            "  )\n",
            ")\n"
          ]
        }
      ]
    },
    {
      "cell_type": "markdown",
      "source": [
        "# 데이터 로더 생성성"
      ],
      "metadata": {
        "id": "6hXWm7B2LXmk"
      }
    },
    {
      "cell_type": "code",
      "source": [
        "train_dataloader = DataLoader(train_data, batch_size=64, shuffle=True)\n",
        "test_dataloader = DataLoader(test_data,batch_size=64, shuffle=False) # 성능만 볼 것이기 때문에"
      ],
      "metadata": {
        "id": "EBnya3RsLaq4"
      },
      "execution_count": null,
      "outputs": []
    },
    {
      "cell_type": "markdown",
      "source": [
        "#하이퍼 파라미터 선정"
      ],
      "metadata": {
        "id": "qgkjjS7gLwa2"
      }
    },
    {
      "cell_type": "code",
      "source": [
        "EPOCH =10\n",
        "LEARNING_RATE =1e-3"
      ],
      "metadata": {
        "id": "c9o4GHVmLumy"
      },
      "execution_count": null,
      "outputs": []
    },
    {
      "cell_type": "code",
      "source": [
        "# Loss Function & Optimizer\n",
        "loss_fn = nn.CrossEntropyLoss()  # sparse_categorical_crossentropy + categorical_crossentropy, softmax를 포함하고 있음.\n",
        "optimizer = torch.optim.Adam(cnn_model.parameters(), lr=LEARNING_RATE) # 모델에서 최적화할 파라미터를 넣어준다. \n",
        "\n",
        "# model.parameters() -> 가중치, 편향,CNN 입장에서는 필터, 최적화에 의해 갱신해아할 대상상"
      ],
      "metadata": {
        "id": "BI9_s30VL9Hi"
      },
      "execution_count": null,
      "outputs": []
    },
    {
      "cell_type": "markdown",
      "source": [
        "# 훈련, 테스트 루틴 정의"
      ],
      "metadata": {
        "id": "EyGLj3siNFXq"
      }
    },
    {
      "cell_type": "code",
      "source": [
        "def train_loop(dataloader, model, loss_fn, optimizer):\n",
        "  size = len(dataloader.dataset)\n",
        "\n",
        "  # 모델을 훈련모드로 설정 : 가중치와 편향이 업데이트가 가능한 상태 \n",
        "  model.train() # 가중치, 편향 등을 갱신가능!\n",
        "\n",
        "  for batch, (X, y) in enumerate(dataloader):\n",
        "    # 현재 데이터(X, y )는 CPU에 존재하는 상태. 모델은 gpu에 있음\n",
        "    X, y = X.to(device), y.to(device) # 모델의 위치와 데이터의 위치 맞춰야함\n",
        "\n",
        "    # 예측 및 손실함수 확인\n",
        "    pred = model(X) # pred : 마지막 출력층의 연산 결과\n",
        "    loss = loss_fn(pred, y) # Loss가 등장\n",
        "\n",
        "    # 미분값 구하기. 역전파를 수행해서 구하기로\n",
        "    optimizer.zero_grad() #기존에 남아있던 기울기를 제거. 이전 배치의 기울기를 반영하지 않기 위함\n",
        "    loss.backward() # 역전파\n",
        "    optimizer.step() # 갱신(경사하강법ADAM 수행)\n",
        "\n",
        "    # 배치가 100번 돌 때마다 화면에 출력\n",
        "    if batch % 100 == 0:\n",
        "      loss, current = loss.item(), batch * len(X)\n",
        "      print(f\"Train Loss : {loss:>7f} [ {current:>5d} / {size:>5d} ]\")\n",
        "\n",
        "# optimizer는 테스트에서 필요 없다.\n",
        "def test_loop(dataloader,model, loss_fn):\n",
        "  size = len(dataloader.dataset)\n",
        "  test_loss, correct = 0, 0\n",
        "\n",
        "  # 테스트할 때는 평가모드(추론모드)\n",
        "  model.eval()\n",
        "\n",
        "  # 추론 과정에서는 기울기(gradient)를 구하지 않는다.\n",
        "  with torch.no_grad():\n",
        "    for X,y in dataloader:\n",
        "      # 추론 모드에서도 GPU는 활용해야하기 때문에 데이터를 gpu 환경으로 이동\n",
        "      X, y = X.to(device), y.to(device)\n",
        "\n",
        "      pred = model(X)\n",
        "      test_loss += loss_fn(pred, y).item() # item() : 텐서 내에 있는 스칼라를 가져오기기\n",
        "      correct += (pred.argmax(1) == y).type(torch.float).sum().item() # argmax(axis=1) 가장 높은 값이 있는 인덱스를 클래스로 삼을 것이다!\n",
        "\n",
        "  num_batches = len(dataloader)\n",
        "\n",
        "  # 배치별 loss 값의 평균 구하기\n",
        "  test_loss /= num_batches\n",
        "\n",
        "  # 전체 데이터의 정확도 구하기\n",
        "  correct /= size\n",
        "\n",
        "  print(f\"Test Error : \\n Accuracy : {(100*correct):>0.1f}%, Avg Loss : {test_loss:>8f}\\n\")\n"
      ],
      "metadata": {
        "id": "6pgyNcZJMDcF"
      },
      "execution_count": null,
      "outputs": []
    },
    {
      "cell_type": "code",
      "source": [
        "epochs = 10\n",
        "for t in range(epochs):\n",
        "  print(f\"Epoch {t+1}\\n........................\")\n",
        "  train_loop(train_dataloader, cnn_model, loss_fn, optimizer)\n",
        "  test_loop(test_dataloader, cnn_model, loss_fn)\n",
        "\n",
        "print(\"Done!\")"
      ],
      "metadata": {
        "colab": {
          "base_uri": "https://localhost:8080/"
        },
        "id": "DJXb6AReNJp8",
        "outputId": "ed0874cc-9d85-4f39-c3b5-0a48de84d985"
      },
      "execution_count": null,
      "outputs": [
        {
          "output_type": "stream",
          "name": "stdout",
          "text": [
            "Epoch 1\n",
            "........................\n",
            "Train Loss : 2.303043 [     0 / 60000 ]\n",
            "Train Loss : 0.070187 [  6400 / 60000 ]\n",
            "Train Loss : 0.204810 [ 12800 / 60000 ]\n",
            "Train Loss : 0.048122 [ 19200 / 60000 ]\n",
            "Train Loss : 0.006255 [ 25600 / 60000 ]\n",
            "Train Loss : 0.022014 [ 32000 / 60000 ]\n",
            "Train Loss : 0.021884 [ 38400 / 60000 ]\n",
            "Train Loss : 0.034051 [ 44800 / 60000 ]\n",
            "Train Loss : 0.038805 [ 51200 / 60000 ]\n",
            "Train Loss : 0.035183 [ 57600 / 60000 ]\n",
            "Test Error : \n",
            " Accuracy : 98.0%, Avg Loss : 0.064021\n",
            "\n",
            "Epoch 2\n",
            "........................\n",
            "Train Loss : 0.005916 [     0 / 60000 ]\n",
            "Train Loss : 0.010133 [  6400 / 60000 ]\n",
            "Train Loss : 0.034894 [ 12800 / 60000 ]\n",
            "Train Loss : 0.022840 [ 19200 / 60000 ]\n",
            "Train Loss : 0.003207 [ 25600 / 60000 ]\n",
            "Train Loss : 0.035767 [ 32000 / 60000 ]\n",
            "Train Loss : 0.040805 [ 38400 / 60000 ]\n",
            "Train Loss : 0.016411 [ 44800 / 60000 ]\n",
            "Train Loss : 0.042586 [ 51200 / 60000 ]\n",
            "Train Loss : 0.002623 [ 57600 / 60000 ]\n",
            "Test Error : \n",
            " Accuracy : 99.1%, Avg Loss : 0.028901\n",
            "\n",
            "Epoch 3\n",
            "........................\n",
            "Train Loss : 0.003350 [     0 / 60000 ]\n",
            "Train Loss : 0.006119 [  6400 / 60000 ]\n",
            "Train Loss : 0.077649 [ 12800 / 60000 ]\n",
            "Train Loss : 0.005478 [ 19200 / 60000 ]\n",
            "Train Loss : 0.004118 [ 25600 / 60000 ]\n",
            "Train Loss : 0.005211 [ 32000 / 60000 ]\n",
            "Train Loss : 0.034614 [ 38400 / 60000 ]\n",
            "Train Loss : 0.047519 [ 44800 / 60000 ]\n",
            "Train Loss : 0.023386 [ 51200 / 60000 ]\n",
            "Train Loss : 0.033196 [ 57600 / 60000 ]\n",
            "Test Error : \n",
            " Accuracy : 99.1%, Avg Loss : 0.027610\n",
            "\n",
            "Epoch 4\n",
            "........................\n",
            "Train Loss : 0.002031 [     0 / 60000 ]\n",
            "Train Loss : 0.014311 [  6400 / 60000 ]\n",
            "Train Loss : 0.010054 [ 12800 / 60000 ]\n",
            "Train Loss : 0.007201 [ 19200 / 60000 ]\n",
            "Train Loss : 0.043834 [ 25600 / 60000 ]\n",
            "Train Loss : 0.189056 [ 32000 / 60000 ]\n",
            "Train Loss : 0.083186 [ 38400 / 60000 ]\n",
            "Train Loss : 0.004301 [ 44800 / 60000 ]\n",
            "Train Loss : 0.033642 [ 51200 / 60000 ]\n",
            "Train Loss : 0.049143 [ 57600 / 60000 ]\n",
            "Test Error : \n",
            " Accuracy : 98.9%, Avg Loss : 0.033055\n",
            "\n",
            "Epoch 5\n",
            "........................\n",
            "Train Loss : 0.023132 [     0 / 60000 ]\n",
            "Train Loss : 0.066001 [  6400 / 60000 ]\n",
            "Train Loss : 0.040568 [ 12800 / 60000 ]\n",
            "Train Loss : 0.000352 [ 19200 / 60000 ]\n",
            "Train Loss : 0.002970 [ 25600 / 60000 ]\n",
            "Train Loss : 0.016139 [ 32000 / 60000 ]\n",
            "Train Loss : 0.054863 [ 38400 / 60000 ]\n",
            "Train Loss : 0.007622 [ 44800 / 60000 ]\n",
            "Train Loss : 0.001935 [ 51200 / 60000 ]\n",
            "Train Loss : 0.000046 [ 57600 / 60000 ]\n",
            "Test Error : \n",
            " Accuracy : 99.1%, Avg Loss : 0.033622\n",
            "\n",
            "Epoch 6\n",
            "........................\n",
            "Train Loss : 0.003779 [     0 / 60000 ]\n",
            "Train Loss : 0.000121 [  6400 / 60000 ]\n",
            "Train Loss : 0.009493 [ 12800 / 60000 ]\n",
            "Train Loss : 0.001122 [ 19200 / 60000 ]\n",
            "Train Loss : 0.000057 [ 25600 / 60000 ]\n",
            "Train Loss : 0.012155 [ 32000 / 60000 ]\n",
            "Train Loss : 0.002736 [ 38400 / 60000 ]\n",
            "Train Loss : 0.035183 [ 44800 / 60000 ]\n",
            "Train Loss : 0.000033 [ 51200 / 60000 ]\n",
            "Train Loss : 0.007170 [ 57600 / 60000 ]\n",
            "Test Error : \n",
            " Accuracy : 99.2%, Avg Loss : 0.027640\n",
            "\n",
            "Epoch 7\n",
            "........................\n",
            "Train Loss : 0.016989 [     0 / 60000 ]\n",
            "Train Loss : 0.000357 [  6400 / 60000 ]\n",
            "Train Loss : 0.009726 [ 12800 / 60000 ]\n",
            "Train Loss : 0.013460 [ 19200 / 60000 ]\n",
            "Train Loss : 0.000011 [ 25600 / 60000 ]\n",
            "Train Loss : 0.000284 [ 32000 / 60000 ]\n",
            "Train Loss : 0.013179 [ 38400 / 60000 ]\n",
            "Train Loss : 0.006578 [ 44800 / 60000 ]\n",
            "Train Loss : 0.004911 [ 51200 / 60000 ]\n",
            "Train Loss : 0.000958 [ 57600 / 60000 ]\n",
            "Test Error : \n",
            " Accuracy : 99.1%, Avg Loss : 0.032610\n",
            "\n",
            "Epoch 8\n",
            "........................\n",
            "Train Loss : 0.045768 [     0 / 60000 ]\n",
            "Train Loss : 0.000106 [  6400 / 60000 ]\n",
            "Train Loss : 0.000340 [ 12800 / 60000 ]\n",
            "Train Loss : 0.082310 [ 19200 / 60000 ]\n",
            "Train Loss : 0.001851 [ 25600 / 60000 ]\n",
            "Train Loss : 0.034599 [ 32000 / 60000 ]\n",
            "Train Loss : 0.000224 [ 38400 / 60000 ]\n",
            "Train Loss : 0.002248 [ 44800 / 60000 ]\n",
            "Train Loss : 0.004156 [ 51200 / 60000 ]\n",
            "Train Loss : 0.018900 [ 57600 / 60000 ]\n",
            "Test Error : \n",
            " Accuracy : 99.4%, Avg Loss : 0.024831\n",
            "\n",
            "Epoch 9\n",
            "........................\n",
            "Train Loss : 0.000092 [     0 / 60000 ]\n",
            "Train Loss : 0.142146 [  6400 / 60000 ]\n",
            "Train Loss : 0.000493 [ 12800 / 60000 ]\n",
            "Train Loss : 0.000236 [ 19200 / 60000 ]\n",
            "Train Loss : 0.001839 [ 25600 / 60000 ]\n",
            "Train Loss : 0.025361 [ 32000 / 60000 ]\n",
            "Train Loss : 0.072225 [ 38400 / 60000 ]\n",
            "Train Loss : 0.000914 [ 44800 / 60000 ]\n",
            "Train Loss : 0.000487 [ 51200 / 60000 ]\n",
            "Train Loss : 0.002443 [ 57600 / 60000 ]\n",
            "Test Error : \n",
            " Accuracy : 99.1%, Avg Loss : 0.034679\n",
            "\n",
            "Epoch 10\n",
            "........................\n",
            "Train Loss : 0.001117 [     0 / 60000 ]\n",
            "Train Loss : 0.002540 [  6400 / 60000 ]\n",
            "Train Loss : 0.000033 [ 12800 / 60000 ]\n",
            "Train Loss : 0.000032 [ 19200 / 60000 ]\n",
            "Train Loss : 0.001460 [ 25600 / 60000 ]\n",
            "Train Loss : 0.001175 [ 32000 / 60000 ]\n",
            "Train Loss : 0.002928 [ 38400 / 60000 ]\n",
            "Train Loss : 0.002254 [ 44800 / 60000 ]\n",
            "Train Loss : 0.014088 [ 51200 / 60000 ]\n",
            "Train Loss : 0.000109 [ 57600 / 60000 ]\n",
            "Test Error : \n",
            " Accuracy : 99.2%, Avg Loss : 0.031665\n",
            "\n",
            "Done!\n"
          ]
        }
      ]
    },
    {
      "cell_type": "markdown",
      "source": [
        "# 변수 선택 - 재학습"
      ],
      "metadata": {
        "id": "Fx8XGnXuqnOM"
      }
    },
    {
      "cell_type": "code",
      "execution_count": null,
      "metadata": {
        "id": "ZV9U-naiaESM"
      },
      "outputs": [],
      "source": [
        "# important_features=['X', 'Y', '_floor', 'app_apt', 'app_dandok', 'building_dasedae', 'building_total', 'culture_per_ppltn', 'elevator', 'emd_cd_2020', 'emd_cd_2022', 'gym_per_ppltn', 'manage_cost', 'medical_per_ppltn', 'options_cnt', 'ppltn_ageing_idx', 'ppltn_dnsty', 'service_type_new', 'size', 'size_m2', 'deposit+rent']"
      ]
    },
    {
      "cell_type": "code",
      "execution_count": null,
      "metadata": {
        "id": "WCGPFCSzaESM"
      },
      "outputs": [],
      "source": [
        "# train2 = train[important_features]"
      ]
    }
  ],
  "metadata": {
    "colab": {
      "provenance": [],
      "gpuType": "T4",
      "include_colab_link": true
    },
    "kernelspec": {
      "display_name": "base",
      "language": "python",
      "name": "python3"
    },
    "language_info": {
      "codemirror_mode": {
        "name": "ipython",
        "version": 3
      },
      "file_extension": ".py",
      "mimetype": "text/x-python",
      "name": "python",
      "nbconvert_exporter": "python",
      "pygments_lexer": "ipython3",
      "version": "3.9.13"
    },
    "orig_nbformat": 4,
    "accelerator": "GPU",
    "gpuClass": "standard"
  },
  "nbformat": 4,
  "nbformat_minor": 0
}