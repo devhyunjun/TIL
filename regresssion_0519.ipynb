{
  "cells": [
    {
      "cell_type": "markdown",
      "metadata": {
        "id": "view-in-github",
        "colab_type": "text"
      },
      "source": [
        "<a href=\"https://colab.research.google.com/github/devhyunjun/TIL/blob/master/regresssion_0519.ipynb\" target=\"_parent\"><img src=\"https://colab.research.google.com/assets/colab-badge.svg\" alt=\"Open In Colab\"/></a>"
      ]
    },
    {
      "cell_type": "code",
      "execution_count": null,
      "metadata": {
        "colab": {
          "background_save": true,
          "base_uri": "https://localhost:8080/"
        },
        "id": "QZgQAUYbgKrL",
        "outputId": "e9081338-abb1-44f1-ec1c-77edcb5b28b4"
      },
      "outputs": [
        {
          "name": "stdout",
          "output_type": "stream",
          "text": [
            "Looking in indexes: https://pypi.org/simple, https://us-python.pkg.dev/colab-wheels/public/simple/\n",
            "Requirement already satisfied: pymysql in /usr/local/lib/python3.10/dist-packages (1.0.3)\n"
          ]
        }
      ],
      "source": [
        "!pip install pymysql"
      ]
    },
    {
      "cell_type": "code",
      "execution_count": null,
      "metadata": {
        "colab": {
          "base_uri": "https://localhost:8080/"
        },
        "id": "HnN7V9DYaESB",
        "outputId": "474dd5f2-8cc3-4cfc-8013-d0783ce52383"
      },
      "outputs": [
        {
          "name": "stderr",
          "output_type": "stream",
          "text": [
            "<ipython-input-3-49908c170f6e>:7: UserWarning: pandas only supports SQLAlchemy connectable (engine/connection) or database string URI or sqlite3 DBAPI2 connection. Other DBAPI2 objects are not tested. Please consider using SQLAlchemy.\n",
            "  df = pd.read_sql(\"SELECT * FROM zb_final\", db, index_col='id')\n"
          ]
        }
      ],
      "source": [
        "import pymysql\n",
        "import pandas as pd\n",
        "import numpy as np\n",
        "db= pymysql.connect(\n",
        "    host=\"ec2-15-152-249-56.ap-northeast-3.compute.amazonaws.com\", user=\"mt-1\", password=\"1111\", db=\"zigbang_project\", charset=\"utf8\")\n",
        "# cursor = conn.cursor()\n",
        "df = pd.read_sql(\"SELECT * FROM zb_final\", db, index_col='id')\n",
        "# result = cursor.fetchall()\n",
        "# for record in result:\n",
        "#     print(record)\n",
        "db.close()"
      ]
    },
    {
      "cell_type": "markdown",
      "metadata": {
        "id": "tIBK_8ybf-Os"
      },
      "source": [
        "# 1. Feature engineering "
      ]
    },
    {
      "cell_type": "code",
      "execution_count": null,
      "metadata": {
        "colab": {
          "base_uri": "https://localhost:8080/"
        },
        "id": "wsBfmFp3f-Ot",
        "outputId": "aa349b40-3cac-4e6f-852f-b1c7a705342e"
      },
      "outputs": [
        {
          "data": {
            "text/plain": [
              "['service_type',\n",
              " 'address1',\n",
              " 'address2',\n",
              " '_floor',\n",
              " 'size_m2',\n",
              " 'sales_type',\n",
              " 'rent',\n",
              " 'deposit',\n",
              " 'manage_cost',\n",
              " 'manage_cost_inc',\n",
              " 'manage_cost_count',\n",
              " 'elevator',\n",
              " 'room_direction_text',\n",
              " 'images',\n",
              " 'parking',\n",
              " 'near_subways',\n",
              " 'near_subways_count',\n",
              " 'options',\n",
              " 'options_count',\n",
              " 'description',\n",
              " 'title',\n",
              " 'add1',\n",
              " 'add2',\n",
              " 'add3',\n",
              " 'supermarket_dist',\n",
              " 'convenience_store_dist',\n",
              " 'school_dist',\n",
              " 'subway_dist',\n",
              " 'cultural_venue_dist',\n",
              " 'public_institution_dist',\n",
              " 'hospital_dist',\n",
              " 'x_w84',\n",
              " 'y_w84',\n",
              " 'sgg_cd',\n",
              " 'emd_cd_2022',\n",
              " 'emd_cd_2020',\n",
              " 'sido_nm',\n",
              " 'sgg_nm',\n",
              " 'emd_nm',\n",
              " 'building_total',\n",
              " 'building_dandok_p',\n",
              " 'building_apt_p',\n",
              " 'building_yeonlip_p',\n",
              " 'building_dasedae_p',\n",
              " 'building_nonresidential_p',\n",
              " 'building_others_p',\n",
              " 'ppltn_total',\n",
              " 'gender_ratio',\n",
              " 'ppltn_foreign_domestic_ratio',\n",
              " 'ppltn_upper_65_p',\n",
              " 'aging',\n",
              " 'aged',\n",
              " 'post_aged',\n",
              " 'ppltn_dnsty',\n",
              " 'corp_to_pop',\n",
              " 'ppltn_adult_p',\n",
              " 'hhd_member_avg',\n",
              " 'hhd_total',\n",
              " 'hhd_collective_p',\n",
              " 'hhd_private_p',\n",
              " 'hhd_family_p',\n",
              " 'hhd_alone_p',\n",
              " 'tenure_total',\n",
              " 'tenure_self',\n",
              " 'tenure_jeonse',\n",
              " 'tenure_free',\n",
              " 'tenure_monthly',\n",
              " 'app_dasedae',\n",
              " 'app_dandok',\n",
              " 'app_nonresidential',\n",
              " 'app_apt',\n",
              " 'app_yeonlip',\n",
              " 'app_officetel',\n",
              " 'park_per_area',\n",
              " 'green_per_area',\n",
              " 'dust_level',\n",
              " 'ssg_ppltn',\n",
              " 'convenience_per_ppltn',\n",
              " 'shopping_per_ppltn',\n",
              " 'grocery_per_ppltn',\n",
              " 'restaurant_per_ppltn',\n",
              " 'medical_per_ppltn',\n",
              " 'culture_per_ppltn',\n",
              " 'gym_per_ppltn',\n",
              " 'ppltn_net_migration_rate',\n",
              " 'safety_idx']"
            ]
          },
          "execution_count": 4,
          "metadata": {},
          "output_type": "execute_result"
        }
      ],
      "source": [
        "df_col_list = df.columns.to_list()\n",
        "df_col_list"
      ]
    },
    {
      "cell_type": "code",
      "execution_count": null,
      "metadata": {
        "colab": {
          "base_uri": "https://localhost:8080/",
          "height": 372
        },
        "id": "LSjt3BaRaESE",
        "outputId": "c5b57819-fe3c-436a-a6c5-3d231feed820"
      },
      "outputs": [
        {
          "data": {
            "text/html": [
              "\n",
              "  <div id=\"df-97f3cba5-34ba-42d2-af50-8d537dedeb1c\">\n",
              "    <div class=\"colab-df-container\">\n",
              "      <div>\n",
              "<style scoped>\n",
              "    .dataframe tbody tr th:only-of-type {\n",
              "        vertical-align: middle;\n",
              "    }\n",
              "\n",
              "    .dataframe tbody tr th {\n",
              "        vertical-align: top;\n",
              "    }\n",
              "\n",
              "    .dataframe thead th {\n",
              "        text-align: right;\n",
              "    }\n",
              "</style>\n",
              "<table border=\"1\" class=\"dataframe\">\n",
              "  <thead>\n",
              "    <tr style=\"text-align: right;\">\n",
              "      <th></th>\n",
              "      <th>service_type</th>\n",
              "      <th>address1</th>\n",
              "      <th>address2</th>\n",
              "      <th>_floor</th>\n",
              "      <th>size_m2</th>\n",
              "      <th>sales_type</th>\n",
              "      <th>rent</th>\n",
              "      <th>deposit</th>\n",
              "      <th>manage_cost</th>\n",
              "      <th>manage_cost_inc</th>\n",
              "      <th>...</th>\n",
              "      <th>convenience_per_ppltn</th>\n",
              "      <th>shopping_per_ppltn</th>\n",
              "      <th>grocery_per_ppltn</th>\n",
              "      <th>restaurant_per_ppltn</th>\n",
              "      <th>medical_per_ppltn</th>\n",
              "      <th>culture_per_ppltn</th>\n",
              "      <th>gym_per_ppltn</th>\n",
              "      <th>ppltn_net_migration_rate</th>\n",
              "      <th>safety_idx</th>\n",
              "      <th>deposit+rent</th>\n",
              "    </tr>\n",
              "    <tr>\n",
              "      <th>id</th>\n",
              "      <th></th>\n",
              "      <th></th>\n",
              "      <th></th>\n",
              "      <th></th>\n",
              "      <th></th>\n",
              "      <th></th>\n",
              "      <th></th>\n",
              "      <th></th>\n",
              "      <th></th>\n",
              "      <th></th>\n",
              "      <th></th>\n",
              "      <th></th>\n",
              "      <th></th>\n",
              "      <th></th>\n",
              "      <th></th>\n",
              "      <th></th>\n",
              "      <th></th>\n",
              "      <th></th>\n",
              "      <th></th>\n",
              "      <th></th>\n",
              "      <th></th>\n",
              "    </tr>\n",
              "  </thead>\n",
              "  <tbody>\n",
              "    <tr>\n",
              "      <th>36293764</th>\n",
              "      <td>원룸</td>\n",
              "      <td>경기도 동두천시 생연동</td>\n",
              "      <td>225-16</td>\n",
              "      <td>3</td>\n",
              "      <td>24.79</td>\n",
              "      <td>월세</td>\n",
              "      <td>28</td>\n",
              "      <td>300</td>\n",
              "      <td>7.0</td>\n",
              "      <td>가스, 수도, 인터넷, TV</td>\n",
              "      <td>...</td>\n",
              "      <td>57.833</td>\n",
              "      <td>142.358</td>\n",
              "      <td>330.316</td>\n",
              "      <td>1593.745</td>\n",
              "      <td>316.97</td>\n",
              "      <td>25.58</td>\n",
              "      <td>93.423</td>\n",
              "      <td>-0.043</td>\n",
              "      <td>24.0</td>\n",
              "      <td>29.750000</td>\n",
              "    </tr>\n",
              "    <tr>\n",
              "      <th>36576214</th>\n",
              "      <td>원룸</td>\n",
              "      <td>경기도 동두천시 생연동</td>\n",
              "      <td>678-90</td>\n",
              "      <td>5</td>\n",
              "      <td>16.53</td>\n",
              "      <td>월세</td>\n",
              "      <td>30</td>\n",
              "      <td>300</td>\n",
              "      <td>5.0</td>\n",
              "      <td>인터넷, TV</td>\n",
              "      <td>...</td>\n",
              "      <td>57.833</td>\n",
              "      <td>142.358</td>\n",
              "      <td>330.316</td>\n",
              "      <td>1593.745</td>\n",
              "      <td>316.97</td>\n",
              "      <td>25.58</td>\n",
              "      <td>93.423</td>\n",
              "      <td>-0.043</td>\n",
              "      <td>24.0</td>\n",
              "      <td>31.750000</td>\n",
              "    </tr>\n",
              "    <tr>\n",
              "      <th>36533474</th>\n",
              "      <td>원룸</td>\n",
              "      <td>경기도 동두천시 생연동</td>\n",
              "      <td>678-56</td>\n",
              "      <td>6</td>\n",
              "      <td>43.87</td>\n",
              "      <td>월세</td>\n",
              "      <td>50</td>\n",
              "      <td>500</td>\n",
              "      <td>5.0</td>\n",
              "      <td>인터넷, TV</td>\n",
              "      <td>...</td>\n",
              "      <td>57.833</td>\n",
              "      <td>142.358</td>\n",
              "      <td>330.316</td>\n",
              "      <td>1593.745</td>\n",
              "      <td>316.97</td>\n",
              "      <td>25.58</td>\n",
              "      <td>93.423</td>\n",
              "      <td>-0.043</td>\n",
              "      <td>24.0</td>\n",
              "      <td>52.916667</td>\n",
              "    </tr>\n",
              "  </tbody>\n",
              "</table>\n",
              "<p>3 rows × 87 columns</p>\n",
              "</div>\n",
              "      <button class=\"colab-df-convert\" onclick=\"convertToInteractive('df-97f3cba5-34ba-42d2-af50-8d537dedeb1c')\"\n",
              "              title=\"Convert this dataframe to an interactive table.\"\n",
              "              style=\"display:none;\">\n",
              "        \n",
              "  <svg xmlns=\"http://www.w3.org/2000/svg\" height=\"24px\"viewBox=\"0 0 24 24\"\n",
              "       width=\"24px\">\n",
              "    <path d=\"M0 0h24v24H0V0z\" fill=\"none\"/>\n",
              "    <path d=\"M18.56 5.44l.94 2.06.94-2.06 2.06-.94-2.06-.94-.94-2.06-.94 2.06-2.06.94zm-11 1L8.5 8.5l.94-2.06 2.06-.94-2.06-.94L8.5 2.5l-.94 2.06-2.06.94zm10 10l.94 2.06.94-2.06 2.06-.94-2.06-.94-.94-2.06-.94 2.06-2.06.94z\"/><path d=\"M17.41 7.96l-1.37-1.37c-.4-.4-.92-.59-1.43-.59-.52 0-1.04.2-1.43.59L10.3 9.45l-7.72 7.72c-.78.78-.78 2.05 0 2.83L4 21.41c.39.39.9.59 1.41.59.51 0 1.02-.2 1.41-.59l7.78-7.78 2.81-2.81c.8-.78.8-2.07 0-2.86zM5.41 20L4 18.59l7.72-7.72 1.47 1.35L5.41 20z\"/>\n",
              "  </svg>\n",
              "      </button>\n",
              "      \n",
              "  <style>\n",
              "    .colab-df-container {\n",
              "      display:flex;\n",
              "      flex-wrap:wrap;\n",
              "      gap: 12px;\n",
              "    }\n",
              "\n",
              "    .colab-df-convert {\n",
              "      background-color: #E8F0FE;\n",
              "      border: none;\n",
              "      border-radius: 50%;\n",
              "      cursor: pointer;\n",
              "      display: none;\n",
              "      fill: #1967D2;\n",
              "      height: 32px;\n",
              "      padding: 0 0 0 0;\n",
              "      width: 32px;\n",
              "    }\n",
              "\n",
              "    .colab-df-convert:hover {\n",
              "      background-color: #E2EBFA;\n",
              "      box-shadow: 0px 1px 2px rgba(60, 64, 67, 0.3), 0px 1px 3px 1px rgba(60, 64, 67, 0.15);\n",
              "      fill: #174EA6;\n",
              "    }\n",
              "\n",
              "    [theme=dark] .colab-df-convert {\n",
              "      background-color: #3B4455;\n",
              "      fill: #D2E3FC;\n",
              "    }\n",
              "\n",
              "    [theme=dark] .colab-df-convert:hover {\n",
              "      background-color: #434B5C;\n",
              "      box-shadow: 0px 1px 3px 1px rgba(0, 0, 0, 0.15);\n",
              "      filter: drop-shadow(0px 1px 2px rgba(0, 0, 0, 0.3));\n",
              "      fill: #FFFFFF;\n",
              "    }\n",
              "  </style>\n",
              "\n",
              "      <script>\n",
              "        const buttonEl =\n",
              "          document.querySelector('#df-97f3cba5-34ba-42d2-af50-8d537dedeb1c button.colab-df-convert');\n",
              "        buttonEl.style.display =\n",
              "          google.colab.kernel.accessAllowed ? 'block' : 'none';\n",
              "\n",
              "        async function convertToInteractive(key) {\n",
              "          const element = document.querySelector('#df-97f3cba5-34ba-42d2-af50-8d537dedeb1c');\n",
              "          const dataTable =\n",
              "            await google.colab.kernel.invokeFunction('convertToInteractive',\n",
              "                                                     [key], {});\n",
              "          if (!dataTable) return;\n",
              "\n",
              "          const docLinkHtml = 'Like what you see? Visit the ' +\n",
              "            '<a target=\"_blank\" href=https://colab.research.google.com/notebooks/data_table.ipynb>data table notebook</a>'\n",
              "            + ' to learn more about interactive tables.';\n",
              "          element.innerHTML = '';\n",
              "          dataTable['output_type'] = 'display_data';\n",
              "          await google.colab.output.renderOutput(dataTable, element);\n",
              "          const docLink = document.createElement('div');\n",
              "          docLink.innerHTML = docLinkHtml;\n",
              "          element.appendChild(docLink);\n",
              "        }\n",
              "      </script>\n",
              "    </div>\n",
              "  </div>\n",
              "  "
            ],
            "text/plain": [
              "         service_type      address1 address2  _floor  size_m2 sales_type  \\\n",
              "id                                                                         \n",
              "36293764           원룸  경기도 동두천시 생연동   225-16       3    24.79         월세   \n",
              "36576214           원룸  경기도 동두천시 생연동   678-90       5    16.53         월세   \n",
              "36533474           원룸  경기도 동두천시 생연동   678-56       6    43.87         월세   \n",
              "\n",
              "          rent  deposit  manage_cost  manage_cost_inc  ...  \\\n",
              "id                                                     ...   \n",
              "36293764    28      300          7.0  가스, 수도, 인터넷, TV  ...   \n",
              "36576214    30      300          5.0          인터넷, TV  ...   \n",
              "36533474    50      500          5.0          인터넷, TV  ...   \n",
              "\n",
              "          convenience_per_ppltn  shopping_per_ppltn grocery_per_ppltn  \\\n",
              "id                                                                      \n",
              "36293764                 57.833             142.358           330.316   \n",
              "36576214                 57.833             142.358           330.316   \n",
              "36533474                 57.833             142.358           330.316   \n",
              "\n",
              "         restaurant_per_ppltn  medical_per_ppltn culture_per_ppltn  \\\n",
              "id                                                                   \n",
              "36293764             1593.745             316.97             25.58   \n",
              "36576214             1593.745             316.97             25.58   \n",
              "36533474             1593.745             316.97             25.58   \n",
              "\n",
              "          gym_per_ppltn ppltn_net_migration_rate  safety_idx deposit+rent  \n",
              "id                                                                         \n",
              "36293764         93.423                   -0.043        24.0    29.750000  \n",
              "36576214         93.423                   -0.043        24.0    31.750000  \n",
              "36533474         93.423                   -0.043        24.0    52.916667  \n",
              "\n",
              "[3 rows x 87 columns]"
            ]
          },
          "execution_count": 5,
          "metadata": {},
          "output_type": "execute_result"
        }
      ],
      "source": [
        "df['deposit+rent'] = df['deposit']*0.07/12 + df['rent']\n",
        "df.head(3)"
      ]
    },
    {
      "cell_type": "code",
      "execution_count": null,
      "metadata": {
        "id": "LkG8sRFjaESE"
      },
      "outputs": [],
      "source": [
        "# 방향 점수 구하기 \n",
        "def get_room_direction_score(row):\n",
        "    if row['room_direction_text'] == '남향':\n",
        "        return 3\n",
        "    elif row['room_direction_text'] in ['남동향', '남서향']:\n",
        "        return 2\n",
        "    elif row['room_direction_text'] in ['동향', '서향']:\n",
        "        return 1\n",
        "    else:\n",
        "        return 0\n",
        "\n",
        "# apply the function to each row of the DataFrame to create a new column named 'room_direction_score'\n",
        "df['room_direction_score'] = df.apply(get_room_direction_score, axis=1)"
      ]
    },
    {
      "cell_type": "code",
      "execution_count": null,
      "metadata": {
        "id": "AeG8UpnEaESE"
      },
      "outputs": [],
      "source": [
        "# 옵션 갯수, 지하철 수 숫자로 변환\n",
        "df['manage_cost_inc_num'] = df['manage_cost_inc'].str.split(',').apply(len)\n",
        "df['near_subways_num'] = df['near_subways'].str.split(',').apply(len)"
      ]
    },
    {
      "cell_type": "code",
      "execution_count": null,
      "metadata": {
        "id": "y1iUm60CaESF"
      },
      "outputs": [],
      "source": [
        "# 매물 변수 drop\n",
        "df.drop('manage_cost_inc', axis=1, inplace=True)\n",
        "df.drop('near_subways', axis=1, inplace=True)\n",
        "df.drop('options', axis=1, inplace=True)"
      ]
    },
    {
      "cell_type": "code",
      "execution_count": null,
      "metadata": {
        "id": "1KpJgybNaESF"
      },
      "outputs": [],
      "source": [
        "import matplotlib\n",
        "import matplotlib.pyplot as plt\n",
        "plt.rcParams[\"font.family\"] = \"NanumGothic\"\n",
        "import seaborn as sns\n",
        "from datetime import datetime"
      ]
    },
    {
      "cell_type": "code",
      "execution_count": null,
      "metadata": {
        "id": "QgEy8P0IaESF"
      },
      "outputs": [],
      "source": [
        "\n",
        "# 읍면동 주거유형 갯수에서 비율로\n",
        "df['tenure_self_ratio'] = df['tenure_self'] / df['tenure_total']\n",
        "df['tenure_jeonse_ratio'] = df['tenure_jeonse'] / df['tenure_total']\n",
        "df['tenure_free_ratio'] = df['tenure_free'] / df['tenure_total']\n",
        "df['tenure_monthly_ratio'] = df['tenure_monthly'] / df['tenure_total']\n",
        "\n",
        "# 주거유형 갯수 drop\n",
        "df.drop(['tenure_self', 'tenure_jeonse', 'tenure_free', 'tenure_monthly'], axis=1, inplace=True)"
      ]
    },
    {
      "cell_type": "code",
      "execution_count": null,
      "metadata": {
        "colab": {
          "base_uri": "https://localhost:8080/"
        },
        "id": "J7BWWhEEf-Ov",
        "outputId": "dbde3cd9-bb28-4600-9cd4-0dd5fa2f5528"
      },
      "outputs": [
        {
          "data": {
            "text/plain": [
              "Index(['service_type', 'address1', 'address2', '_floor', 'size_m2',\n",
              "       'sales_type', 'rent', 'deposit', 'manage_cost', 'manage_cost_count',\n",
              "       'elevator', 'room_direction_text', 'images', 'parking',\n",
              "       'near_subways_count', 'options_count', 'description', 'title', 'add1',\n",
              "       'add2', 'add3', 'supermarket_dist', 'convenience_store_dist',\n",
              "       'school_dist', 'subway_dist', 'cultural_venue_dist',\n",
              "       'public_institution_dist', 'hospital_dist', 'x_w84', 'y_w84', 'sgg_cd',\n",
              "       'emd_cd_2022', 'emd_cd_2020', 'sido_nm', 'sgg_nm', 'emd_nm',\n",
              "       'building_total', 'building_dandok_p', 'building_apt_p',\n",
              "       'building_yeonlip_p', 'building_dasedae_p', 'building_nonresidential_p',\n",
              "       'building_others_p', 'ppltn_total', 'gender_ratio',\n",
              "       'ppltn_foreign_domestic_ratio', 'ppltn_upper_65_p', 'aging', 'aged',\n",
              "       'post_aged', 'ppltn_dnsty', 'corp_to_pop', 'ppltn_adult_p',\n",
              "       'hhd_member_avg', 'hhd_total', 'hhd_collective_p', 'hhd_private_p',\n",
              "       'hhd_family_p', 'hhd_alone_p', 'tenure_total', 'app_dasedae',\n",
              "       'app_dandok', 'app_nonresidential', 'app_apt', 'app_yeonlip',\n",
              "       'app_officetel', 'park_per_area', 'green_per_area', 'dust_level',\n",
              "       'ssg_ppltn', 'convenience_per_ppltn', 'shopping_per_ppltn',\n",
              "       'grocery_per_ppltn', 'restaurant_per_ppltn', 'medical_per_ppltn',\n",
              "       'culture_per_ppltn', 'gym_per_ppltn', 'ppltn_net_migration_rate',\n",
              "       'safety_idx', 'deposit+rent', 'room_direction_score',\n",
              "       'manage_cost_inc_num', 'near_subways_num', 'tenure_self_ratio',\n",
              "       'tenure_jeonse_ratio', 'tenure_free_ratio', 'tenure_monthly_ratio'],\n",
              "      dtype='object')"
            ]
          },
          "execution_count": 11,
          "metadata": {},
          "output_type": "execute_result"
        }
      ],
      "source": [
        "df.columns"
      ]
    },
    {
      "cell_type": "code",
      "execution_count": null,
      "metadata": {
        "id": "hj28Zdfxf-Ov"
      },
      "outputs": [],
      "source": [
        "def get_floor_score(row):\n",
        "    if row['_floor'] == 1:\n",
        "        return 0\n",
        "    elif row['_floor']==2:\n",
        "        return 1\n",
        "    else:\n",
        "        return 2\n",
        "df['room_floor_score'] = df.apply(get_floor_score, axis=1)"
      ]
    },
    {
      "cell_type": "code",
      "execution_count": null,
      "metadata": {
        "colab": {
          "base_uri": "https://localhost:8080/"
        },
        "id": "NpbnPscKf-Ow",
        "outputId": "8becb6c5-9e15-4396-c9a1-987b2b7b352f"
      },
      "outputs": [
        {
          "name": "stdout",
          "output_type": "stream",
          "text": [
            "<class 'pandas.core.frame.DataFrame'>\n",
            "Int64Index: 34247 entries, 36293764 to 36386612\n",
            "Data columns (total 88 columns):\n",
            " #   Column                        Non-Null Count  Dtype  \n",
            "---  ------                        --------------  -----  \n",
            " 0   service_type                  34247 non-null  object \n",
            " 1   address1                      34247 non-null  object \n",
            " 2   address2                      34247 non-null  object \n",
            " 3   _floor                        34247 non-null  int64  \n",
            " 4   size_m2                       34247 non-null  float64\n",
            " 5   sales_type                    34247 non-null  object \n",
            " 6   rent                          34247 non-null  int64  \n",
            " 7   deposit                       34247 non-null  int64  \n",
            " 8   manage_cost                   34247 non-null  float64\n",
            " 9   manage_cost_count             34247 non-null  int64  \n",
            " 10  elevator                      34247 non-null  int64  \n",
            " 11  room_direction_text           34247 non-null  object \n",
            " 12  images                        34247 non-null  object \n",
            " 13  parking                       34247 non-null  int64  \n",
            " 14  near_subways_count            34247 non-null  int64  \n",
            " 15  options_count                 34247 non-null  int64  \n",
            " 16  description                   34247 non-null  object \n",
            " 17  title                         34247 non-null  object \n",
            " 18  add1                          34247 non-null  object \n",
            " 19  add2                          34247 non-null  object \n",
            " 20  add3                          34247 non-null  object \n",
            " 21  supermarket_dist              34247 non-null  float64\n",
            " 22  convenience_store_dist        34247 non-null  float64\n",
            " 23  school_dist                   34247 non-null  float64\n",
            " 24  subway_dist                   34247 non-null  float64\n",
            " 25  cultural_venue_dist           34247 non-null  float64\n",
            " 26  public_institution_dist       34247 non-null  float64\n",
            " 27  hospital_dist                 34247 non-null  float64\n",
            " 28  x_w84                         34247 non-null  float64\n",
            " 29  y_w84                         34247 non-null  float64\n",
            " 30  sgg_cd                        34247 non-null  float64\n",
            " 31  emd_cd_2022                   34247 non-null  float64\n",
            " 32  emd_cd_2020                   34247 non-null  float64\n",
            " 33  sido_nm                       34247 non-null  object \n",
            " 34  sgg_nm                        34247 non-null  object \n",
            " 35  emd_nm                        34247 non-null  object \n",
            " 36  building_total                34247 non-null  float64\n",
            " 37  building_dandok_p             34247 non-null  float64\n",
            " 38  building_apt_p                34247 non-null  float64\n",
            " 39  building_yeonlip_p            34247 non-null  float64\n",
            " 40  building_dasedae_p            34247 non-null  float64\n",
            " 41  building_nonresidential_p     34247 non-null  float64\n",
            " 42  building_others_p             34247 non-null  float64\n",
            " 43  ppltn_total                   34247 non-null  float64\n",
            " 44  gender_ratio                  34247 non-null  float64\n",
            " 45  ppltn_foreign_domestic_ratio  34247 non-null  float64\n",
            " 46  ppltn_upper_65_p              34247 non-null  float64\n",
            " 47  aging                         34247 non-null  int64  \n",
            " 48  aged                          34247 non-null  int64  \n",
            " 49  post_aged                     34247 non-null  int64  \n",
            " 50  ppltn_dnsty                   34247 non-null  float64\n",
            " 51  corp_to_pop                   34247 non-null  float64\n",
            " 52  ppltn_adult_p                 34247 non-null  float64\n",
            " 53  hhd_member_avg                34247 non-null  float64\n",
            " 54  hhd_total                     34247 non-null  float64\n",
            " 55  hhd_collective_p              34247 non-null  float64\n",
            " 56  hhd_private_p                 34247 non-null  float64\n",
            " 57  hhd_family_p                  34247 non-null  float64\n",
            " 58  hhd_alone_p                   34247 non-null  float64\n",
            " 59  tenure_total                  34247 non-null  float64\n",
            " 60  app_dasedae                   34247 non-null  float64\n",
            " 61  app_dandok                    34247 non-null  float64\n",
            " 62  app_nonresidential            34247 non-null  float64\n",
            " 63  app_apt                       34247 non-null  float64\n",
            " 64  app_yeonlip                   34247 non-null  float64\n",
            " 65  app_officetel                 34247 non-null  float64\n",
            " 66  park_per_area                 34247 non-null  float64\n",
            " 67  green_per_area                34247 non-null  float64\n",
            " 68  dust_level                    34247 non-null  float64\n",
            " 69  ssg_ppltn                     34247 non-null  float64\n",
            " 70  convenience_per_ppltn         34247 non-null  float64\n",
            " 71  shopping_per_ppltn            34247 non-null  float64\n",
            " 72  grocery_per_ppltn             34247 non-null  float64\n",
            " 73  restaurant_per_ppltn          34247 non-null  float64\n",
            " 74  medical_per_ppltn             34247 non-null  float64\n",
            " 75  culture_per_ppltn             34247 non-null  float64\n",
            " 76  gym_per_ppltn                 34247 non-null  float64\n",
            " 77  ppltn_net_migration_rate      34247 non-null  float64\n",
            " 78  safety_idx                    34247 non-null  float64\n",
            " 79  deposit+rent                  34247 non-null  float64\n",
            " 80  room_direction_score          34247 non-null  int64  \n",
            " 81  manage_cost_inc_num           34247 non-null  int64  \n",
            " 82  near_subways_num              34247 non-null  int64  \n",
            " 83  tenure_self_ratio             34247 non-null  float64\n",
            " 84  tenure_jeonse_ratio           34247 non-null  float64\n",
            " 85  tenure_free_ratio             34247 non-null  float64\n",
            " 86  tenure_monthly_ratio          34247 non-null  float64\n",
            " 87  room_floor_score              34247 non-null  int64  \n",
            "dtypes: float64(59), int64(15), object(14)\n",
            "memory usage: 23.3+ MB\n"
          ]
        }
      ],
      "source": [
        "df.info()"
      ]
    },
    {
      "cell_type": "code",
      "execution_count": null,
      "metadata": {
        "id": "7cxps3kPf-Ow"
      },
      "outputs": [],
      "source": [
        "# 문자열, 코드 등 회귀변수 안쓰는 변수 drop\n",
        "drop_columns = ['address1', 'address2', '_floor' , 'room_direction_text', 'images',\n",
        "        'description', 'title', 'add1', 'add2', 'add3', 'sgg_cd',\n",
        "        'emd_cd_2022',\n",
        "        'emd_cd_2020',\n",
        "        'sido_nm',\n",
        "        'sgg_nm',\n",
        "        'emd_nm', \n",
        "        'building_total',\n",
        "        'hhd_total'\n",
        "         ]\n",
        "\n",
        "# 카테고리(원핫?) : sales_type\n",
        "\n",
        "# 시군구 컬럼들 'tenure_total', 'app_dasedae','ssg_ppltn',\n",
        "#        'app_dandok', 'app_nonresidential', 'app_apt', 'app_yeonlip',\n",
        "#        'app_officetel', 'park_per_area', 'green_per_area', 'dust_level',\n",
        "#        'ssg_ppltn', 'convenience_per_ppltn', 'shopping_per_ppltn',\n",
        "#        'grocery_per_ppltn', 'restaurant_per_ppltn', 'medical_per_ppltn',\n",
        "#        'culture_per_ppltn', 'gym_per_ppltn', 'ppltn_net_migration_rate',\n",
        "#        'safety_idx',\n",
        "\n",
        "# 읍면동 총인구 'ppltn_total'"
      ]
    },
    {
      "cell_type": "code",
      "execution_count": null,
      "metadata": {
        "id": "loUKYoE7f-Ow"
      },
      "outputs": [],
      "source": [
        "# 안쓰는 변수 drop 된 df 정의\n",
        "df =  df.drop(drop_columns, axis=1, inplace=False)"
      ]
    },
    {
      "cell_type": "code",
      "execution_count": null,
      "metadata": {
        "colab": {
          "base_uri": "https://localhost:8080/"
        },
        "id": "hWWSGNeJaESF",
        "outputId": "c424146d-4af6-4edb-9604-d661e55005f2"
      },
      "outputs": [
        {
          "name": "stdout",
          "output_type": "stream",
          "text": [
            "68\n"
          ]
        }
      ],
      "source": [
        "num_col = df.select_dtypes(include=['int64', 'float64']).columns.tolist()\n",
        "print(len(num_col))"
      ]
    },
    {
      "cell_type": "code",
      "execution_count": null,
      "metadata": {
        "id": "AalsjD2Gf-Ow"
      },
      "outputs": [],
      "source": [
        "# 관리비 100 이상 말이 안됨 -> 원세랑 비교\n",
        "df[df['manage_cost']>100]\n",
        "df=df.drop(df[df['manage_cost']>100].index)\n",
        "\n",
        "\n",
        "df[df['rent']>1000]\n",
        "df=df.drop(df[df['rent']>1000].index)\n",
        "\n",
        "df[df['size_m2']>150]\n",
        "df=df.drop(df[df['size_m2']>150].index)\n",
        "# print(df['size'].quantile(q=0.999))\n",
        "\n",
        "df[(df['service_type']=='원룸')&(df['size_m2']>120)] # 120 -> 40평\n",
        "df=df.drop(df[(df['service_type']=='원룸')&(df['size_m2']>120)].index)\n",
        "# df[(df['service_type']=='원룸')&(df['size']>40)]\n",
        "\n",
        "\n",
        "df[(df['service_type']=='원룸')&(df['size_m2']>99)]\n",
        "df=df.drop(df[(df['service_type']=='원룸')&(df['size_m2']>99)].index)\n",
        "# df[(df['service_type']=='원룸')&(df['size']>30)]\n",
        "\n",
        "df[df['manage_cost']>50]\n",
        "df=df.drop(df[(df['service_type']=='원룸')&(df['manage_cost']>50)].index)\n",
        "# df[(df['service_type']=='원룸')&(df['manage_cost']>50)]\n",
        "# df[df['size']>50]\n"
      ]
    },
    {
      "cell_type": "code",
      "execution_count": null,
      "metadata": {
        "id": "TOYL1OzIf-Ox"
      },
      "outputs": [],
      "source": [
        "# df['green_per_area'].quantile(q=0.999))\n",
        "# df[(df['green_per_area']>13.111)]"
      ]
    },
    {
      "cell_type": "code",
      "execution_count": null,
      "metadata": {
        "id": "iz7mhugJf-Ox"
      },
      "outputs": [],
      "source": [
        "# # 이상치\n",
        "# # boxplot으로 이상치 확인\n",
        "# fig, axes = plt.subplots(len(num_col),1, figsize = (8, 85))\n",
        "# row=0\n",
        "# for i in num_col:\n",
        "#     sns.boxplot(data = df, x = i, ax = axes[row])\n",
        "#     row+=1\n",
        "# plt.tight_layout()\n",
        "# plt.show()"
      ]
    },
    {
      "cell_type": "code",
      "execution_count": null,
      "metadata": {
        "colab": {
          "base_uri": "https://localhost:8080/",
          "height": 519
        },
        "id": "SuM-Oam2f-Ox",
        "outputId": "50c2c926-5b94-4e2f-90f9-8415d0e28682"
      },
      "outputs": [
        {
          "data": {
            "text/html": [
              "\n",
              "  <div id=\"df-fbb2c19e-f496-48c3-931a-d7bf79def625\">\n",
              "    <div class=\"colab-df-container\">\n",
              "      <div>\n",
              "<style scoped>\n",
              "    .dataframe tbody tr th:only-of-type {\n",
              "        vertical-align: middle;\n",
              "    }\n",
              "\n",
              "    .dataframe tbody tr th {\n",
              "        vertical-align: top;\n",
              "    }\n",
              "\n",
              "    .dataframe thead th {\n",
              "        text-align: right;\n",
              "    }\n",
              "</style>\n",
              "<table border=\"1\" class=\"dataframe\">\n",
              "  <thead>\n",
              "    <tr style=\"text-align: right;\">\n",
              "      <th></th>\n",
              "      <th>service_type</th>\n",
              "      <th>size_m2</th>\n",
              "      <th>sales_type</th>\n",
              "      <th>rent</th>\n",
              "      <th>deposit</th>\n",
              "      <th>manage_cost</th>\n",
              "      <th>manage_cost_count</th>\n",
              "      <th>elevator</th>\n",
              "      <th>parking</th>\n",
              "      <th>near_subways_count</th>\n",
              "      <th>...</th>\n",
              "      <th>safety_idx</th>\n",
              "      <th>deposit+rent</th>\n",
              "      <th>room_direction_score</th>\n",
              "      <th>manage_cost_inc_num</th>\n",
              "      <th>near_subways_num</th>\n",
              "      <th>tenure_self_ratio</th>\n",
              "      <th>tenure_jeonse_ratio</th>\n",
              "      <th>tenure_free_ratio</th>\n",
              "      <th>tenure_monthly_ratio</th>\n",
              "      <th>room_floor_score</th>\n",
              "    </tr>\n",
              "    <tr>\n",
              "      <th>id</th>\n",
              "      <th></th>\n",
              "      <th></th>\n",
              "      <th></th>\n",
              "      <th></th>\n",
              "      <th></th>\n",
              "      <th></th>\n",
              "      <th></th>\n",
              "      <th></th>\n",
              "      <th></th>\n",
              "      <th></th>\n",
              "      <th></th>\n",
              "      <th></th>\n",
              "      <th></th>\n",
              "      <th></th>\n",
              "      <th></th>\n",
              "      <th></th>\n",
              "      <th></th>\n",
              "      <th></th>\n",
              "      <th></th>\n",
              "      <th></th>\n",
              "      <th></th>\n",
              "    </tr>\n",
              "  </thead>\n",
              "  <tbody>\n",
              "    <tr>\n",
              "      <th>36293764</th>\n",
              "      <td>원룸</td>\n",
              "      <td>24.79</td>\n",
              "      <td>월세</td>\n",
              "      <td>28</td>\n",
              "      <td>300</td>\n",
              "      <td>7.0</td>\n",
              "      <td>4</td>\n",
              "      <td>0</td>\n",
              "      <td>1</td>\n",
              "      <td>2</td>\n",
              "      <td>...</td>\n",
              "      <td>24.0</td>\n",
              "      <td>29.750000</td>\n",
              "      <td>3</td>\n",
              "      <td>4</td>\n",
              "      <td>2</td>\n",
              "      <td>0.610950</td>\n",
              "      <td>0.116828</td>\n",
              "      <td>0.033293</td>\n",
              "      <td>0.238929</td>\n",
              "      <td>2</td>\n",
              "    </tr>\n",
              "    <tr>\n",
              "      <th>36576214</th>\n",
              "      <td>원룸</td>\n",
              "      <td>16.53</td>\n",
              "      <td>월세</td>\n",
              "      <td>30</td>\n",
              "      <td>300</td>\n",
              "      <td>5.0</td>\n",
              "      <td>2</td>\n",
              "      <td>1</td>\n",
              "      <td>1</td>\n",
              "      <td>3</td>\n",
              "      <td>...</td>\n",
              "      <td>24.0</td>\n",
              "      <td>31.750000</td>\n",
              "      <td>1</td>\n",
              "      <td>2</td>\n",
              "      <td>3</td>\n",
              "      <td>0.610950</td>\n",
              "      <td>0.116828</td>\n",
              "      <td>0.033293</td>\n",
              "      <td>0.238929</td>\n",
              "      <td>2</td>\n",
              "    </tr>\n",
              "    <tr>\n",
              "      <th>36533474</th>\n",
              "      <td>원룸</td>\n",
              "      <td>43.87</td>\n",
              "      <td>월세</td>\n",
              "      <td>50</td>\n",
              "      <td>500</td>\n",
              "      <td>5.0</td>\n",
              "      <td>2</td>\n",
              "      <td>1</td>\n",
              "      <td>1</td>\n",
              "      <td>3</td>\n",
              "      <td>...</td>\n",
              "      <td>24.0</td>\n",
              "      <td>52.916667</td>\n",
              "      <td>1</td>\n",
              "      <td>2</td>\n",
              "      <td>3</td>\n",
              "      <td>0.610950</td>\n",
              "      <td>0.116828</td>\n",
              "      <td>0.033293</td>\n",
              "      <td>0.238929</td>\n",
              "      <td>2</td>\n",
              "    </tr>\n",
              "    <tr>\n",
              "      <th>36485939</th>\n",
              "      <td>빌라</td>\n",
              "      <td>72.73</td>\n",
              "      <td>월세</td>\n",
              "      <td>110</td>\n",
              "      <td>3000</td>\n",
              "      <td>5.0</td>\n",
              "      <td>0</td>\n",
              "      <td>1</td>\n",
              "      <td>1</td>\n",
              "      <td>2</td>\n",
              "      <td>...</td>\n",
              "      <td>24.0</td>\n",
              "      <td>127.500000</td>\n",
              "      <td>2</td>\n",
              "      <td>1</td>\n",
              "      <td>2</td>\n",
              "      <td>0.610950</td>\n",
              "      <td>0.116828</td>\n",
              "      <td>0.033293</td>\n",
              "      <td>0.238929</td>\n",
              "      <td>2</td>\n",
              "    </tr>\n",
              "    <tr>\n",
              "      <th>36485528</th>\n",
              "      <td>원룸</td>\n",
              "      <td>23.14</td>\n",
              "      <td>월세</td>\n",
              "      <td>40</td>\n",
              "      <td>500</td>\n",
              "      <td>5.0</td>\n",
              "      <td>2</td>\n",
              "      <td>1</td>\n",
              "      <td>1</td>\n",
              "      <td>3</td>\n",
              "      <td>...</td>\n",
              "      <td>24.0</td>\n",
              "      <td>42.916667</td>\n",
              "      <td>1</td>\n",
              "      <td>2</td>\n",
              "      <td>3</td>\n",
              "      <td>0.610950</td>\n",
              "      <td>0.116828</td>\n",
              "      <td>0.033293</td>\n",
              "      <td>0.238929</td>\n",
              "      <td>2</td>\n",
              "    </tr>\n",
              "    <tr>\n",
              "      <th>...</th>\n",
              "      <td>...</td>\n",
              "      <td>...</td>\n",
              "      <td>...</td>\n",
              "      <td>...</td>\n",
              "      <td>...</td>\n",
              "      <td>...</td>\n",
              "      <td>...</td>\n",
              "      <td>...</td>\n",
              "      <td>...</td>\n",
              "      <td>...</td>\n",
              "      <td>...</td>\n",
              "      <td>...</td>\n",
              "      <td>...</td>\n",
              "      <td>...</td>\n",
              "      <td>...</td>\n",
              "      <td>...</td>\n",
              "      <td>...</td>\n",
              "      <td>...</td>\n",
              "      <td>...</td>\n",
              "      <td>...</td>\n",
              "      <td>...</td>\n",
              "    </tr>\n",
              "    <tr>\n",
              "      <th>36557272</th>\n",
              "      <td>빌라</td>\n",
              "      <td>33.06</td>\n",
              "      <td>월세</td>\n",
              "      <td>55</td>\n",
              "      <td>1000</td>\n",
              "      <td>3.0</td>\n",
              "      <td>0</td>\n",
              "      <td>0</td>\n",
              "      <td>1</td>\n",
              "      <td>2</td>\n",
              "      <td>...</td>\n",
              "      <td>12.0</td>\n",
              "      <td>60.833333</td>\n",
              "      <td>0</td>\n",
              "      <td>1</td>\n",
              "      <td>2</td>\n",
              "      <td>0.579756</td>\n",
              "      <td>0.188986</td>\n",
              "      <td>0.027125</td>\n",
              "      <td>0.204133</td>\n",
              "      <td>1</td>\n",
              "    </tr>\n",
              "    <tr>\n",
              "      <th>36492163</th>\n",
              "      <td>빌라</td>\n",
              "      <td>52.89</td>\n",
              "      <td>월세</td>\n",
              "      <td>60</td>\n",
              "      <td>2000</td>\n",
              "      <td>2.0</td>\n",
              "      <td>0</td>\n",
              "      <td>0</td>\n",
              "      <td>1</td>\n",
              "      <td>1</td>\n",
              "      <td>...</td>\n",
              "      <td>12.0</td>\n",
              "      <td>71.666667</td>\n",
              "      <td>2</td>\n",
              "      <td>1</td>\n",
              "      <td>1</td>\n",
              "      <td>0.579756</td>\n",
              "      <td>0.188986</td>\n",
              "      <td>0.027125</td>\n",
              "      <td>0.204133</td>\n",
              "      <td>0</td>\n",
              "    </tr>\n",
              "    <tr>\n",
              "      <th>36504430</th>\n",
              "      <td>빌라</td>\n",
              "      <td>35.83</td>\n",
              "      <td>월세</td>\n",
              "      <td>40</td>\n",
              "      <td>500</td>\n",
              "      <td>2.0</td>\n",
              "      <td>0</td>\n",
              "      <td>0</td>\n",
              "      <td>1</td>\n",
              "      <td>1</td>\n",
              "      <td>...</td>\n",
              "      <td>12.0</td>\n",
              "      <td>42.916667</td>\n",
              "      <td>1</td>\n",
              "      <td>1</td>\n",
              "      <td>1</td>\n",
              "      <td>0.579756</td>\n",
              "      <td>0.188986</td>\n",
              "      <td>0.027125</td>\n",
              "      <td>0.204133</td>\n",
              "      <td>0</td>\n",
              "    </tr>\n",
              "    <tr>\n",
              "      <th>36544670</th>\n",
              "      <td>빌라</td>\n",
              "      <td>39.67</td>\n",
              "      <td>월세</td>\n",
              "      <td>50</td>\n",
              "      <td>1000</td>\n",
              "      <td>3.0</td>\n",
              "      <td>0</td>\n",
              "      <td>0</td>\n",
              "      <td>1</td>\n",
              "      <td>2</td>\n",
              "      <td>...</td>\n",
              "      <td>12.0</td>\n",
              "      <td>55.833333</td>\n",
              "      <td>1</td>\n",
              "      <td>1</td>\n",
              "      <td>2</td>\n",
              "      <td>0.579756</td>\n",
              "      <td>0.188986</td>\n",
              "      <td>0.027125</td>\n",
              "      <td>0.204133</td>\n",
              "      <td>2</td>\n",
              "    </tr>\n",
              "    <tr>\n",
              "      <th>36386612</th>\n",
              "      <td>빌라</td>\n",
              "      <td>72.00</td>\n",
              "      <td>월세</td>\n",
              "      <td>50</td>\n",
              "      <td>3000</td>\n",
              "      <td>0.0</td>\n",
              "      <td>0</td>\n",
              "      <td>0</td>\n",
              "      <td>1</td>\n",
              "      <td>0</td>\n",
              "      <td>...</td>\n",
              "      <td>12.0</td>\n",
              "      <td>67.500000</td>\n",
              "      <td>2</td>\n",
              "      <td>1</td>\n",
              "      <td>1</td>\n",
              "      <td>0.579756</td>\n",
              "      <td>0.188986</td>\n",
              "      <td>0.027125</td>\n",
              "      <td>0.204133</td>\n",
              "      <td>1</td>\n",
              "    </tr>\n",
              "  </tbody>\n",
              "</table>\n",
              "<p>2362 rows × 70 columns</p>\n",
              "</div>\n",
              "      <button class=\"colab-df-convert\" onclick=\"convertToInteractive('df-fbb2c19e-f496-48c3-931a-d7bf79def625')\"\n",
              "              title=\"Convert this dataframe to an interactive table.\"\n",
              "              style=\"display:none;\">\n",
              "        \n",
              "  <svg xmlns=\"http://www.w3.org/2000/svg\" height=\"24px\"viewBox=\"0 0 24 24\"\n",
              "       width=\"24px\">\n",
              "    <path d=\"M0 0h24v24H0V0z\" fill=\"none\"/>\n",
              "    <path d=\"M18.56 5.44l.94 2.06.94-2.06 2.06-.94-2.06-.94-.94-2.06-.94 2.06-2.06.94zm-11 1L8.5 8.5l.94-2.06 2.06-.94-2.06-.94L8.5 2.5l-.94 2.06-2.06.94zm10 10l.94 2.06.94-2.06 2.06-.94-2.06-.94-.94-2.06-.94 2.06-2.06.94z\"/><path d=\"M17.41 7.96l-1.37-1.37c-.4-.4-.92-.59-1.43-.59-.52 0-1.04.2-1.43.59L10.3 9.45l-7.72 7.72c-.78.78-.78 2.05 0 2.83L4 21.41c.39.39.9.59 1.41.59.51 0 1.02-.2 1.41-.59l7.78-7.78 2.81-2.81c.8-.78.8-2.07 0-2.86zM5.41 20L4 18.59l7.72-7.72 1.47 1.35L5.41 20z\"/>\n",
              "  </svg>\n",
              "      </button>\n",
              "      \n",
              "  <style>\n",
              "    .colab-df-container {\n",
              "      display:flex;\n",
              "      flex-wrap:wrap;\n",
              "      gap: 12px;\n",
              "    }\n",
              "\n",
              "    .colab-df-convert {\n",
              "      background-color: #E8F0FE;\n",
              "      border: none;\n",
              "      border-radius: 50%;\n",
              "      cursor: pointer;\n",
              "      display: none;\n",
              "      fill: #1967D2;\n",
              "      height: 32px;\n",
              "      padding: 0 0 0 0;\n",
              "      width: 32px;\n",
              "    }\n",
              "\n",
              "    .colab-df-convert:hover {\n",
              "      background-color: #E2EBFA;\n",
              "      box-shadow: 0px 1px 2px rgba(60, 64, 67, 0.3), 0px 1px 3px 1px rgba(60, 64, 67, 0.15);\n",
              "      fill: #174EA6;\n",
              "    }\n",
              "\n",
              "    [theme=dark] .colab-df-convert {\n",
              "      background-color: #3B4455;\n",
              "      fill: #D2E3FC;\n",
              "    }\n",
              "\n",
              "    [theme=dark] .colab-df-convert:hover {\n",
              "      background-color: #434B5C;\n",
              "      box-shadow: 0px 1px 3px 1px rgba(0, 0, 0, 0.15);\n",
              "      filter: drop-shadow(0px 1px 2px rgba(0, 0, 0, 0.3));\n",
              "      fill: #FFFFFF;\n",
              "    }\n",
              "  </style>\n",
              "\n",
              "      <script>\n",
              "        const buttonEl =\n",
              "          document.querySelector('#df-fbb2c19e-f496-48c3-931a-d7bf79def625 button.colab-df-convert');\n",
              "        buttonEl.style.display =\n",
              "          google.colab.kernel.accessAllowed ? 'block' : 'none';\n",
              "\n",
              "        async function convertToInteractive(key) {\n",
              "          const element = document.querySelector('#df-fbb2c19e-f496-48c3-931a-d7bf79def625');\n",
              "          const dataTable =\n",
              "            await google.colab.kernel.invokeFunction('convertToInteractive',\n",
              "                                                     [key], {});\n",
              "          if (!dataTable) return;\n",
              "\n",
              "          const docLinkHtml = 'Like what you see? Visit the ' +\n",
              "            '<a target=\"_blank\" href=https://colab.research.google.com/notebooks/data_table.ipynb>data table notebook</a>'\n",
              "            + ' to learn more about interactive tables.';\n",
              "          element.innerHTML = '';\n",
              "          dataTable['output_type'] = 'display_data';\n",
              "          await google.colab.output.renderOutput(dataTable, element);\n",
              "          const docLink = document.createElement('div');\n",
              "          docLink.innerHTML = docLinkHtml;\n",
              "          element.appendChild(docLink);\n",
              "        }\n",
              "      </script>\n",
              "    </div>\n",
              "  </div>\n",
              "  "
            ],
            "text/plain": [
              "         service_type  size_m2 sales_type  rent  deposit  manage_cost  \\\n",
              "id                                                                      \n",
              "36293764           원룸    24.79         월세    28      300          7.0   \n",
              "36576214           원룸    16.53         월세    30      300          5.0   \n",
              "36533474           원룸    43.87         월세    50      500          5.0   \n",
              "36485939           빌라    72.73         월세   110     3000          5.0   \n",
              "36485528           원룸    23.14         월세    40      500          5.0   \n",
              "...               ...      ...        ...   ...      ...          ...   \n",
              "36557272           빌라    33.06         월세    55     1000          3.0   \n",
              "36492163           빌라    52.89         월세    60     2000          2.0   \n",
              "36504430           빌라    35.83         월세    40      500          2.0   \n",
              "36544670           빌라    39.67         월세    50     1000          3.0   \n",
              "36386612           빌라    72.00         월세    50     3000          0.0   \n",
              "\n",
              "          manage_cost_count  elevator  parking  near_subways_count  ...  \\\n",
              "id                                                                  ...   \n",
              "36293764                  4         0        1                   2  ...   \n",
              "36576214                  2         1        1                   3  ...   \n",
              "36533474                  2         1        1                   3  ...   \n",
              "36485939                  0         1        1                   2  ...   \n",
              "36485528                  2         1        1                   3  ...   \n",
              "...                     ...       ...      ...                 ...  ...   \n",
              "36557272                  0         0        1                   2  ...   \n",
              "36492163                  0         0        1                   1  ...   \n",
              "36504430                  0         0        1                   1  ...   \n",
              "36544670                  0         0        1                   2  ...   \n",
              "36386612                  0         0        1                   0  ...   \n",
              "\n",
              "          safety_idx  deposit+rent  room_direction_score  manage_cost_inc_num  \\\n",
              "id                                                                              \n",
              "36293764        24.0     29.750000                     3                    4   \n",
              "36576214        24.0     31.750000                     1                    2   \n",
              "36533474        24.0     52.916667                     1                    2   \n",
              "36485939        24.0    127.500000                     2                    1   \n",
              "36485528        24.0     42.916667                     1                    2   \n",
              "...              ...           ...                   ...                  ...   \n",
              "36557272        12.0     60.833333                     0                    1   \n",
              "36492163        12.0     71.666667                     2                    1   \n",
              "36504430        12.0     42.916667                     1                    1   \n",
              "36544670        12.0     55.833333                     1                    1   \n",
              "36386612        12.0     67.500000                     2                    1   \n",
              "\n",
              "          near_subways_num  tenure_self_ratio  tenure_jeonse_ratio  \\\n",
              "id                                                                   \n",
              "36293764                 2           0.610950             0.116828   \n",
              "36576214                 3           0.610950             0.116828   \n",
              "36533474                 3           0.610950             0.116828   \n",
              "36485939                 2           0.610950             0.116828   \n",
              "36485528                 3           0.610950             0.116828   \n",
              "...                    ...                ...                  ...   \n",
              "36557272                 2           0.579756             0.188986   \n",
              "36492163                 1           0.579756             0.188986   \n",
              "36504430                 1           0.579756             0.188986   \n",
              "36544670                 2           0.579756             0.188986   \n",
              "36386612                 1           0.579756             0.188986   \n",
              "\n",
              "          tenure_free_ratio  tenure_monthly_ratio  room_floor_score  \n",
              "id                                                                   \n",
              "36293764           0.033293              0.238929                 2  \n",
              "36576214           0.033293              0.238929                 2  \n",
              "36533474           0.033293              0.238929                 2  \n",
              "36485939           0.033293              0.238929                 2  \n",
              "36485528           0.033293              0.238929                 2  \n",
              "...                     ...                   ...               ...  \n",
              "36557272           0.027125              0.204133                 1  \n",
              "36492163           0.027125              0.204133                 0  \n",
              "36504430           0.027125              0.204133                 0  \n",
              "36544670           0.027125              0.204133                 2  \n",
              "36386612           0.027125              0.204133                 1  \n",
              "\n",
              "[2362 rows x 70 columns]"
            ]
          },
          "execution_count": 20,
          "metadata": {},
          "output_type": "execute_result"
        }
      ],
      "source": [
        "df['ppltn_foreign_domestic_ratio'].quantile(q=0.999)\n",
        "df[(df['green_per_area']>0.961)]"
      ]
    },
    {
      "cell_type": "code",
      "execution_count": null,
      "metadata": {
        "colab": {
          "base_uri": "https://localhost:8080/"
        },
        "id": "7JIG5_Bmf-Ox",
        "outputId": "2e1a7e0d-31d0-49c5-9b00-957a5985606c"
      },
      "outputs": [
        {
          "name": "stdout",
          "output_type": "stream",
          "text": [
            "<class 'pandas.core.frame.DataFrame'>\n",
            "Int64Index: 34208 entries, 36293764 to 36386612\n",
            "Data columns (total 70 columns):\n",
            " #   Column                        Non-Null Count  Dtype  \n",
            "---  ------                        --------------  -----  \n",
            " 0   service_type                  34208 non-null  object \n",
            " 1   size_m2                       34208 non-null  float64\n",
            " 2   sales_type                    34208 non-null  object \n",
            " 3   rent                          34208 non-null  int64  \n",
            " 4   deposit                       34208 non-null  int64  \n",
            " 5   manage_cost                   34208 non-null  float64\n",
            " 6   manage_cost_count             34208 non-null  int64  \n",
            " 7   elevator                      34208 non-null  int64  \n",
            " 8   parking                       34208 non-null  int64  \n",
            " 9   near_subways_count            34208 non-null  int64  \n",
            " 10  options_count                 34208 non-null  int64  \n",
            " 11  supermarket_dist              34208 non-null  float64\n",
            " 12  convenience_store_dist        34208 non-null  float64\n",
            " 13  school_dist                   34208 non-null  float64\n",
            " 14  subway_dist                   34208 non-null  float64\n",
            " 15  cultural_venue_dist           34208 non-null  float64\n",
            " 16  public_institution_dist       34208 non-null  float64\n",
            " 17  hospital_dist                 34208 non-null  float64\n",
            " 18  x_w84                         34208 non-null  float64\n",
            " 19  y_w84                         34208 non-null  float64\n",
            " 20  building_dandok_p             34208 non-null  float64\n",
            " 21  building_apt_p                34208 non-null  float64\n",
            " 22  building_yeonlip_p            34208 non-null  float64\n",
            " 23  building_dasedae_p            34208 non-null  float64\n",
            " 24  building_nonresidential_p     34208 non-null  float64\n",
            " 25  building_others_p             34208 non-null  float64\n",
            " 26  ppltn_total                   34208 non-null  float64\n",
            " 27  gender_ratio                  34208 non-null  float64\n",
            " 28  ppltn_foreign_domestic_ratio  34208 non-null  float64\n",
            " 29  ppltn_upper_65_p              34208 non-null  float64\n",
            " 30  aging                         34208 non-null  int64  \n",
            " 31  aged                          34208 non-null  int64  \n",
            " 32  post_aged                     34208 non-null  int64  \n",
            " 33  ppltn_dnsty                   34208 non-null  float64\n",
            " 34  corp_to_pop                   34208 non-null  float64\n",
            " 35  ppltn_adult_p                 34208 non-null  float64\n",
            " 36  hhd_member_avg                34208 non-null  float64\n",
            " 37  hhd_collective_p              34208 non-null  float64\n",
            " 38  hhd_private_p                 34208 non-null  float64\n",
            " 39  hhd_family_p                  34208 non-null  float64\n",
            " 40  hhd_alone_p                   34208 non-null  float64\n",
            " 41  tenure_total                  34208 non-null  float64\n",
            " 42  app_dasedae                   34208 non-null  float64\n",
            " 43  app_dandok                    34208 non-null  float64\n",
            " 44  app_nonresidential            34208 non-null  float64\n",
            " 45  app_apt                       34208 non-null  float64\n",
            " 46  app_yeonlip                   34208 non-null  float64\n",
            " 47  app_officetel                 34208 non-null  float64\n",
            " 48  park_per_area                 34208 non-null  float64\n",
            " 49  green_per_area                34208 non-null  float64\n",
            " 50  dust_level                    34208 non-null  float64\n",
            " 51  ssg_ppltn                     34208 non-null  float64\n",
            " 52  convenience_per_ppltn         34208 non-null  float64\n",
            " 53  shopping_per_ppltn            34208 non-null  float64\n",
            " 54  grocery_per_ppltn             34208 non-null  float64\n",
            " 55  restaurant_per_ppltn          34208 non-null  float64\n",
            " 56  medical_per_ppltn             34208 non-null  float64\n",
            " 57  culture_per_ppltn             34208 non-null  float64\n",
            " 58  gym_per_ppltn                 34208 non-null  float64\n",
            " 59  ppltn_net_migration_rate      34208 non-null  float64\n",
            " 60  safety_idx                    34208 non-null  float64\n",
            " 61  deposit+rent                  34208 non-null  float64\n",
            " 62  room_direction_score          34208 non-null  int64  \n",
            " 63  manage_cost_inc_num           34208 non-null  int64  \n",
            " 64  near_subways_num              34208 non-null  int64  \n",
            " 65  tenure_self_ratio             34208 non-null  float64\n",
            " 66  tenure_jeonse_ratio           34208 non-null  float64\n",
            " 67  tenure_free_ratio             34208 non-null  float64\n",
            " 68  tenure_monthly_ratio          34208 non-null  float64\n",
            " 69  room_floor_score              34208 non-null  int64  \n",
            "dtypes: float64(54), int64(14), object(2)\n",
            "memory usage: 18.5+ MB\n"
          ]
        }
      ],
      "source": [
        "df.info()"
      ]
    },
    {
      "cell_type": "markdown",
      "metadata": {
        "id": "vLsli3wsf-Ox"
      },
      "source": [
        "****** 사전 테스트"
      ]
    },
    {
      "cell_type": "code",
      "execution_count": null,
      "metadata": {
        "id": "vDCv0JJ_f-Ox"
      },
      "outputs": [],
      "source": [
        "from sklearn.linear_model import LinearRegression\n",
        "from sklearn.model_selection import train_test_split\n",
        "\n",
        "df_test = pd.get_dummies(df)\n",
        "\n",
        "X = df_test.drop(['deposit+rent','deposit','rent'],axis=1)\n",
        "y = df_test['deposit+rent']\n",
        "\n",
        "X_train, X_test, y_train, y_test = train_test_split(X, y, test_size=0.3, randoms_state=42)\n",
        "\n",
        "# lr = LinearRegression()\n",
        "# lr.fit(X_train, y_train)\n",
        "\n",
        "# print(lr.score(X_train, y_train))\n",
        "# print(lr.score(X_test, y_test))"
      ]
    },
    {
      "cell_type": "code",
      "execution_count": null,
      "metadata": {
        "id": "rBuOqoJlf-Oy"
      },
      "outputs": [],
      "source": [
        "from sklearn.preprocessing import PolynomialFeatures\n",
        "from sklearn.linear_model import LinearRegression\n",
        "\n",
        "poly = PolynomialFeatures(degree=2, include_bias=True)\n",
        "X_train_poly = poly.fit_transform(X_train)\n",
        "X_test_poly = poly.transform(X_test)"
      ]
    },
    {
      "cell_type": "code",
      "execution_count": null,
      "metadata": {
        "colab": {
          "base_uri": "https://localhost:8080/"
        },
        "id": "g7NvPK7mf-Oy",
        "outputId": "04b992e8-866a-4092-bc8f-e536118d414a"
      },
      "outputs": [
        {
          "name": "stdout",
          "output_type": "stream",
          "text": [
            "0.8483841407869698\n",
            "-44.88906460622348\n"
          ]
        }
      ],
      "source": [
        "lin_polyreg = LinearRegression()\n",
        "lin_polyreg.fit(X_train_poly, y_train)\n",
        "\n",
        "print(lin_polyreg.score(X_train_poly, y_train))\n",
        "print(lin_polyreg.score(X_test_poly, y_test))"
      ]
    },
    {
      "cell_type": "code",
      "execution_count": null,
      "metadata": {
        "id": "We0jUjTdf-Oy"
      },
      "outputs": [],
      "source": [
        "from sklearn.linear_model import Ridge\n",
        "from sklearn.linear_model import Lasso\n",
        "from sklearn.linear_model import ElasticNet\n",
        "from sklearn.datasets import make_regression\n",
        "import pandas as pd\n",
        "from sklearn.model_selection import GridSearchCV"
      ]
    },
    {
      "cell_type": "code",
      "execution_count": null,
      "metadata": {
        "colab": {
          "base_uri": "https://localhost:8080/"
        },
        "id": "kv6QFgF8f-Oy",
        "outputId": "ef0fb60c-794b-401e-fdc8-0e4215e684d0"
      },
      "outputs": [
        {
          "name": "stderr",
          "output_type": "stream",
          "text": [
            "/usr/local/lib/python3.10/dist-packages/sklearn/linear_model/_coordinate_descent.py:631: ConvergenceWarning: Objective did not converge. You might want to increase the number of iterations, check the scale of the features or consider increasing regularisation. Duality gap: 4.370e+06, tolerance: 4.503e+03\n",
            "  model = cd_fast.enet_coordinate_descent(\n"
          ]
        },
        {
          "name": "stdout",
          "output_type": "stream",
          "text": [
            "0.8125261219160078\n",
            "0.8122007018438397\n"
          ]
        }
      ],
      "source": [
        "elastic_net = ElasticNet(alpha = 1, l1_ratio = 0.5)\n",
        "elastic_net.fit(X_train_poly, y_train)\n",
        "\n",
        "print(elastic_net.score(X_train_poly, y_train))\n",
        "print(elastic_net.score(X_test_poly, y_test))"
      ]
    },
    {
      "cell_type": "code",
      "execution_count": null,
      "metadata": {
        "colab": {
          "base_uri": "https://localhost:8080/"
        },
        "id": "4eO2uJLPuy0V",
        "outputId": "a94b307a-640a-4045-f2aa-4e35d10ff1b8"
      },
      "outputs": [
        {
          "name": "stdout",
          "output_type": "stream",
          "text": [
            "0.7991392932944754\n",
            "0.8002899386006734\n"
          ]
        },
        {
          "name": "stderr",
          "output_type": "stream",
          "text": [
            "/usr/local/lib/python3.10/dist-packages/sklearn/linear_model/_coordinate_descent.py:631: ConvergenceWarning: Objective did not converge. You might want to increase the number of iterations, check the scale of the features or consider increasing regularisation. Duality gap: 4.720e+06, tolerance: 4.503e+03\n",
            "  model = cd_fast.enet_coordinate_descent(\n"
          ]
        }
      ],
      "source": [
        "elastic_net = ElasticNet(alpha = 10, l1_ratio = 0.5)\n",
        "elastic_net.fit(X_train_poly, y_train)\n",
        "\n",
        "print(elastic_net.score(X_train_poly, y_train))\n",
        "print(elastic_net.score(X_test_poly, y_test))"
      ]
    },
    {
      "cell_type": "code",
      "execution_count": null,
      "metadata": {
        "colab": {
          "base_uri": "https://localhost:8080/"
        },
        "id": "Rz3_5z7quy69",
        "outputId": "ab1d75e3-25e7-4f02-88bd-001b22f9fc4e"
      },
      "outputs": [
        {
          "name": "stderr",
          "output_type": "stream",
          "text": [
            "/usr/local/lib/python3.10/dist-packages/sklearn/linear_model/_coordinate_descent.py:631: ConvergenceWarning: Objective did not converge. You might want to increase the number of iterations, check the scale of the features or consider increasing regularisation. Duality gap: 4.119e+06, tolerance: 4.503e+03\n",
            "  model = cd_fast.enet_coordinate_descent(\n"
          ]
        },
        {
          "name": "stdout",
          "output_type": "stream",
          "text": [
            "0.8214237023161385\n",
            "0.8213288274589614\n"
          ]
        }
      ],
      "source": [
        "elastic_net = ElasticNet(alpha = 0.1, l1_ratio = 0.5)\n",
        "elastic_net.fit(X_train_poly, y_train)\n",
        "\n",
        "print(elastic_net.score(X_train_poly, y_train))\n",
        "print(elastic_net.score(X_test_poly, y_test))"
      ]
    },
    {
      "cell_type": "markdown",
      "metadata": {
        "id": "kn6y93qDvihh"
      },
      "source": []
    },
    {
      "cell_type": "code",
      "execution_count": null,
      "metadata": {
        "colab": {
          "base_uri": "https://localhost:8080/"
        },
        "id": "5X8zKcFsvf2Y",
        "outputId": "a20c269a-531f-490f-ea54-4867cc820f4a"
      },
      "outputs": [
        {
          "name": "stderr",
          "output_type": "stream",
          "text": [
            "/usr/local/lib/python3.10/dist-packages/sklearn/linear_model/_coordinate_descent.py:631: ConvergenceWarning: Objective did not converge. You might want to increase the number of iterations, check the scale of the features or consider increasing regularisation. Duality gap: 4.095e+06, tolerance: 4.503e+03\n",
            "  model = cd_fast.enet_coordinate_descent(\n"
          ]
        },
        {
          "name": "stdout",
          "output_type": "stream",
          "text": [
            "0.8220182819689915\n",
            "0.8218164874543673\n"
          ]
        }
      ],
      "source": [
        "elastic_net = ElasticNet(alpha = 0.1, l1_ratio = 0.3)\n",
        "elastic_net.fit(X_train_poly, y_train)\n",
        "\n",
        "print(elastic_net.score(X_train_poly, y_train))\n",
        "print(elastic_net.score(X_test_poly, y_test))"
      ]
    },
    {
      "cell_type": "code",
      "execution_count": null,
      "metadata": {
        "colab": {
          "base_uri": "https://localhost:8080/"
        },
        "id": "RoBJnosdvuh7",
        "outputId": "bcb9d92b-9d71-45c1-f41f-6ad4bca199e5"
      },
      "outputs": [
        {
          "name": "stderr",
          "output_type": "stream",
          "text": [
            "/usr/local/lib/python3.10/dist-packages/sklearn/linear_model/_coordinate_descent.py:631: ConvergenceWarning: Objective did not converge. You might want to increase the number of iterations, check the scale of the features or consider increasing regularisation. Duality gap: 4.080e+06, tolerance: 4.503e+03\n",
            "  model = cd_fast.enet_coordinate_descent(\n"
          ]
        },
        {
          "name": "stdout",
          "output_type": "stream",
          "text": [
            "0.8223446202900785\n",
            "0.8220581367136397\n"
          ]
        }
      ],
      "source": [
        "elastic_net = ElasticNet(alpha = 0.1, l1_ratio = 0.2)\n",
        "elastic_net.fit(X_train_poly, y_train)\n",
        "\n",
        "print(elastic_net.score(X_train_poly, y_train))\n",
        "print(elastic_net.score(X_test_poly, y_test))"
      ]
    },
    {
      "cell_type": "code",
      "execution_count": null,
      "metadata": {
        "colab": {
          "background_save": true
        },
        "id": "fUYQ_IGgwQw_",
        "outputId": "f251abab-adcc-477b-b409-a687c1c8330f"
      },
      "outputs": [
        {
          "ename": "KeyboardInterrupt",
          "evalue": "ignored",
          "output_type": "error",
          "traceback": [
            "\u001b[0;31m---------------------------------------------------------------------------\u001b[0m",
            "\u001b[0;31mKeyboardInterrupt\u001b[0m                         Traceback (most recent call last)",
            "\u001b[0;32m<ipython-input-34-50a2c4d64923>\u001b[0m in \u001b[0;36m<cell line: 2>\u001b[0;34m()\u001b[0m\n\u001b[1;32m      1\u001b[0m \u001b[0melastic_net\u001b[0m \u001b[0;34m=\u001b[0m \u001b[0mElasticNet\u001b[0m\u001b[0;34m(\u001b[0m\u001b[0malpha\u001b[0m \u001b[0;34m=\u001b[0m \u001b[0;36m0.1\u001b[0m\u001b[0;34m,\u001b[0m \u001b[0ml1_ratio\u001b[0m \u001b[0;34m=\u001b[0m \u001b[0;36m0.1\u001b[0m\u001b[0;34m)\u001b[0m\u001b[0;34m\u001b[0m\u001b[0;34m\u001b[0m\u001b[0m\n\u001b[0;32m----> 2\u001b[0;31m \u001b[0melastic_net\u001b[0m\u001b[0;34m.\u001b[0m\u001b[0mfit\u001b[0m\u001b[0;34m(\u001b[0m\u001b[0mX_train_poly\u001b[0m\u001b[0;34m,\u001b[0m \u001b[0my_train\u001b[0m\u001b[0;34m)\u001b[0m\u001b[0;34m\u001b[0m\u001b[0;34m\u001b[0m\u001b[0m\n\u001b[0m\u001b[1;32m      3\u001b[0m \u001b[0;34m\u001b[0m\u001b[0m\n\u001b[1;32m      4\u001b[0m \u001b[0mprint\u001b[0m\u001b[0;34m(\u001b[0m\u001b[0melastic_net\u001b[0m\u001b[0;34m.\u001b[0m\u001b[0mscore\u001b[0m\u001b[0;34m(\u001b[0m\u001b[0mX_train_poly\u001b[0m\u001b[0;34m,\u001b[0m \u001b[0my_train\u001b[0m\u001b[0;34m)\u001b[0m\u001b[0;34m)\u001b[0m\u001b[0;34m\u001b[0m\u001b[0;34m\u001b[0m\u001b[0m\n\u001b[1;32m      5\u001b[0m \u001b[0mprint\u001b[0m\u001b[0;34m(\u001b[0m\u001b[0melastic_net\u001b[0m\u001b[0;34m.\u001b[0m\u001b[0mscore\u001b[0m\u001b[0;34m(\u001b[0m\u001b[0mX_test_poly\u001b[0m\u001b[0;34m,\u001b[0m \u001b[0my_test\u001b[0m\u001b[0;34m)\u001b[0m\u001b[0;34m)\u001b[0m\u001b[0;34m\u001b[0m\u001b[0;34m\u001b[0m\u001b[0m\n",
            "\u001b[0;32m/usr/local/lib/python3.10/dist-packages/sklearn/linear_model/_coordinate_descent.py\u001b[0m in \u001b[0;36mfit\u001b[0;34m(self, X, y, sample_weight, check_input)\u001b[0m\n\u001b[1;32m   1002\u001b[0m             \u001b[0;32melse\u001b[0m\u001b[0;34m:\u001b[0m\u001b[0;34m\u001b[0m\u001b[0;34m\u001b[0m\u001b[0m\n\u001b[1;32m   1003\u001b[0m                 \u001b[0mthis_Xy\u001b[0m \u001b[0;34m=\u001b[0m \u001b[0;32mNone\u001b[0m\u001b[0;34m\u001b[0m\u001b[0;34m\u001b[0m\u001b[0m\n\u001b[0;32m-> 1004\u001b[0;31m             _, this_coef, this_dual_gap, this_iter = self.path(\n\u001b[0m\u001b[1;32m   1005\u001b[0m                 \u001b[0mX\u001b[0m\u001b[0;34m,\u001b[0m\u001b[0;34m\u001b[0m\u001b[0;34m\u001b[0m\u001b[0m\n\u001b[1;32m   1006\u001b[0m                 \u001b[0my\u001b[0m\u001b[0;34m[\u001b[0m\u001b[0;34m:\u001b[0m\u001b[0;34m,\u001b[0m \u001b[0mk\u001b[0m\u001b[0;34m]\u001b[0m\u001b[0;34m,\u001b[0m\u001b[0;34m\u001b[0m\u001b[0;34m\u001b[0m\u001b[0m\n",
            "\u001b[0;32m/usr/local/lib/python3.10/dist-packages/sklearn/linear_model/_coordinate_descent.py\u001b[0m in \u001b[0;36menet_path\u001b[0;34m(X, y, l1_ratio, eps, n_alphas, alphas, precompute, Xy, copy_X, coef_init, verbose, return_n_iter, positive, check_input, **params)\u001b[0m\n\u001b[1;32m    629\u001b[0m             )\n\u001b[1;32m    630\u001b[0m         \u001b[0;32melif\u001b[0m \u001b[0mprecompute\u001b[0m \u001b[0;32mis\u001b[0m \u001b[0;32mFalse\u001b[0m\u001b[0;34m:\u001b[0m\u001b[0;34m\u001b[0m\u001b[0;34m\u001b[0m\u001b[0m\n\u001b[0;32m--> 631\u001b[0;31m             model = cd_fast.enet_coordinate_descent(\n\u001b[0m\u001b[1;32m    632\u001b[0m                 \u001b[0mcoef_\u001b[0m\u001b[0;34m,\u001b[0m \u001b[0ml1_reg\u001b[0m\u001b[0;34m,\u001b[0m \u001b[0ml2_reg\u001b[0m\u001b[0;34m,\u001b[0m \u001b[0mX\u001b[0m\u001b[0;34m,\u001b[0m \u001b[0my\u001b[0m\u001b[0;34m,\u001b[0m \u001b[0mmax_iter\u001b[0m\u001b[0;34m,\u001b[0m \u001b[0mtol\u001b[0m\u001b[0;34m,\u001b[0m \u001b[0mrng\u001b[0m\u001b[0;34m,\u001b[0m \u001b[0mrandom\u001b[0m\u001b[0;34m,\u001b[0m \u001b[0mpositive\u001b[0m\u001b[0;34m\u001b[0m\u001b[0;34m\u001b[0m\u001b[0m\n\u001b[1;32m    633\u001b[0m             )\n",
            "\u001b[0;32msklearn/linear_model/_cd_fast.pyx\u001b[0m in \u001b[0;36msklearn.linear_model._cd_fast.enet_coordinate_descent\u001b[0;34m()\u001b[0m\n",
            "\u001b[0;32m/usr/local/lib/python3.10/dist-packages/numpy/core/getlimits.py\u001b[0m in \u001b[0;36m__new__\u001b[0;34m(cls, dtype)\u001b[0m\n\u001b[1;32m    457\u001b[0m     \u001b[0;32mdef\u001b[0m \u001b[0m__new__\u001b[0m\u001b[0;34m(\u001b[0m\u001b[0mcls\u001b[0m\u001b[0;34m,\u001b[0m \u001b[0mdtype\u001b[0m\u001b[0;34m)\u001b[0m\u001b[0;34m:\u001b[0m\u001b[0;34m\u001b[0m\u001b[0;34m\u001b[0m\u001b[0m\n\u001b[1;32m    458\u001b[0m         \u001b[0;32mtry\u001b[0m\u001b[0;34m:\u001b[0m\u001b[0;34m\u001b[0m\u001b[0;34m\u001b[0m\u001b[0m\n\u001b[0;32m--> 459\u001b[0;31m             \u001b[0mdtype\u001b[0m \u001b[0;34m=\u001b[0m \u001b[0mnumeric\u001b[0m\u001b[0;34m.\u001b[0m\u001b[0mdtype\u001b[0m\u001b[0;34m(\u001b[0m\u001b[0mdtype\u001b[0m\u001b[0;34m)\u001b[0m\u001b[0;34m\u001b[0m\u001b[0;34m\u001b[0m\u001b[0m\n\u001b[0m\u001b[1;32m    460\u001b[0m         \u001b[0;32mexcept\u001b[0m \u001b[0mTypeError\u001b[0m\u001b[0;34m:\u001b[0m\u001b[0;34m\u001b[0m\u001b[0;34m\u001b[0m\u001b[0m\n\u001b[1;32m    461\u001b[0m             \u001b[0;31m# In case a float instance was given\u001b[0m\u001b[0;34m\u001b[0m\u001b[0;34m\u001b[0m\u001b[0m\n",
            "\u001b[0;31mKeyboardInterrupt\u001b[0m: "
          ]
        }
      ],
      "source": [
        "elastic_net = ElasticNet(alpha = 0.1, l1_ratio = 0.1)\n",
        "elastic_net.fit(X_train_poly, y_train)\n",
        "\n",
        "print(elastic_net.score(X_train_poly, y_train))\n",
        "print(elastic_net.score(X_test_poly, y_test))"
      ]
    },
    {
      "cell_type": "markdown",
      "metadata": {
        "id": "Wam87-2tf-Oy"
      },
      "source": [
        "### Polynomial (degree=2)"
      ]
    },
    {
      "cell_type": "code",
      "execution_count": null,
      "metadata": {
        "id": "nAdaEXljf-Oy"
      },
      "outputs": [],
      "source": [
        "poly = PolynomialFeatures(degree=2, include_bias=True)\n",
        "X_train_poly = poly.fit_transform(X_train)\n",
        "X_test_poly = poly.transform(X_test)\n",
        "\n",
        "elastic_net = ElasticNet(alpha = 0.1, l1_ratio = 0.5)\n",
        "elastic_net.fit(X_train_poly, y_train)\n",
        "\n",
        "print(elastic_net.score(X_train_poly, y_train))\n",
        "print(elastic_net.score(X_test_poly, y_test))"
      ]
    },
    {
      "cell_type": "code",
      "execution_count": null,
      "metadata": {
        "id": "RIfY9BlKf-Oy"
      },
      "outputs": [],
      "source": [
        "##RIDGE\n",
        "ridge_reg = Ridge(alpha = 1)\n",
        "ridge_reg.fit(X_train_poly, y_train)\n",
        "\n",
        "print(ridge_reg.score(X_train_poly, y_train))\n",
        "print(ridge_reg.score(X_test_poly, y_test))"
      ]
    },
    {
      "cell_type": "code",
      "execution_count": null,
      "metadata": {
        "id": "KbRem7uTf-Oz"
      },
      "outputs": [],
      "source": [
        "##LASSO\n",
        "lasso_reg = Lasso(alpha = 0.1)\n",
        "lasso_reg.fit(X_train_poly, y_train)\n",
        "\n",
        "print(lasso_reg.score(X_train_poly, y_train))\n",
        "print(lasso_reg.score(X_test_poly, y_test))"
      ]
    },
    {
      "cell_type": "code",
      "execution_count": null,
      "metadata": {
        "id": "OkO1SY0Uf-Oz"
      },
      "outputs": [],
      "source": [
        "##ElasticNet\n",
        "elastic_net = ElasticNet(alpha = 10.0, l1_ratio = 0.5, scoring = 'neg_mean_squared_error')\n",
        "elastic_net.fit(X_train_poly, y_train)\n",
        "\n",
        "print(f\"{elastic_net.score(X_train_poly, y_train)}\")\n",
        "print(f\"{elastic_net.score(X_test_poly, y_test)}\")\n",
        "\n",
        "\n",
        "# ##ElasticNet\n",
        "# elastic_net = ElasticNet(alpha = 10.0, l1_ratio = 0.5)\n",
        "# elastic_net.fit(X_train_poly, y_train)\n",
        "# print(f\"{elastic_net.score(X_train_poly, y_train)}\")\n",
        "# print(f\"{elastic_net.score(X_test_poly, y_test)}\")\n",
        "\n",
        "# param_grid = {\n",
        "#     'alpha': [0.1, 1.0, 10.0],\n",
        "#     'l1_ratio' : [0.25, 0.5, 0.75]\n",
        "# }"
      ]
    },
    {
      "cell_type": "code",
      "execution_count": null,
      "metadata": {
        "id": "GZqY_-5Qf-Oz"
      },
      "outputs": [],
      "source": [
        "##ElasticNet\n",
        "elastic_net = ElasticNet(alpha = 0.1, l1_ratio = 0.5)\n",
        "elastic_net.fit(X_train_poly, y_train)\n",
        "\n",
        "print(elastic_net.score(X_train_poly, y_train))\n",
        "print(elastic_net.score(X_test_poly, y_test))"
      ]
    },
    {
      "cell_type": "markdown",
      "metadata": {
        "id": "YndApCewf-Oz"
      },
      "source": [
        "-> 변수를 줄이면 안된다"
      ]
    },
    {
      "cell_type": "code",
      "execution_count": null,
      "metadata": {
        "id": "lEGidnOGf-Oz"
      },
      "outputs": [],
      "source": [
        "# 그리드 서치 파라미터 설정\n",
        "param_grid = {\n",
        "    'alpha': [0.1, 1.0, 10.0]\n",
        "}\n",
        "\n",
        "# Ridge 모델에 대한 GridSearchCV 수행\n",
        "ridge_grid_search = GridSearchCV(estimator=ridge_reg, param_grid=param_grid, cv=5, scoring = 'neg_mean_squared_error', refit = True)\n",
        "ridge_grid_search.fit(X_train_poly, y_train)\n",
        "\n",
        "print(\"Ridge - Best Score:\", ridge_grid_search.best_score_)\n",
        "print(\"Ridge - Best Parameters:\", ridge_grid_search.best_params_)"
      ]
    },
    {
      "cell_type": "code",
      "execution_count": null,
      "metadata": {
        "colab": {
          "base_uri": "https://localhost:8080/",
          "height": 519
        },
        "id": "FdbICej0f-Oz",
        "outputId": "7f857069-cf3a-4947-97a2-5a352df453c4"
      },
      "outputs": [
        {
          "name": "stderr",
          "output_type": "stream",
          "text": [
            "/usr/local/lib/python3.10/dist-packages/sklearn/linear_model/_coordinate_descent.py:631: ConvergenceWarning: Objective did not converge. You might want to increase the number of iterations, check the scale of the features or consider increasing regularisation. Duality gap: 3.085e+06, tolerance: 3.515e+04\n",
            "  model = cd_fast.enet_coordinate_descent(\n"
          ]
        },
        {
          "ename": "KeyboardInterrupt",
          "evalue": "ignored",
          "output_type": "error",
          "traceback": [
            "\u001b[0;31m---------------------------------------------------------------------------\u001b[0m",
            "\u001b[0;31mKeyboardInterrupt\u001b[0m                         Traceback (most recent call last)",
            "\u001b[0;32m<ipython-input-25-5f4b99cf978f>\u001b[0m in \u001b[0;36m<cell line: 8>\u001b[0;34m()\u001b[0m\n\u001b[1;32m      6\u001b[0m \u001b[0;31m# ElasticNet 모델에 대한 GridSearchCV 수행\u001b[0m\u001b[0;34m\u001b[0m\u001b[0;34m\u001b[0m\u001b[0m\n\u001b[1;32m      7\u001b[0m \u001b[0melastic_net_grid_search\u001b[0m \u001b[0;34m=\u001b[0m \u001b[0mGridSearchCV\u001b[0m\u001b[0;34m(\u001b[0m\u001b[0mestimator\u001b[0m\u001b[0;34m=\u001b[0m\u001b[0mElasticNet\u001b[0m\u001b[0;34m(\u001b[0m\u001b[0mtol\u001b[0m \u001b[0;34m=\u001b[0m \u001b[0;36m0.001\u001b[0m\u001b[0;34m,\u001b[0m\u001b[0mmax_iter\u001b[0m\u001b[0;34m=\u001b[0m\u001b[0;36m2000\u001b[0m\u001b[0;34m)\u001b[0m\u001b[0;34m,\u001b[0m \u001b[0mparam_grid\u001b[0m\u001b[0;34m=\u001b[0m\u001b[0mparam_grid\u001b[0m\u001b[0;34m,\u001b[0m \u001b[0mcv\u001b[0m\u001b[0;34m=\u001b[0m\u001b[0;36m5\u001b[0m\u001b[0;34m,\u001b[0m \u001b[0mscoring\u001b[0m \u001b[0;34m=\u001b[0m \u001b[0;34m'neg_mean_squared_error'\u001b[0m\u001b[0;34m)\u001b[0m\u001b[0;34m\u001b[0m\u001b[0;34m\u001b[0m\u001b[0m\n\u001b[0;32m----> 8\u001b[0;31m \u001b[0melastic_net_grid_search\u001b[0m\u001b[0;34m.\u001b[0m\u001b[0mfit\u001b[0m\u001b[0;34m(\u001b[0m\u001b[0mX_train_poly\u001b[0m\u001b[0;34m,\u001b[0m \u001b[0my_train\u001b[0m\u001b[0;34m)\u001b[0m\u001b[0;34m\u001b[0m\u001b[0;34m\u001b[0m\u001b[0m\n\u001b[0m\u001b[1;32m      9\u001b[0m \u001b[0;34m\u001b[0m\u001b[0m\n\u001b[1;32m     10\u001b[0m \u001b[0mprint\u001b[0m\u001b[0;34m(\u001b[0m\u001b[0;34m\"elastic_net - Best Score:\"\u001b[0m\u001b[0;34m,\u001b[0m \u001b[0melastic_net_grid_search\u001b[0m\u001b[0;34m.\u001b[0m\u001b[0mbest_score_\u001b[0m\u001b[0;34m)\u001b[0m\u001b[0;34m\u001b[0m\u001b[0;34m\u001b[0m\u001b[0m\n",
            "\u001b[0;32m/usr/local/lib/python3.10/dist-packages/sklearn/model_selection/_search.py\u001b[0m in \u001b[0;36mfit\u001b[0;34m(self, X, y, groups, **fit_params)\u001b[0m\n\u001b[1;32m    872\u001b[0m                 \u001b[0;32mreturn\u001b[0m \u001b[0mresults\u001b[0m\u001b[0;34m\u001b[0m\u001b[0;34m\u001b[0m\u001b[0m\n\u001b[1;32m    873\u001b[0m \u001b[0;34m\u001b[0m\u001b[0m\n\u001b[0;32m--> 874\u001b[0;31m             \u001b[0mself\u001b[0m\u001b[0;34m.\u001b[0m\u001b[0m_run_search\u001b[0m\u001b[0;34m(\u001b[0m\u001b[0mevaluate_candidates\u001b[0m\u001b[0;34m)\u001b[0m\u001b[0;34m\u001b[0m\u001b[0;34m\u001b[0m\u001b[0m\n\u001b[0m\u001b[1;32m    875\u001b[0m \u001b[0;34m\u001b[0m\u001b[0m\n\u001b[1;32m    876\u001b[0m             \u001b[0;31m# multimetric is determined here because in the case of a callable\u001b[0m\u001b[0;34m\u001b[0m\u001b[0;34m\u001b[0m\u001b[0m\n",
            "\u001b[0;32m/usr/local/lib/python3.10/dist-packages/sklearn/model_selection/_search.py\u001b[0m in \u001b[0;36m_run_search\u001b[0;34m(self, evaluate_candidates)\u001b[0m\n\u001b[1;32m   1386\u001b[0m     \u001b[0;32mdef\u001b[0m \u001b[0m_run_search\u001b[0m\u001b[0;34m(\u001b[0m\u001b[0mself\u001b[0m\u001b[0;34m,\u001b[0m \u001b[0mevaluate_candidates\u001b[0m\u001b[0;34m)\u001b[0m\u001b[0;34m:\u001b[0m\u001b[0;34m\u001b[0m\u001b[0;34m\u001b[0m\u001b[0m\n\u001b[1;32m   1387\u001b[0m         \u001b[0;34m\"\"\"Search all candidates in param_grid\"\"\"\u001b[0m\u001b[0;34m\u001b[0m\u001b[0;34m\u001b[0m\u001b[0m\n\u001b[0;32m-> 1388\u001b[0;31m         \u001b[0mevaluate_candidates\u001b[0m\u001b[0;34m(\u001b[0m\u001b[0mParameterGrid\u001b[0m\u001b[0;34m(\u001b[0m\u001b[0mself\u001b[0m\u001b[0;34m.\u001b[0m\u001b[0mparam_grid\u001b[0m\u001b[0;34m)\u001b[0m\u001b[0;34m)\u001b[0m\u001b[0;34m\u001b[0m\u001b[0;34m\u001b[0m\u001b[0m\n\u001b[0m\u001b[1;32m   1389\u001b[0m \u001b[0;34m\u001b[0m\u001b[0m\n\u001b[1;32m   1390\u001b[0m \u001b[0;34m\u001b[0m\u001b[0m\n",
            "\u001b[0;32m/usr/local/lib/python3.10/dist-packages/sklearn/model_selection/_search.py\u001b[0m in \u001b[0;36mevaluate_candidates\u001b[0;34m(candidate_params, cv, more_results)\u001b[0m\n\u001b[1;32m    819\u001b[0m                     )\n\u001b[1;32m    820\u001b[0m \u001b[0;34m\u001b[0m\u001b[0m\n\u001b[0;32m--> 821\u001b[0;31m                 out = parallel(\n\u001b[0m\u001b[1;32m    822\u001b[0m                     delayed(_fit_and_score)(\n\u001b[1;32m    823\u001b[0m                         \u001b[0mclone\u001b[0m\u001b[0;34m(\u001b[0m\u001b[0mbase_estimator\u001b[0m\u001b[0;34m)\u001b[0m\u001b[0;34m,\u001b[0m\u001b[0;34m\u001b[0m\u001b[0;34m\u001b[0m\u001b[0m\n",
            "\u001b[0;32m/usr/local/lib/python3.10/dist-packages/sklearn/utils/parallel.py\u001b[0m in \u001b[0;36m__call__\u001b[0;34m(self, iterable)\u001b[0m\n\u001b[1;32m     61\u001b[0m             \u001b[0;32mfor\u001b[0m \u001b[0mdelayed_func\u001b[0m\u001b[0;34m,\u001b[0m \u001b[0margs\u001b[0m\u001b[0;34m,\u001b[0m \u001b[0mkwargs\u001b[0m \u001b[0;32min\u001b[0m \u001b[0miterable\u001b[0m\u001b[0;34m\u001b[0m\u001b[0;34m\u001b[0m\u001b[0m\n\u001b[1;32m     62\u001b[0m         )\n\u001b[0;32m---> 63\u001b[0;31m         \u001b[0;32mreturn\u001b[0m \u001b[0msuper\u001b[0m\u001b[0;34m(\u001b[0m\u001b[0;34m)\u001b[0m\u001b[0;34m.\u001b[0m\u001b[0m__call__\u001b[0m\u001b[0;34m(\u001b[0m\u001b[0miterable_with_config\u001b[0m\u001b[0;34m)\u001b[0m\u001b[0;34m\u001b[0m\u001b[0;34m\u001b[0m\u001b[0m\n\u001b[0m\u001b[1;32m     64\u001b[0m \u001b[0;34m\u001b[0m\u001b[0m\n\u001b[1;32m     65\u001b[0m \u001b[0;34m\u001b[0m\u001b[0m\n",
            "\u001b[0;32m/usr/local/lib/python3.10/dist-packages/joblib/parallel.py\u001b[0m in \u001b[0;36m__call__\u001b[0;34m(self, iterable)\u001b[0m\n\u001b[1;32m   1086\u001b[0m                 \u001b[0mself\u001b[0m\u001b[0;34m.\u001b[0m\u001b[0m_iterating\u001b[0m \u001b[0;34m=\u001b[0m \u001b[0mself\u001b[0m\u001b[0;34m.\u001b[0m\u001b[0m_original_iterator\u001b[0m \u001b[0;32mis\u001b[0m \u001b[0;32mnot\u001b[0m \u001b[0;32mNone\u001b[0m\u001b[0;34m\u001b[0m\u001b[0;34m\u001b[0m\u001b[0m\n\u001b[1;32m   1087\u001b[0m \u001b[0;34m\u001b[0m\u001b[0m\n\u001b[0;32m-> 1088\u001b[0;31m             \u001b[0;32mwhile\u001b[0m \u001b[0mself\u001b[0m\u001b[0;34m.\u001b[0m\u001b[0mdispatch_one_batch\u001b[0m\u001b[0;34m(\u001b[0m\u001b[0miterator\u001b[0m\u001b[0;34m)\u001b[0m\u001b[0;34m:\u001b[0m\u001b[0;34m\u001b[0m\u001b[0;34m\u001b[0m\u001b[0m\n\u001b[0m\u001b[1;32m   1089\u001b[0m                 \u001b[0;32mpass\u001b[0m\u001b[0;34m\u001b[0m\u001b[0;34m\u001b[0m\u001b[0m\n\u001b[1;32m   1090\u001b[0m \u001b[0;34m\u001b[0m\u001b[0m\n",
            "\u001b[0;32m/usr/local/lib/python3.10/dist-packages/joblib/parallel.py\u001b[0m in \u001b[0;36mdispatch_one_batch\u001b[0;34m(self, iterator)\u001b[0m\n\u001b[1;32m    899\u001b[0m                 \u001b[0;32mreturn\u001b[0m \u001b[0;32mFalse\u001b[0m\u001b[0;34m\u001b[0m\u001b[0;34m\u001b[0m\u001b[0m\n\u001b[1;32m    900\u001b[0m             \u001b[0;32melse\u001b[0m\u001b[0;34m:\u001b[0m\u001b[0;34m\u001b[0m\u001b[0;34m\u001b[0m\u001b[0m\n\u001b[0;32m--> 901\u001b[0;31m                 \u001b[0mself\u001b[0m\u001b[0;34m.\u001b[0m\u001b[0m_dispatch\u001b[0m\u001b[0;34m(\u001b[0m\u001b[0mtasks\u001b[0m\u001b[0;34m)\u001b[0m\u001b[0;34m\u001b[0m\u001b[0;34m\u001b[0m\u001b[0m\n\u001b[0m\u001b[1;32m    902\u001b[0m                 \u001b[0;32mreturn\u001b[0m \u001b[0;32mTrue\u001b[0m\u001b[0;34m\u001b[0m\u001b[0;34m\u001b[0m\u001b[0m\n\u001b[1;32m    903\u001b[0m \u001b[0;34m\u001b[0m\u001b[0m\n",
            "\u001b[0;32m/usr/local/lib/python3.10/dist-packages/joblib/parallel.py\u001b[0m in \u001b[0;36m_dispatch\u001b[0;34m(self, batch)\u001b[0m\n\u001b[1;32m    817\u001b[0m         \u001b[0;32mwith\u001b[0m \u001b[0mself\u001b[0m\u001b[0;34m.\u001b[0m\u001b[0m_lock\u001b[0m\u001b[0;34m:\u001b[0m\u001b[0;34m\u001b[0m\u001b[0;34m\u001b[0m\u001b[0m\n\u001b[1;32m    818\u001b[0m             \u001b[0mjob_idx\u001b[0m \u001b[0;34m=\u001b[0m \u001b[0mlen\u001b[0m\u001b[0;34m(\u001b[0m\u001b[0mself\u001b[0m\u001b[0;34m.\u001b[0m\u001b[0m_jobs\u001b[0m\u001b[0;34m)\u001b[0m\u001b[0;34m\u001b[0m\u001b[0;34m\u001b[0m\u001b[0m\n\u001b[0;32m--> 819\u001b[0;31m             \u001b[0mjob\u001b[0m \u001b[0;34m=\u001b[0m \u001b[0mself\u001b[0m\u001b[0;34m.\u001b[0m\u001b[0m_backend\u001b[0m\u001b[0;34m.\u001b[0m\u001b[0mapply_async\u001b[0m\u001b[0;34m(\u001b[0m\u001b[0mbatch\u001b[0m\u001b[0;34m,\u001b[0m \u001b[0mcallback\u001b[0m\u001b[0;34m=\u001b[0m\u001b[0mcb\u001b[0m\u001b[0;34m)\u001b[0m\u001b[0;34m\u001b[0m\u001b[0;34m\u001b[0m\u001b[0m\n\u001b[0m\u001b[1;32m    820\u001b[0m             \u001b[0;31m# A job can complete so quickly than its callback is\u001b[0m\u001b[0;34m\u001b[0m\u001b[0;34m\u001b[0m\u001b[0m\n\u001b[1;32m    821\u001b[0m             \u001b[0;31m# called before we get here, causing self._jobs to\u001b[0m\u001b[0;34m\u001b[0m\u001b[0;34m\u001b[0m\u001b[0m\n",
            "\u001b[0;32m/usr/local/lib/python3.10/dist-packages/joblib/_parallel_backends.py\u001b[0m in \u001b[0;36mapply_async\u001b[0;34m(self, func, callback)\u001b[0m\n\u001b[1;32m    206\u001b[0m     \u001b[0;32mdef\u001b[0m \u001b[0mapply_async\u001b[0m\u001b[0;34m(\u001b[0m\u001b[0mself\u001b[0m\u001b[0;34m,\u001b[0m \u001b[0mfunc\u001b[0m\u001b[0;34m,\u001b[0m \u001b[0mcallback\u001b[0m\u001b[0;34m=\u001b[0m\u001b[0;32mNone\u001b[0m\u001b[0;34m)\u001b[0m\u001b[0;34m:\u001b[0m\u001b[0;34m\u001b[0m\u001b[0;34m\u001b[0m\u001b[0m\n\u001b[1;32m    207\u001b[0m         \u001b[0;34m\"\"\"Schedule a func to be run\"\"\"\u001b[0m\u001b[0;34m\u001b[0m\u001b[0;34m\u001b[0m\u001b[0m\n\u001b[0;32m--> 208\u001b[0;31m         \u001b[0mresult\u001b[0m \u001b[0;34m=\u001b[0m \u001b[0mImmediateResult\u001b[0m\u001b[0;34m(\u001b[0m\u001b[0mfunc\u001b[0m\u001b[0;34m)\u001b[0m\u001b[0;34m\u001b[0m\u001b[0;34m\u001b[0m\u001b[0m\n\u001b[0m\u001b[1;32m    209\u001b[0m         \u001b[0;32mif\u001b[0m \u001b[0mcallback\u001b[0m\u001b[0;34m:\u001b[0m\u001b[0;34m\u001b[0m\u001b[0;34m\u001b[0m\u001b[0m\n\u001b[1;32m    210\u001b[0m             \u001b[0mcallback\u001b[0m\u001b[0;34m(\u001b[0m\u001b[0mresult\u001b[0m\u001b[0;34m)\u001b[0m\u001b[0;34m\u001b[0m\u001b[0;34m\u001b[0m\u001b[0m\n",
            "\u001b[0;32m/usr/local/lib/python3.10/dist-packages/joblib/_parallel_backends.py\u001b[0m in \u001b[0;36m__init__\u001b[0;34m(self, batch)\u001b[0m\n\u001b[1;32m    595\u001b[0m         \u001b[0;31m# Don't delay the application, to avoid keeping the input\u001b[0m\u001b[0;34m\u001b[0m\u001b[0;34m\u001b[0m\u001b[0m\n\u001b[1;32m    596\u001b[0m         \u001b[0;31m# arguments in memory\u001b[0m\u001b[0;34m\u001b[0m\u001b[0;34m\u001b[0m\u001b[0m\n\u001b[0;32m--> 597\u001b[0;31m         \u001b[0mself\u001b[0m\u001b[0;34m.\u001b[0m\u001b[0mresults\u001b[0m \u001b[0;34m=\u001b[0m \u001b[0mbatch\u001b[0m\u001b[0;34m(\u001b[0m\u001b[0;34m)\u001b[0m\u001b[0;34m\u001b[0m\u001b[0;34m\u001b[0m\u001b[0m\n\u001b[0m\u001b[1;32m    598\u001b[0m \u001b[0;34m\u001b[0m\u001b[0m\n\u001b[1;32m    599\u001b[0m     \u001b[0;32mdef\u001b[0m \u001b[0mget\u001b[0m\u001b[0;34m(\u001b[0m\u001b[0mself\u001b[0m\u001b[0;34m)\u001b[0m\u001b[0;34m:\u001b[0m\u001b[0;34m\u001b[0m\u001b[0;34m\u001b[0m\u001b[0m\n",
            "\u001b[0;32m/usr/local/lib/python3.10/dist-packages/joblib/parallel.py\u001b[0m in \u001b[0;36m__call__\u001b[0;34m(self)\u001b[0m\n\u001b[1;32m    286\u001b[0m         \u001b[0;31m# change the default number of processes to -1\u001b[0m\u001b[0;34m\u001b[0m\u001b[0;34m\u001b[0m\u001b[0m\n\u001b[1;32m    287\u001b[0m         \u001b[0;32mwith\u001b[0m \u001b[0mparallel_backend\u001b[0m\u001b[0;34m(\u001b[0m\u001b[0mself\u001b[0m\u001b[0;34m.\u001b[0m\u001b[0m_backend\u001b[0m\u001b[0;34m,\u001b[0m \u001b[0mn_jobs\u001b[0m\u001b[0;34m=\u001b[0m\u001b[0mself\u001b[0m\u001b[0;34m.\u001b[0m\u001b[0m_n_jobs\u001b[0m\u001b[0;34m)\u001b[0m\u001b[0;34m:\u001b[0m\u001b[0;34m\u001b[0m\u001b[0;34m\u001b[0m\u001b[0m\n\u001b[0;32m--> 288\u001b[0;31m             return [func(*args, **kwargs)\n\u001b[0m\u001b[1;32m    289\u001b[0m                     for func, args, kwargs in self.items]\n\u001b[1;32m    290\u001b[0m \u001b[0;34m\u001b[0m\u001b[0m\n",
            "\u001b[0;32m/usr/local/lib/python3.10/dist-packages/joblib/parallel.py\u001b[0m in \u001b[0;36m<listcomp>\u001b[0;34m(.0)\u001b[0m\n\u001b[1;32m    286\u001b[0m         \u001b[0;31m# change the default number of processes to -1\u001b[0m\u001b[0;34m\u001b[0m\u001b[0;34m\u001b[0m\u001b[0m\n\u001b[1;32m    287\u001b[0m         \u001b[0;32mwith\u001b[0m \u001b[0mparallel_backend\u001b[0m\u001b[0;34m(\u001b[0m\u001b[0mself\u001b[0m\u001b[0;34m.\u001b[0m\u001b[0m_backend\u001b[0m\u001b[0;34m,\u001b[0m \u001b[0mn_jobs\u001b[0m\u001b[0;34m=\u001b[0m\u001b[0mself\u001b[0m\u001b[0;34m.\u001b[0m\u001b[0m_n_jobs\u001b[0m\u001b[0;34m)\u001b[0m\u001b[0;34m:\u001b[0m\u001b[0;34m\u001b[0m\u001b[0;34m\u001b[0m\u001b[0m\n\u001b[0;32m--> 288\u001b[0;31m             return [func(*args, **kwargs)\n\u001b[0m\u001b[1;32m    289\u001b[0m                     for func, args, kwargs in self.items]\n\u001b[1;32m    290\u001b[0m \u001b[0;34m\u001b[0m\u001b[0m\n",
            "\u001b[0;32m/usr/local/lib/python3.10/dist-packages/sklearn/utils/parallel.py\u001b[0m in \u001b[0;36m__call__\u001b[0;34m(self, *args, **kwargs)\u001b[0m\n\u001b[1;32m    121\u001b[0m             \u001b[0mconfig\u001b[0m \u001b[0;34m=\u001b[0m \u001b[0;34m{\u001b[0m\u001b[0;34m}\u001b[0m\u001b[0;34m\u001b[0m\u001b[0;34m\u001b[0m\u001b[0m\n\u001b[1;32m    122\u001b[0m         \u001b[0;32mwith\u001b[0m \u001b[0mconfig_context\u001b[0m\u001b[0;34m(\u001b[0m\u001b[0;34m**\u001b[0m\u001b[0mconfig\u001b[0m\u001b[0;34m)\u001b[0m\u001b[0;34m:\u001b[0m\u001b[0;34m\u001b[0m\u001b[0;34m\u001b[0m\u001b[0m\n\u001b[0;32m--> 123\u001b[0;31m             \u001b[0;32mreturn\u001b[0m \u001b[0mself\u001b[0m\u001b[0;34m.\u001b[0m\u001b[0mfunction\u001b[0m\u001b[0;34m(\u001b[0m\u001b[0;34m*\u001b[0m\u001b[0margs\u001b[0m\u001b[0;34m,\u001b[0m \u001b[0;34m**\u001b[0m\u001b[0mkwargs\u001b[0m\u001b[0;34m)\u001b[0m\u001b[0;34m\u001b[0m\u001b[0;34m\u001b[0m\u001b[0m\n\u001b[0m",
            "\u001b[0;32m/usr/local/lib/python3.10/dist-packages/sklearn/model_selection/_validation.py\u001b[0m in \u001b[0;36m_fit_and_score\u001b[0;34m(estimator, X, y, scorer, train, test, verbose, parameters, fit_params, return_train_score, return_parameters, return_n_test_samples, return_times, return_estimator, split_progress, candidate_progress, error_score)\u001b[0m\n\u001b[1;32m    684\u001b[0m             \u001b[0mestimator\u001b[0m\u001b[0;34m.\u001b[0m\u001b[0mfit\u001b[0m\u001b[0;34m(\u001b[0m\u001b[0mX_train\u001b[0m\u001b[0;34m,\u001b[0m \u001b[0;34m**\u001b[0m\u001b[0mfit_params\u001b[0m\u001b[0;34m)\u001b[0m\u001b[0;34m\u001b[0m\u001b[0;34m\u001b[0m\u001b[0m\n\u001b[1;32m    685\u001b[0m         \u001b[0;32melse\u001b[0m\u001b[0;34m:\u001b[0m\u001b[0;34m\u001b[0m\u001b[0;34m\u001b[0m\u001b[0m\n\u001b[0;32m--> 686\u001b[0;31m             \u001b[0mestimator\u001b[0m\u001b[0;34m.\u001b[0m\u001b[0mfit\u001b[0m\u001b[0;34m(\u001b[0m\u001b[0mX_train\u001b[0m\u001b[0;34m,\u001b[0m \u001b[0my_train\u001b[0m\u001b[0;34m,\u001b[0m \u001b[0;34m**\u001b[0m\u001b[0mfit_params\u001b[0m\u001b[0;34m)\u001b[0m\u001b[0;34m\u001b[0m\u001b[0;34m\u001b[0m\u001b[0m\n\u001b[0m\u001b[1;32m    687\u001b[0m \u001b[0;34m\u001b[0m\u001b[0m\n\u001b[1;32m    688\u001b[0m     \u001b[0;32mexcept\u001b[0m \u001b[0mException\u001b[0m\u001b[0;34m:\u001b[0m\u001b[0;34m\u001b[0m\u001b[0;34m\u001b[0m\u001b[0m\n",
            "\u001b[0;32m/usr/local/lib/python3.10/dist-packages/sklearn/linear_model/_coordinate_descent.py\u001b[0m in \u001b[0;36mfit\u001b[0;34m(self, X, y, sample_weight, check_input)\u001b[0m\n\u001b[1;32m   1002\u001b[0m             \u001b[0;32melse\u001b[0m\u001b[0;34m:\u001b[0m\u001b[0;34m\u001b[0m\u001b[0;34m\u001b[0m\u001b[0m\n\u001b[1;32m   1003\u001b[0m                 \u001b[0mthis_Xy\u001b[0m \u001b[0;34m=\u001b[0m \u001b[0;32mNone\u001b[0m\u001b[0;34m\u001b[0m\u001b[0;34m\u001b[0m\u001b[0m\n\u001b[0;32m-> 1004\u001b[0;31m             _, this_coef, this_dual_gap, this_iter = self.path(\n\u001b[0m\u001b[1;32m   1005\u001b[0m                 \u001b[0mX\u001b[0m\u001b[0;34m,\u001b[0m\u001b[0;34m\u001b[0m\u001b[0;34m\u001b[0m\u001b[0m\n\u001b[1;32m   1006\u001b[0m                 \u001b[0my\u001b[0m\u001b[0;34m[\u001b[0m\u001b[0;34m:\u001b[0m\u001b[0;34m,\u001b[0m \u001b[0mk\u001b[0m\u001b[0;34m]\u001b[0m\u001b[0;34m,\u001b[0m\u001b[0;34m\u001b[0m\u001b[0;34m\u001b[0m\u001b[0m\n",
            "\u001b[0;32m/usr/local/lib/python3.10/dist-packages/sklearn/linear_model/_coordinate_descent.py\u001b[0m in \u001b[0;36menet_path\u001b[0;34m(X, y, l1_ratio, eps, n_alphas, alphas, precompute, Xy, copy_X, coef_init, verbose, return_n_iter, positive, check_input, **params)\u001b[0m\n\u001b[1;32m    629\u001b[0m             )\n\u001b[1;32m    630\u001b[0m         \u001b[0;32melif\u001b[0m \u001b[0mprecompute\u001b[0m \u001b[0;32mis\u001b[0m \u001b[0;32mFalse\u001b[0m\u001b[0;34m:\u001b[0m\u001b[0;34m\u001b[0m\u001b[0;34m\u001b[0m\u001b[0m\n\u001b[0;32m--> 631\u001b[0;31m             model = cd_fast.enet_coordinate_descent(\n\u001b[0m\u001b[1;32m    632\u001b[0m                 \u001b[0mcoef_\u001b[0m\u001b[0;34m,\u001b[0m \u001b[0ml1_reg\u001b[0m\u001b[0;34m,\u001b[0m \u001b[0ml2_reg\u001b[0m\u001b[0;34m,\u001b[0m \u001b[0mX\u001b[0m\u001b[0;34m,\u001b[0m \u001b[0my\u001b[0m\u001b[0;34m,\u001b[0m \u001b[0mmax_iter\u001b[0m\u001b[0;34m,\u001b[0m \u001b[0mtol\u001b[0m\u001b[0;34m,\u001b[0m \u001b[0mrng\u001b[0m\u001b[0;34m,\u001b[0m \u001b[0mrandom\u001b[0m\u001b[0;34m,\u001b[0m \u001b[0mpositive\u001b[0m\u001b[0;34m\u001b[0m\u001b[0;34m\u001b[0m\u001b[0m\n\u001b[1;32m    633\u001b[0m             )\n",
            "\u001b[0;32msklearn/linear_model/_cd_fast.pyx\u001b[0m in \u001b[0;36msklearn.linear_model._cd_fast.enet_coordinate_descent\u001b[0;34m()\u001b[0m\n",
            "\u001b[0;32m/usr/local/lib/python3.10/dist-packages/numpy/core/getlimits.py\u001b[0m in \u001b[0;36m__new__\u001b[0;34m(cls, dtype)\u001b[0m\n\u001b[1;32m    457\u001b[0m     \u001b[0;32mdef\u001b[0m \u001b[0m__new__\u001b[0m\u001b[0;34m(\u001b[0m\u001b[0mcls\u001b[0m\u001b[0;34m,\u001b[0m \u001b[0mdtype\u001b[0m\u001b[0;34m)\u001b[0m\u001b[0;34m:\u001b[0m\u001b[0;34m\u001b[0m\u001b[0;34m\u001b[0m\u001b[0m\n\u001b[1;32m    458\u001b[0m         \u001b[0;32mtry\u001b[0m\u001b[0;34m:\u001b[0m\u001b[0;34m\u001b[0m\u001b[0;34m\u001b[0m\u001b[0m\n\u001b[0;32m--> 459\u001b[0;31m             \u001b[0mdtype\u001b[0m \u001b[0;34m=\u001b[0m \u001b[0mnumeric\u001b[0m\u001b[0;34m.\u001b[0m\u001b[0mdtype\u001b[0m\u001b[0;34m(\u001b[0m\u001b[0mdtype\u001b[0m\u001b[0;34m)\u001b[0m\u001b[0;34m\u001b[0m\u001b[0;34m\u001b[0m\u001b[0m\n\u001b[0m\u001b[1;32m    460\u001b[0m         \u001b[0;32mexcept\u001b[0m \u001b[0mTypeError\u001b[0m\u001b[0;34m:\u001b[0m\u001b[0;34m\u001b[0m\u001b[0;34m\u001b[0m\u001b[0m\n\u001b[1;32m    461\u001b[0m             \u001b[0;31m# In case a float instance was given\u001b[0m\u001b[0;34m\u001b[0m\u001b[0;34m\u001b[0m\u001b[0m\n",
            "\u001b[0;31mKeyboardInterrupt\u001b[0m: "
          ]
        }
      ],
      "source": [
        "param_grid = {\n",
        "    'alpha': [0.1, 1.0, 10.0],\n",
        "    'l1_ratio' : [0.25, 0.5, 0.75]\n",
        "}\n",
        "\n",
        "# ElasticNet 모델에 대한 GridSearchCV 수행\n",
        "elastic_net_grid_search = GridSearchCV(estimator=ElasticNet(tol = 0.001,max_iter=2000), param_grid=param_grid, cv=5, scoring = 'neg_mean_squared_error')\n",
        "elastic_net_grid_search.fit(X_train_poly, y_train)\n",
        "\n",
        "print(\"elastic_net - Best Score:\", elastic_net_grid_search.best_score_)\n",
        "print(\"elastic_net - Best Parameters:\", elastic_net_grid_search.best_params_)"
      ]
    },
    {
      "cell_type": "code",
      "execution_count": null,
      "metadata": {
        "id": "OBdvUoSrf-Oz"
      },
      "outputs": [],
      "source": [
        "best_ridge_lr = ridge_grid_search.best_estimator_"
      ]
    },
    {
      "cell_type": "code",
      "execution_count": null,
      "metadata": {
        "id": "QO8ygt5af-O0"
      },
      "outputs": [],
      "source": [
        "## LARS\n",
        "from sklearn.linear_model import Lars\n",
        "\n",
        "Lars_reg = Lars(n_nonzero_coefs=2)\n",
        "Lars_reg.fit(X_train_poly, y_train)\n",
        "\n",
        "print(Lars_reg.score(X_train_poly, y_train))\n",
        "print(Lars_reg.score(X_test_poly, y_test))"
      ]
    },
    {
      "cell_type": "markdown",
      "metadata": {
        "id": "FoBzyrvqf-O0"
      },
      "source": [
        "# 2. 상관관계 확인\n",
        "- 2-1. corr\n",
        "- 2-2. heatmap"
      ]
    },
    {
      "cell_type": "markdown",
      "metadata": {
        "id": "pnHZ64OBf-O0"
      },
      "source": [
        "### 2-1. corr"
      ]
    },
    {
      "cell_type": "code",
      "execution_count": null,
      "metadata": {
        "id": "5rUK2Wb5f-O7"
      },
      "outputs": [],
      "source": [
        "# import seaborn as sns\n",
        "\n",
        "\n",
        "# sns.pairplot(df, diag_kind=\"kde\")"
      ]
    },
    {
      "cell_type": "code",
      "execution_count": null,
      "metadata": {
        "id": "4RO1-5pbf-O8"
      },
      "outputs": [],
      "source": [
        "# df_encoded = pd.get_dummies(df)\n",
        "# df_encoded.iloc[:,-5:]=df_encoded.iloc[:,-5:].astype(int)\n",
        "# df_encoded.info()"
      ]
    },
    {
      "cell_type": "markdown",
      "metadata": {
        "id": "B0uSVDvif-O8"
      },
      "source": [
        "### ⭐Q to hyunjun - options_num, subway_num이런 것도 빼야하는가..?"
      ]
    },
    {
      "cell_type": "code",
      "execution_count": null,
      "metadata": {
        "id": "G4XVKNR5f-O8",
        "outputId": "29b6d5af-9bda-4af8-d498-04bc94ac212a"
      },
      "outputs": [
        {
          "name": "stdout",
          "output_type": "stream",
          "text": [
            "<class 'pandas.core.frame.DataFrame'>\n",
            "Index: 34208 entries, 36293764 to 36386612\n",
            "Data columns (total 70 columns):\n",
            " #   Column                        Non-Null Count  Dtype  \n",
            "---  ------                        --------------  -----  \n",
            " 0   service_type                  34208 non-null  object \n",
            " 1   size_m2                       34208 non-null  float64\n",
            " 2   sales_type                    34208 non-null  object \n",
            " 3   rent                          34208 non-null  int64  \n",
            " 4   deposit                       34208 non-null  int64  \n",
            " 5   manage_cost                   34208 non-null  float64\n",
            " 6   manage_cost_count             34208 non-null  int64  \n",
            " 7   elevator                      34208 non-null  int64  \n",
            " 8   parking                       34208 non-null  int64  \n",
            " 9   near_subways_count            34208 non-null  int64  \n",
            " 10  options_count                 34208 non-null  int64  \n",
            " 11  supermarket_dist              34208 non-null  float64\n",
            " 12  convenience_store_dist        34208 non-null  float64\n",
            " 13  school_dist                   34208 non-null  float64\n",
            " 14  subway_dist                   34208 non-null  float64\n",
            " 15  cultural_venue_dist           34208 non-null  float64\n",
            " 16  public_institution_dist       34208 non-null  float64\n",
            " 17  hospital_dist                 34208 non-null  float64\n",
            " 18  x_w84                         34208 non-null  float64\n",
            " 19  y_w84                         34208 non-null  float64\n",
            " 20  building_dandok_p             34208 non-null  float64\n",
            " 21  building_apt_p                34208 non-null  float64\n",
            " 22  building_yeonlip_p            34208 non-null  float64\n",
            " 23  building_dasedae_p            34208 non-null  float64\n",
            " 24  building_nonresidential_p     34208 non-null  float64\n",
            " 25  building_others_p             34208 non-null  float64\n",
            " 26  ppltn_total                   34208 non-null  float64\n",
            " 27  gender_ratio                  34208 non-null  float64\n",
            " 28  ppltn_foreign_domestic_ratio  34208 non-null  float64\n",
            " 29  ppltn_upper_65_p              34208 non-null  float64\n",
            " 30  aging                         34208 non-null  int64  \n",
            " 31  aged                          34208 non-null  int64  \n",
            " 32  post_aged                     34208 non-null  int64  \n",
            " 33  ppltn_dnsty                   34208 non-null  float64\n",
            " 34  corp_to_pop                   34208 non-null  float64\n",
            " 35  ppltn_adult_p                 34208 non-null  float64\n",
            " 36  hhd_member_avg                34208 non-null  float64\n",
            " 37  hhd_collective_p              34208 non-null  float64\n",
            " 38  hhd_private_p                 34208 non-null  float64\n",
            " 39  hhd_family_p                  34208 non-null  float64\n",
            " 40  hhd_alone_p                   34208 non-null  float64\n",
            " 41  tenure_total                  34208 non-null  float64\n",
            " 42  app_dasedae                   34208 non-null  float64\n",
            " 43  app_dandok                    34208 non-null  float64\n",
            " 44  app_nonresidential            34208 non-null  float64\n",
            " 45  app_apt                       34208 non-null  float64\n",
            " 46  app_yeonlip                   34208 non-null  float64\n",
            " 47  app_officetel                 34208 non-null  float64\n",
            " 48  park_per_area                 34208 non-null  float64\n",
            " 49  green_per_area                34208 non-null  float64\n",
            " 50  dust_level                    34208 non-null  float64\n",
            " 51  ssg_ppltn                     34208 non-null  float64\n",
            " 52  convenience_per_ppltn         34208 non-null  float64\n",
            " 53  shopping_per_ppltn            34208 non-null  float64\n",
            " 54  grocery_per_ppltn             34208 non-null  float64\n",
            " 55  restaurant_per_ppltn          34208 non-null  float64\n",
            " 56  medical_per_ppltn             34208 non-null  float64\n",
            " 57  culture_per_ppltn             34208 non-null  float64\n",
            " 58  gym_per_ppltn                 34208 non-null  float64\n",
            " 59  ppltn_net_migration_rate      34208 non-null  float64\n",
            " 60  safety_idx                    34208 non-null  float64\n",
            " 61  deposit+rent                  34208 non-null  float64\n",
            " 62  room_direction_score          34208 non-null  int64  \n",
            " 63  manage_cost_inc_num           34208 non-null  int64  \n",
            " 64  near_subways_num              34208 non-null  int64  \n",
            " 65  tenure_self_ratio             34208 non-null  float64\n",
            " 66  tenure_jeonse_ratio           34208 non-null  float64\n",
            " 67  tenure_free_ratio             34208 non-null  float64\n",
            " 68  tenure_monthly_ratio          34208 non-null  float64\n",
            " 69  room_floor_score              34208 non-null  int64  \n",
            "dtypes: float64(54), int64(14), object(2)\n",
            "memory usage: 18.5+ MB\n"
          ]
        }
      ],
      "source": [
        "df.info()"
      ]
    },
    {
      "cell_type": "code",
      "execution_count": null,
      "metadata": {
        "id": "JyIV7wIDf-O8"
      },
      "outputs": [],
      "source": [
        "# df_num: categorical data 제거\n",
        "\n",
        "col_dropped = ['service_type','sales_type','manage_cost_count','elevator','parking','room_direction_score','safety_idx',\n",
        "               'near_subways_count','options_count','manage_cost_inc_num','near_subways_num','room_floor_score','deposit','rent']\n",
        "\n",
        "df_num= df.drop(col_dropped,axis=1)\n"
      ]
    },
    {
      "cell_type": "markdown",
      "metadata": {
        "id": "nYWz0JVZf-O9"
      },
      "source": [
        "![image.png](attachment:image.png)"
      ]
    },
    {
      "cell_type": "code",
      "execution_count": null,
      "metadata": {
        "id": "A9bSz7CXf-O9",
        "outputId": "4c4fe54d-6e9a-477f-c976-61a80d2b4d1b"
      },
      "outputs": [
        {
          "data": {
            "text/plain": [
              "(34208, 16)"
            ]
          },
          "execution_count": 44,
          "metadata": {},
          "output_type": "execute_result"
        }
      ],
      "source": [
        "cor = df_num.corr()\n",
        "cor_target = abs(cor['deposit+rent'])\n",
        "\n",
        "## ⭐⭐⭐⭐⭐⭐⭐⭐⭐⭐⭐⭐⭐⭐⭐⭐⭐\n",
        "col_low_cor = cor_target[cor_target<0.2].index\n",
        "## ⭐⭐⭐⭐⭐⭐⭐⭐⭐⭐⭐⭐⭐⭐⭐⭐⭐\n",
        "\n",
        "# df_highcor: 가격과 상관관계가 0.2 이하인 변수를 df_num에서 제거\n",
        "\n",
        "df_highcor = df_num.drop(col_low_cor,axis=1)\n",
        "df_highcor.shape"
      ]
    },
    {
      "cell_type": "markdown",
      "metadata": {
        "id": "oAaL3rGPf-O9"
      },
      "source": [
        "### 2-2. heatmap"
      ]
    },
    {
      "cell_type": "code",
      "execution_count": null,
      "metadata": {
        "id": "fdgr_Qn2f-O9",
        "outputId": "bdba0acf-ecbb-4e96-f853-3658cb2aee34"
      },
      "outputs": [
        {
          "data": {
            "text/html": [
              "<div>\n",
              "<style scoped>\n",
              "    .dataframe tbody tr th:only-of-type {\n",
              "        vertical-align: middle;\n",
              "    }\n",
              "\n",
              "    .dataframe tbody tr th {\n",
              "        vertical-align: top;\n",
              "    }\n",
              "\n",
              "    .dataframe thead th {\n",
              "        text-align: right;\n",
              "    }\n",
              "</style>\n",
              "<table border=\"1\" class=\"dataframe\">\n",
              "  <thead>\n",
              "    <tr style=\"text-align: right;\">\n",
              "      <th></th>\n",
              "      <th>size_m2</th>\n",
              "      <th>manage_cost</th>\n",
              "      <th>x_w84</th>\n",
              "      <th>gender_ratio</th>\n",
              "      <th>corp_to_pop</th>\n",
              "      <th>app_dandok</th>\n",
              "      <th>app_apt</th>\n",
              "      <th>app_yeonlip</th>\n",
              "      <th>convenience_per_ppltn</th>\n",
              "      <th>restaurant_per_ppltn</th>\n",
              "      <th>medical_per_ppltn</th>\n",
              "      <th>gym_per_ppltn</th>\n",
              "      <th>deposit+rent</th>\n",
              "      <th>tenure_self_ratio</th>\n",
              "      <th>tenure_jeonse_ratio</th>\n",
              "      <th>tenure_monthly_ratio</th>\n",
              "    </tr>\n",
              "    <tr>\n",
              "      <th>id</th>\n",
              "      <th></th>\n",
              "      <th></th>\n",
              "      <th></th>\n",
              "      <th></th>\n",
              "      <th></th>\n",
              "      <th></th>\n",
              "      <th></th>\n",
              "      <th></th>\n",
              "      <th></th>\n",
              "      <th></th>\n",
              "      <th></th>\n",
              "      <th></th>\n",
              "      <th></th>\n",
              "      <th></th>\n",
              "      <th></th>\n",
              "      <th></th>\n",
              "    </tr>\n",
              "  </thead>\n",
              "  <tbody>\n",
              "    <tr>\n",
              "      <th>36293764</th>\n",
              "      <td>24.79</td>\n",
              "      <td>7.0</td>\n",
              "      <td>127.061945</td>\n",
              "      <td>1.016</td>\n",
              "      <td>0.055</td>\n",
              "      <td>36.8</td>\n",
              "      <td>27.1</td>\n",
              "      <td>30.4</td>\n",
              "      <td>57.833</td>\n",
              "      <td>1593.745</td>\n",
              "      <td>316.970</td>\n",
              "      <td>93.423</td>\n",
              "      <td>29.750000</td>\n",
              "      <td>0.610950</td>\n",
              "      <td>0.116828</td>\n",
              "      <td>0.238929</td>\n",
              "    </tr>\n",
              "    <tr>\n",
              "      <th>36576214</th>\n",
              "      <td>16.53</td>\n",
              "      <td>5.0</td>\n",
              "      <td>127.053083</td>\n",
              "      <td>0.972</td>\n",
              "      <td>0.096</td>\n",
              "      <td>36.8</td>\n",
              "      <td>27.1</td>\n",
              "      <td>30.4</td>\n",
              "      <td>57.833</td>\n",
              "      <td>1593.745</td>\n",
              "      <td>316.970</td>\n",
              "      <td>93.423</td>\n",
              "      <td>31.750000</td>\n",
              "      <td>0.610950</td>\n",
              "      <td>0.116828</td>\n",
              "      <td>0.238929</td>\n",
              "    </tr>\n",
              "    <tr>\n",
              "      <th>36533474</th>\n",
              "      <td>43.87</td>\n",
              "      <td>5.0</td>\n",
              "      <td>127.053141</td>\n",
              "      <td>0.972</td>\n",
              "      <td>0.096</td>\n",
              "      <td>36.8</td>\n",
              "      <td>27.1</td>\n",
              "      <td>30.4</td>\n",
              "      <td>57.833</td>\n",
              "      <td>1593.745</td>\n",
              "      <td>316.970</td>\n",
              "      <td>93.423</td>\n",
              "      <td>52.916667</td>\n",
              "      <td>0.610950</td>\n",
              "      <td>0.116828</td>\n",
              "      <td>0.238929</td>\n",
              "    </tr>\n",
              "    <tr>\n",
              "      <th>36485939</th>\n",
              "      <td>72.73</td>\n",
              "      <td>5.0</td>\n",
              "      <td>127.058746</td>\n",
              "      <td>1.027</td>\n",
              "      <td>0.109</td>\n",
              "      <td>36.8</td>\n",
              "      <td>27.1</td>\n",
              "      <td>30.4</td>\n",
              "      <td>57.833</td>\n",
              "      <td>1593.745</td>\n",
              "      <td>316.970</td>\n",
              "      <td>93.423</td>\n",
              "      <td>127.500000</td>\n",
              "      <td>0.610950</td>\n",
              "      <td>0.116828</td>\n",
              "      <td>0.238929</td>\n",
              "    </tr>\n",
              "    <tr>\n",
              "      <th>36485528</th>\n",
              "      <td>23.14</td>\n",
              "      <td>5.0</td>\n",
              "      <td>127.055081</td>\n",
              "      <td>0.957</td>\n",
              "      <td>0.058</td>\n",
              "      <td>36.8</td>\n",
              "      <td>27.1</td>\n",
              "      <td>30.4</td>\n",
              "      <td>57.833</td>\n",
              "      <td>1593.745</td>\n",
              "      <td>316.970</td>\n",
              "      <td>93.423</td>\n",
              "      <td>42.916667</td>\n",
              "      <td>0.610950</td>\n",
              "      <td>0.116828</td>\n",
              "      <td>0.238929</td>\n",
              "    </tr>\n",
              "    <tr>\n",
              "      <th>...</th>\n",
              "      <td>...</td>\n",
              "      <td>...</td>\n",
              "      <td>...</td>\n",
              "      <td>...</td>\n",
              "      <td>...</td>\n",
              "      <td>...</td>\n",
              "      <td>...</td>\n",
              "      <td>...</td>\n",
              "      <td>...</td>\n",
              "      <td>...</td>\n",
              "      <td>...</td>\n",
              "      <td>...</td>\n",
              "      <td>...</td>\n",
              "      <td>...</td>\n",
              "      <td>...</td>\n",
              "      <td>...</td>\n",
              "    </tr>\n",
              "    <tr>\n",
              "      <th>36557272</th>\n",
              "      <td>33.06</td>\n",
              "      <td>3.0</td>\n",
              "      <td>127.298289</td>\n",
              "      <td>1.007</td>\n",
              "      <td>0.091</td>\n",
              "      <td>36.6</td>\n",
              "      <td>28.0</td>\n",
              "      <td>25.5</td>\n",
              "      <td>24.365</td>\n",
              "      <td>1045.524</td>\n",
              "      <td>234.903</td>\n",
              "      <td>78.683</td>\n",
              "      <td>60.833333</td>\n",
              "      <td>0.579756</td>\n",
              "      <td>0.188986</td>\n",
              "      <td>0.204133</td>\n",
              "    </tr>\n",
              "    <tr>\n",
              "      <th>36492163</th>\n",
              "      <td>52.89</td>\n",
              "      <td>2.0</td>\n",
              "      <td>127.283806</td>\n",
              "      <td>1.007</td>\n",
              "      <td>0.091</td>\n",
              "      <td>36.6</td>\n",
              "      <td>28.0</td>\n",
              "      <td>25.5</td>\n",
              "      <td>24.365</td>\n",
              "      <td>1045.524</td>\n",
              "      <td>234.903</td>\n",
              "      <td>78.683</td>\n",
              "      <td>71.666667</td>\n",
              "      <td>0.579756</td>\n",
              "      <td>0.188986</td>\n",
              "      <td>0.204133</td>\n",
              "    </tr>\n",
              "    <tr>\n",
              "      <th>36504430</th>\n",
              "      <td>35.83</td>\n",
              "      <td>2.0</td>\n",
              "      <td>127.289113</td>\n",
              "      <td>1.007</td>\n",
              "      <td>0.091</td>\n",
              "      <td>36.6</td>\n",
              "      <td>28.0</td>\n",
              "      <td>25.5</td>\n",
              "      <td>24.365</td>\n",
              "      <td>1045.524</td>\n",
              "      <td>234.903</td>\n",
              "      <td>78.683</td>\n",
              "      <td>42.916667</td>\n",
              "      <td>0.579756</td>\n",
              "      <td>0.188986</td>\n",
              "      <td>0.204133</td>\n",
              "    </tr>\n",
              "    <tr>\n",
              "      <th>36544670</th>\n",
              "      <td>39.67</td>\n",
              "      <td>3.0</td>\n",
              "      <td>127.298289</td>\n",
              "      <td>1.007</td>\n",
              "      <td>0.091</td>\n",
              "      <td>36.6</td>\n",
              "      <td>28.0</td>\n",
              "      <td>25.5</td>\n",
              "      <td>24.365</td>\n",
              "      <td>1045.524</td>\n",
              "      <td>234.903</td>\n",
              "      <td>78.683</td>\n",
              "      <td>55.833333</td>\n",
              "      <td>0.579756</td>\n",
              "      <td>0.188986</td>\n",
              "      <td>0.204133</td>\n",
              "    </tr>\n",
              "    <tr>\n",
              "      <th>36386612</th>\n",
              "      <td>72.00</td>\n",
              "      <td>0.0</td>\n",
              "      <td>127.325749</td>\n",
              "      <td>1.117</td>\n",
              "      <td>0.170</td>\n",
              "      <td>36.6</td>\n",
              "      <td>28.0</td>\n",
              "      <td>25.5</td>\n",
              "      <td>24.365</td>\n",
              "      <td>1045.524</td>\n",
              "      <td>234.903</td>\n",
              "      <td>78.683</td>\n",
              "      <td>67.500000</td>\n",
              "      <td>0.579756</td>\n",
              "      <td>0.188986</td>\n",
              "      <td>0.204133</td>\n",
              "    </tr>\n",
              "  </tbody>\n",
              "</table>\n",
              "<p>34208 rows × 16 columns</p>\n",
              "</div>"
            ],
            "text/plain": [
              "          size_m2  manage_cost       x_w84  gender_ratio  corp_to_pop   \n",
              "id                                                                      \n",
              "36293764    24.79          7.0  127.061945         1.016        0.055  \\\n",
              "36576214    16.53          5.0  127.053083         0.972        0.096   \n",
              "36533474    43.87          5.0  127.053141         0.972        0.096   \n",
              "36485939    72.73          5.0  127.058746         1.027        0.109   \n",
              "36485528    23.14          5.0  127.055081         0.957        0.058   \n",
              "...           ...          ...         ...           ...          ...   \n",
              "36557272    33.06          3.0  127.298289         1.007        0.091   \n",
              "36492163    52.89          2.0  127.283806         1.007        0.091   \n",
              "36504430    35.83          2.0  127.289113         1.007        0.091   \n",
              "36544670    39.67          3.0  127.298289         1.007        0.091   \n",
              "36386612    72.00          0.0  127.325749         1.117        0.170   \n",
              "\n",
              "          app_dandok  app_apt  app_yeonlip  convenience_per_ppltn   \n",
              "id                                                                  \n",
              "36293764        36.8     27.1         30.4                 57.833  \\\n",
              "36576214        36.8     27.1         30.4                 57.833   \n",
              "36533474        36.8     27.1         30.4                 57.833   \n",
              "36485939        36.8     27.1         30.4                 57.833   \n",
              "36485528        36.8     27.1         30.4                 57.833   \n",
              "...              ...      ...          ...                    ...   \n",
              "36557272        36.6     28.0         25.5                 24.365   \n",
              "36492163        36.6     28.0         25.5                 24.365   \n",
              "36504430        36.6     28.0         25.5                 24.365   \n",
              "36544670        36.6     28.0         25.5                 24.365   \n",
              "36386612        36.6     28.0         25.5                 24.365   \n",
              "\n",
              "          restaurant_per_ppltn  medical_per_ppltn  gym_per_ppltn   \n",
              "id                                                                 \n",
              "36293764              1593.745            316.970         93.423  \\\n",
              "36576214              1593.745            316.970         93.423   \n",
              "36533474              1593.745            316.970         93.423   \n",
              "36485939              1593.745            316.970         93.423   \n",
              "36485528              1593.745            316.970         93.423   \n",
              "...                        ...                ...            ...   \n",
              "36557272              1045.524            234.903         78.683   \n",
              "36492163              1045.524            234.903         78.683   \n",
              "36504430              1045.524            234.903         78.683   \n",
              "36544670              1045.524            234.903         78.683   \n",
              "36386612              1045.524            234.903         78.683   \n",
              "\n",
              "          deposit+rent  tenure_self_ratio  tenure_jeonse_ratio   \n",
              "id                                                               \n",
              "36293764     29.750000           0.610950             0.116828  \\\n",
              "36576214     31.750000           0.610950             0.116828   \n",
              "36533474     52.916667           0.610950             0.116828   \n",
              "36485939    127.500000           0.610950             0.116828   \n",
              "36485528     42.916667           0.610950             0.116828   \n",
              "...                ...                ...                  ...   \n",
              "36557272     60.833333           0.579756             0.188986   \n",
              "36492163     71.666667           0.579756             0.188986   \n",
              "36504430     42.916667           0.579756             0.188986   \n",
              "36544670     55.833333           0.579756             0.188986   \n",
              "36386612     67.500000           0.579756             0.188986   \n",
              "\n",
              "          tenure_monthly_ratio  \n",
              "id                              \n",
              "36293764              0.238929  \n",
              "36576214              0.238929  \n",
              "36533474              0.238929  \n",
              "36485939              0.238929  \n",
              "36485528              0.238929  \n",
              "...                        ...  \n",
              "36557272              0.204133  \n",
              "36492163              0.204133  \n",
              "36504430              0.204133  \n",
              "36544670              0.204133  \n",
              "36386612              0.204133  \n",
              "\n",
              "[34208 rows x 16 columns]"
            ]
          },
          "execution_count": 45,
          "metadata": {},
          "output_type": "execute_result"
        }
      ],
      "source": [
        "df_highcor"
      ]
    },
    {
      "cell_type": "code",
      "execution_count": null,
      "metadata": {
        "id": "pfwceBlvf-O9",
        "outputId": "cfa4a071-4f86-42a4-eeaf-ab1e06862640"
      },
      "outputs": [
        {
          "name": "stderr",
          "output_type": "stream",
          "text": [
            "c:\\ProgramData\\Anaconda3\\lib\\site-packages\\seaborn\\utils.py:95: UserWarning: Glyph 8722 (\\N{MINUS SIGN}) missing from current font.\n",
            "  fig.canvas.draw()\n"
          ]
        },
        {
          "data": {
            "text/plain": [
              "<Axes: >"
            ]
          },
          "execution_count": 46,
          "metadata": {},
          "output_type": "execute_result"
        },
        {
          "name": "stderr",
          "output_type": "stream",
          "text": [
            "c:\\ProgramData\\Anaconda3\\lib\\site-packages\\IPython\\core\\events.py:89: UserWarning: Glyph 8722 (\\N{MINUS SIGN}) missing from current font.\n",
            "  func(*args, **kwargs)\n",
            "c:\\ProgramData\\Anaconda3\\lib\\site-packages\\IPython\\core\\pylabtools.py:151: UserWarning: Glyph 8722 (\\N{MINUS SIGN}) missing from current font.\n",
            "  fig.canvas.print_figure(bytes_io, **kw)\n"
          ]
        },
        {
          "data": {
            "image/png": "[encoded data removed]",
            "text/plain": [
              "<Figure size 1500x1500 with 2 Axes>"
            ]
          },
          "metadata": {},
          "output_type": "display_data"
        }
      ],
      "source": [
        "#  visualization (corr)\n",
        "plt.rcParams['font.family'] = 'Malgun Gothic' # 한글깨짐 방지\n",
        "plt.figure(figsize=(15,15))\n",
        "sns.heatmap(df_highcor.corr(), annot=True)"
      ]
    },
    {
      "cell_type": "markdown",
      "metadata": {
        "id": "b78qG20Hf-O9"
      },
      "source": [
        "# 3.다중 공선성 확인\n",
        "- VIF 변수 선택법 (의존적인 변수 삭제)\n",
        "- PCA (의존적인 성분 삭제)\n",
        "- 정규화"
      ]
    },
    {
      "cell_type": "code",
      "execution_count": null,
      "metadata": {
        "id": "7LMFj-szf-O-",
        "outputId": "218fea69-561a-4106-9edb-15a234b25e03"
      },
      "outputs": [
        {
          "data": {
            "text/html": [
              "<div>\n",
              "<style scoped>\n",
              "    .dataframe tbody tr th:only-of-type {\n",
              "        vertical-align: middle;\n",
              "    }\n",
              "\n",
              "    .dataframe tbody tr th {\n",
              "        vertical-align: top;\n",
              "    }\n",
              "\n",
              "    .dataframe thead th {\n",
              "        text-align: right;\n",
              "    }\n",
              "</style>\n",
              "<table border=\"1\" class=\"dataframe\">\n",
              "  <thead>\n",
              "    <tr style=\"text-align: right;\">\n",
              "      <th></th>\n",
              "      <th>VIF Factor</th>\n",
              "      <th>features</th>\n",
              "    </tr>\n",
              "  </thead>\n",
              "  <tbody>\n",
              "    <tr>\n",
              "      <th>2</th>\n",
              "      <td>19758.940098</td>\n",
              "      <td>x_w84</td>\n",
              "    </tr>\n",
              "    <tr>\n",
              "      <th>12</th>\n",
              "      <td>5302.375150</td>\n",
              "      <td>tenure_self_ratio</td>\n",
              "    </tr>\n",
              "    <tr>\n",
              "      <th>14</th>\n",
              "      <td>1672.354372</td>\n",
              "      <td>tenure_monthly_ratio</td>\n",
              "    </tr>\n",
              "    <tr>\n",
              "      <th>13</th>\n",
              "      <td>978.741989</td>\n",
              "      <td>tenure_jeonse_ratio</td>\n",
              "    </tr>\n",
              "    <tr>\n",
              "      <th>6</th>\n",
              "      <td>571.641881</td>\n",
              "      <td>app_apt</td>\n",
              "    </tr>\n",
              "    <tr>\n",
              "      <th>5</th>\n",
              "      <td>179.750501</td>\n",
              "      <td>app_dandok</td>\n",
              "    </tr>\n",
              "    <tr>\n",
              "      <th>7</th>\n",
              "      <td>123.253445</td>\n",
              "      <td>app_yeonlip</td>\n",
              "    </tr>\n",
              "    <tr>\n",
              "      <th>3</th>\n",
              "      <td>121.785561</td>\n",
              "      <td>gender_ratio</td>\n",
              "    </tr>\n",
              "    <tr>\n",
              "      <th>11</th>\n",
              "      <td>117.560449</td>\n",
              "      <td>gym_per_ppltn</td>\n",
              "    </tr>\n",
              "    <tr>\n",
              "      <th>9</th>\n",
              "      <td>101.322827</td>\n",
              "      <td>restaurant_per_ppltn</td>\n",
              "    </tr>\n",
              "    <tr>\n",
              "      <th>10</th>\n",
              "      <td>67.921418</td>\n",
              "      <td>medical_per_ppltn</td>\n",
              "    </tr>\n",
              "    <tr>\n",
              "      <th>8</th>\n",
              "      <td>42.003822</td>\n",
              "      <td>convenience_per_ppltn</td>\n",
              "    </tr>\n",
              "    <tr>\n",
              "      <th>0</th>\n",
              "      <td>5.514742</td>\n",
              "      <td>size_m2</td>\n",
              "    </tr>\n",
              "    <tr>\n",
              "      <th>1</th>\n",
              "      <td>4.241998</td>\n",
              "      <td>manage_cost</td>\n",
              "    </tr>\n",
              "    <tr>\n",
              "      <th>4</th>\n",
              "      <td>2.394778</td>\n",
              "      <td>corp_to_pop</td>\n",
              "    </tr>\n",
              "  </tbody>\n",
              "</table>\n",
              "</div>"
            ],
            "text/plain": [
              "      VIF Factor               features\n",
              "2   19758.940098                  x_w84\n",
              "12   5302.375150      tenure_self_ratio\n",
              "14   1672.354372   tenure_monthly_ratio\n",
              "13    978.741989    tenure_jeonse_ratio\n",
              "6     571.641881                app_apt\n",
              "5     179.750501             app_dandok\n",
              "7     123.253445            app_yeonlip\n",
              "3     121.785561           gender_ratio\n",
              "11    117.560449          gym_per_ppltn\n",
              "9     101.322827   restaurant_per_ppltn\n",
              "10     67.921418      medical_per_ppltn\n",
              "8      42.003822  convenience_per_ppltn\n",
              "0       5.514742                size_m2\n",
              "1       4.241998            manage_cost\n",
              "4       2.394778            corp_to_pop"
            ]
          },
          "execution_count": 48,
          "metadata": {},
          "output_type": "execute_result"
        }
      ],
      "source": [
        "# 다중공선성 확인\n",
        "from statsmodels.stats.outliers_influence import variance_inflation_factor\n",
        "\n",
        "# VIF 확인 함수\n",
        "def vif(df):\n",
        "    vif = pd.DataFrame()\n",
        "    vif[\"VIF Factor\"] = [variance_inflation_factor(df.values, i) \n",
        "                        for i in range(df.shape[1])]\n",
        "    vif[\"features\"] = df.columns\n",
        "    return vif\n",
        "\n",
        "\n",
        "vif = vif(df_highcor.drop(['deposit+rent'],axis=1))\n",
        "vif.sort_values(by='VIF Factor', ascending=False)"
      ]
    },
    {
      "cell_type": "code",
      "execution_count": null,
      "metadata": {
        "id": "MONNwvcEf-O-",
        "outputId": "30e14ec7-87db-4dde-bbcd-30b49553f8cb"
      },
      "outputs": [
        {
          "name": "stdout",
          "output_type": "stream",
          "text": [
            "2                     x_w84\n",
            "3              gender_ratio\n",
            "5                app_dandok\n",
            "6                   app_apt\n",
            "7               app_yeonlip\n",
            "8     convenience_per_ppltn\n",
            "9      restaurant_per_ppltn\n",
            "10        medical_per_ppltn\n",
            "11            gym_per_ppltn\n",
            "12        tenure_self_ratio\n",
            "13      tenure_jeonse_ratio\n",
            "14     tenure_monthly_ratio\n",
            "Name: features, dtype: object\n"
          ]
        }
      ],
      "source": [
        "# 다중공선성 높은 피처 \n",
        "## ⭐⭐⭐⭐⭐⭐⭐⭐⭐⭐⭐⭐⭐⭐⭐⭐⭐\n",
        "high_vif_col = vif[vif['VIF Factor']>10].features\n",
        "## ⭐⭐⭐⭐⭐⭐⭐⭐⭐⭐⭐⭐⭐⭐⭐⭐⭐\n",
        "\n",
        "# len(high_vif_col)\n",
        "# print(high_vif_col)"
      ]
    },
    {
      "cell_type": "code",
      "execution_count": null,
      "metadata": {
        "id": "63xXLrUff-O-",
        "outputId": "3e5f0a42-d92d-4705-fa9d-583d2d4d85eb"
      },
      "outputs": [
        {
          "name": "stdout",
          "output_type": "stream",
          "text": [
            "<class 'pandas.core.frame.DataFrame'>\n",
            "Index: 34208 entries, 36293764 to 36386612\n",
            "Data columns (total 58 columns):\n",
            " #   Column                        Non-Null Count  Dtype  \n",
            "---  ------                        --------------  -----  \n",
            " 0   service_type                  34208 non-null  object \n",
            " 1   size_m2                       34208 non-null  float64\n",
            " 2   sales_type                    34208 non-null  object \n",
            " 3   rent                          34208 non-null  int64  \n",
            " 4   deposit                       34208 non-null  int64  \n",
            " 5   manage_cost                   34208 non-null  float64\n",
            " 6   manage_cost_count             34208 non-null  int64  \n",
            " 7   elevator                      34208 non-null  int64  \n",
            " 8   parking                       34208 non-null  int64  \n",
            " 9   near_subways_count            34208 non-null  int64  \n",
            " 10  options_count                 34208 non-null  int64  \n",
            " 11  supermarket_dist              34208 non-null  float64\n",
            " 12  convenience_store_dist        34208 non-null  float64\n",
            " 13  school_dist                   34208 non-null  float64\n",
            " 14  subway_dist                   34208 non-null  float64\n",
            " 15  cultural_venue_dist           34208 non-null  float64\n",
            " 16  public_institution_dist       34208 non-null  float64\n",
            " 17  hospital_dist                 34208 non-null  float64\n",
            " 18  y_w84                         34208 non-null  float64\n",
            " 19  building_dandok_p             34208 non-null  float64\n",
            " 20  building_apt_p                34208 non-null  float64\n",
            " 21  building_yeonlip_p            34208 non-null  float64\n",
            " 22  building_dasedae_p            34208 non-null  float64\n",
            " 23  building_nonresidential_p     34208 non-null  float64\n",
            " 24  building_others_p             34208 non-null  float64\n",
            " 25  ppltn_total                   34208 non-null  float64\n",
            " 26  ppltn_foreign_domestic_ratio  34208 non-null  float64\n",
            " 27  ppltn_upper_65_p              34208 non-null  float64\n",
            " 28  aging                         34208 non-null  int64  \n",
            " 29  aged                          34208 non-null  int64  \n",
            " 30  post_aged                     34208 non-null  int64  \n",
            " 31  ppltn_dnsty                   34208 non-null  float64\n",
            " 32  corp_to_pop                   34208 non-null  float64\n",
            " 33  ppltn_adult_p                 34208 non-null  float64\n",
            " 34  hhd_member_avg                34208 non-null  float64\n",
            " 35  hhd_collective_p              34208 non-null  float64\n",
            " 36  hhd_private_p                 34208 non-null  float64\n",
            " 37  hhd_family_p                  34208 non-null  float64\n",
            " 38  hhd_alone_p                   34208 non-null  float64\n",
            " 39  tenure_total                  34208 non-null  float64\n",
            " 40  app_dasedae                   34208 non-null  float64\n",
            " 41  app_nonresidential            34208 non-null  float64\n",
            " 42  app_officetel                 34208 non-null  float64\n",
            " 43  park_per_area                 34208 non-null  float64\n",
            " 44  green_per_area                34208 non-null  float64\n",
            " 45  dust_level                    34208 non-null  float64\n",
            " 46  ssg_ppltn                     34208 non-null  float64\n",
            " 47  shopping_per_ppltn            34208 non-null  float64\n",
            " 48  grocery_per_ppltn             34208 non-null  float64\n",
            " 49  culture_per_ppltn             34208 non-null  float64\n",
            " 50  ppltn_net_migration_rate      34208 non-null  float64\n",
            " 51  safety_idx                    34208 non-null  float64\n",
            " 52  deposit+rent                  34208 non-null  float64\n",
            " 53  room_direction_score          34208 non-null  int64  \n",
            " 54  manage_cost_inc_num           34208 non-null  int64  \n",
            " 55  near_subways_num              34208 non-null  int64  \n",
            " 56  tenure_free_ratio             34208 non-null  float64\n",
            " 57  room_floor_score              34208 non-null  int64  \n",
            "dtypes: float64(42), int64(14), object(2)\n",
            "memory usage: 16.4+ MB\n"
          ]
        }
      ],
      "source": [
        "df_final = df.drop(col_low_cor,axis=1)\n",
        "df_final = df.drop(high_vif_col, axis=1)\n",
        "\n",
        "df_final.info()"
      ]
    },
    {
      "cell_type": "markdown",
      "metadata": {
        "id": "9-cuJeHHf-O-"
      },
      "source": [
        "# 원핫인코딩"
      ]
    },
    {
      "cell_type": "code",
      "execution_count": null,
      "metadata": {
        "id": "aXQqtTrfaESL",
        "outputId": "c67ab63b-a4e1-44b5-945b-053ed3dcd478"
      },
      "outputs": [
        {
          "name": "stdout",
          "output_type": "stream",
          "text": [
            "<class 'pandas.core.frame.DataFrame'>\n",
            "Index: 34208 entries, 36293764 to 36386612\n",
            "Data columns (total 61 columns):\n",
            " #   Column                        Non-Null Count  Dtype  \n",
            "---  ------                        --------------  -----  \n",
            " 0   size_m2                       34208 non-null  float64\n",
            " 1   rent                          34208 non-null  int64  \n",
            " 2   deposit                       34208 non-null  int64  \n",
            " 3   manage_cost                   34208 non-null  float64\n",
            " 4   manage_cost_count             34208 non-null  int64  \n",
            " 5   elevator                      34208 non-null  int64  \n",
            " 6   parking                       34208 non-null  int64  \n",
            " 7   near_subways_count            34208 non-null  int64  \n",
            " 8   options_count                 34208 non-null  int64  \n",
            " 9   supermarket_dist              34208 non-null  float64\n",
            " 10  convenience_store_dist        34208 non-null  float64\n",
            " 11  school_dist                   34208 non-null  float64\n",
            " 12  subway_dist                   34208 non-null  float64\n",
            " 13  cultural_venue_dist           34208 non-null  float64\n",
            " 14  public_institution_dist       34208 non-null  float64\n",
            " 15  hospital_dist                 34208 non-null  float64\n",
            " 16  y_w84                         34208 non-null  float64\n",
            " 17  building_dandok_p             34208 non-null  float64\n",
            " 18  building_apt_p                34208 non-null  float64\n",
            " 19  building_yeonlip_p            34208 non-null  float64\n",
            " 20  building_dasedae_p            34208 non-null  float64\n",
            " 21  building_nonresidential_p     34208 non-null  float64\n",
            " 22  building_others_p             34208 non-null  float64\n",
            " 23  ppltn_total                   34208 non-null  float64\n",
            " 24  ppltn_foreign_domestic_ratio  34208 non-null  float64\n",
            " 25  ppltn_upper_65_p              34208 non-null  float64\n",
            " 26  aging                         34208 non-null  int64  \n",
            " 27  aged                          34208 non-null  int64  \n",
            " 28  post_aged                     34208 non-null  int64  \n",
            " 29  ppltn_dnsty                   34208 non-null  float64\n",
            " 30  corp_to_pop                   34208 non-null  float64\n",
            " 31  ppltn_adult_p                 34208 non-null  float64\n",
            " 32  hhd_member_avg                34208 non-null  float64\n",
            " 33  hhd_collective_p              34208 non-null  float64\n",
            " 34  hhd_private_p                 34208 non-null  float64\n",
            " 35  hhd_family_p                  34208 non-null  float64\n",
            " 36  hhd_alone_p                   34208 non-null  float64\n",
            " 37  tenure_total                  34208 non-null  float64\n",
            " 38  app_dasedae                   34208 non-null  float64\n",
            " 39  app_nonresidential            34208 non-null  float64\n",
            " 40  app_officetel                 34208 non-null  float64\n",
            " 41  park_per_area                 34208 non-null  float64\n",
            " 42  green_per_area                34208 non-null  float64\n",
            " 43  dust_level                    34208 non-null  float64\n",
            " 44  ssg_ppltn                     34208 non-null  float64\n",
            " 45  shopping_per_ppltn            34208 non-null  float64\n",
            " 46  grocery_per_ppltn             34208 non-null  float64\n",
            " 47  culture_per_ppltn             34208 non-null  float64\n",
            " 48  ppltn_net_migration_rate      34208 non-null  float64\n",
            " 49  safety_idx                    34208 non-null  float64\n",
            " 50  deposit+rent                  34208 non-null  float64\n",
            " 51  room_direction_score          34208 non-null  int64  \n",
            " 52  manage_cost_inc_num           34208 non-null  int64  \n",
            " 53  near_subways_num              34208 non-null  int64  \n",
            " 54  tenure_free_ratio             34208 non-null  float64\n",
            " 55  room_floor_score              34208 non-null  int64  \n",
            " 56  service_type_빌라               34208 non-null  int32  \n",
            " 57  service_type_오피스텔             34208 non-null  int32  \n",
            " 58  service_type_원룸               34208 non-null  int32  \n",
            " 59  sales_type_월세                 34208 non-null  int32  \n",
            " 60  sales_type_전세                 34208 non-null  int32  \n",
            "dtypes: float64(42), int32(5), int64(14)\n",
            "memory usage: 16.5 MB\n"
          ]
        }
      ],
      "source": [
        "# 합친 데이터 -> 원핫 인코딩\n",
        "df_final=pd.get_dummies(df_final, dtype=int)\n",
        "# , dtype=int\n",
        "\n",
        "df_final.info()"
      ]
    },
    {
      "cell_type": "markdown",
      "metadata": {
        "id": "D3sWBOdaf-O-"
      },
      "source": [
        "******다중공선성 제거 후 테스트"
      ]
    },
    {
      "cell_type": "code",
      "execution_count": null,
      "metadata": {
        "id": "x9ldNZ5ff-O_"
      },
      "outputs": [],
      "source": [
        "# # 스케일링\n",
        "# from sklearn.preprocessing import StandardScaler\n",
        "\n",
        "# df_encoded_X = df_encoded.drop('deposit+rent',axis=1)\n",
        "# df_encoded_y = df_encoded['deposit+rent']\n",
        "\n",
        "# scaler = StandardScaler()\n",
        "# df_scaled_X= scaler.fit_transform(df_encoded_X)\n"
      ]
    },
    {
      "cell_type": "code",
      "execution_count": null,
      "metadata": {
        "id": "-tpNPoMif-PA",
        "outputId": "f8366dc4-558f-4928-ab44-6cfb92e36729"
      },
      "outputs": [
        {
          "name": "stdout",
          "output_type": "stream",
          "text": [
            "1.0\n",
            "1.0\n"
          ]
        }
      ],
      "source": [
        "from sklearn.linear_model import LinearRegression\n",
        "from sklearn.model_selection import train_test_split\n",
        "\n",
        "X = df_final.drop('deposit+rent',axis=1)\n",
        "y = df_final['deposit+rent']\n",
        "\n",
        "X_train, X_test, y_train, y_test = train_test_split(X, y, test_size=0.3,random_state=42,shuffle=True)\n",
        "\n",
        "lr = LinearRegression()\n",
        "lr.fit(X_train, y_train)\n",
        "\n",
        "print(lr.score(X_train, y_train))\n",
        "print(lr.score(X_test, y_test))"
      ]
    },
    {
      "cell_type": "code",
      "execution_count": null,
      "metadata": {
        "id": "EsWW1fSSf-PA",
        "outputId": "1c718efc-c0f4-487b-d84f-ac151fce6ea7"
      },
      "outputs": [
        {
          "name": "stdout",
          "output_type": "stream",
          "text": [
            "교차 검증별 정확도: [1. 1. 1. 1. 1.]\n",
            "평균 검증 정확도: 1.0\n"
          ]
        }
      ],
      "source": [
        "from sklearn.model_selection import cross_val_score\n",
        "\n",
        "\n",
        "lr_reg = LinearRegression()\n",
        "\n",
        "scores = cross_val_score(lr_reg, X , y, scoring='r2', cv=5)\n",
        "\n",
        "print('교차 검증별 정확도:', scores)\n",
        "print('평균 검증 정확도:', round(np.mean(scores),4))"
      ]
    }
  ],
  "metadata": {
    "colab": {
      "provenance": [],
      "include_colab_link": true
    },
    "kernelspec": {
      "display_name": "base",
      "language": "python",
      "name": "python3"
    },
    "language_info": {
      "codemirror_mode": {
        "name": "ipython",
        "version": 3
      },
      "file_extension": ".py",
      "mimetype": "text/x-python",
      "name": "python",
      "nbconvert_exporter": "python",
      "pygments_lexer": "ipython3",
      "version": "3.8.8"
    }
  },
  "nbformat": 4,
  "nbformat_minor": 0
}